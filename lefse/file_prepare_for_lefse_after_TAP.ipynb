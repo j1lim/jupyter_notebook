{
 "cells": [
  {
   "cell_type": "code",
   "execution_count": 1,
   "metadata": {},
   "outputs": [],
   "source": [
    "import os\n",
    "import copy\n",
    "dir_notebook = os.getenv( \"HOME\" )\n",
    "file_include = dir_notebook + \"/_include.ipynb\"\n",
    "%run $file_include"
   ]
  },
  {
   "cell_type": "markdown",
   "metadata": {},
   "source": []
  },
  {
   "cell_type": "code",
   "execution_count": 2,
   "metadata": {},
   "outputs": [
    {
     "name": "stdout",
     "output_type": "stream",
     "text": [
      "4\n",
      "['1st_sample_total', '2nd_sample_total', 'korea_cow', 'milk_cow']\n"
     ]
    }
   ],
   "source": [
    "dir_TAP_results = \"/home/j1lim/sbl_nas/lab_hsyoo/MAP/16S/TaxaAssignPy_results/\"\n",
    "lst_TAP_results = os.listdir(dir_TAP_results)\n",
    "lst_TAP_results.sort()\n",
    "\n",
    "print len(lst_TAP_results)\n",
    "print lst_TAP_results[:5]"
   ]
  },
  {
   "cell_type": "code",
   "execution_count": 3,
   "metadata": {},
   "outputs": [
    {
     "name": "stdout",
     "output_type": "stream",
     "text": [
      "[['A', 'A', 'A', 'A', 'A', 'A', 'A', 'A', 'A', 'A', 'A', 'A', 'A', 'A', 'A', 'A', 'A', 'A', 'A', 'A', 'B', 'B', 'B', 'B', 'B', 'B', 'B', 'B', 'B', 'B', 'B', 'B', 'B', 'B', 'B', 'B'], ['Hanwoo', 'Hanwoo', 'Hanwoo', 'Hanwoo', 'Hanwoo', 'Hanwoo', 'Hanwoo', 'Hanwoo', 'Hanwoo', 'Hanwoo', 'Dairy', 'Dairy', 'Dairy', 'Dairy', 'Dairy', 'Dairy', 'Dairy', 'Dairy', 'Dairy', 'Dairy', 'Both', 'Both', 'Both', 'ELISA', 'ELISA', 'ELISA', 'ELISA', 'PCR', 'PCR', 'PCR', 'PCR', 'Fluctuation', 'Fluctuation', 'Fluctuation', 'Fluctuation', 'Fluctuation'], ['K8', 'K10', 'K15', 'K19', 'K25', 'K28', 'K29', 'K31', 'K33', 'K34', '23', '38', '81', '123', '157', '196', '198', '226', '228', '229', '134', '188', '202', '167', '10', '11', '17', '97', '224', '237', '82', '13', '9', '181', '168', '52']]\n",
      "36\n",
      "K34\n",
      "['A', 'Hanwoo']\n"
     ]
    }
   ],
   "source": [
    "temp_file = \"/media/sf_j1/MAP/16S/lefse/otu_table.blast_NCBI_16S_L6-C.txt\"\n",
    "f = open(temp_file, \"r\")\n",
    "r = f.readlines()\n",
    "f.close()\n",
    "\n",
    "temp_matrix = []\n",
    "for x in range(3):\n",
    "    temp_line = r[x].replace(\"\\r\\n\", \"\")\n",
    "    temp_lst = temp_line.split(\"\\t\")\n",
    "    temp_matrix.append(temp_lst[1:])\n",
    "\n",
    "print temp_matrix\n",
    "\n",
    "dic_samples = {}\n",
    "for x in range(len(temp_matrix[0])):\n",
    "    dic_samples[temp_matrix[2][x]] = [temp_matrix[0][x], temp_matrix[1][x]]\n",
    "    \n",
    "print len(dic_samples)\n",
    "for k, v in dic_samples.items():\n",
    "    print k\n",
    "    print v\n",
    "    break"
   ]
  },
  {
   "cell_type": "code",
   "execution_count": 4,
   "metadata": {},
   "outputs": [
    {
     "name": "stdout",
     "output_type": "stream",
     "text": [
      "2\n",
      "[['123', '157', '196', '198', '226', '228', '229', '23', '38', '81', 'K10', 'K15', 'K19', 'K25', 'K28', 'K29', 'K31', 'K33', 'K34', 'K8'], ['10', '11', '13', '134', '167', '168', '17', '181', '188', '202', '224', '237', '52', '82', '9', '97']]\n",
      "36\n",
      "{'K34': 18, 'K10': 10, 'K31': 16, '198': 3, 'K15': 11, 'K19': 12, '196': 2, '202': 9, '134': 3, '82': 13, 'K8': 19, '81': 9, '157': 1, '23': 7, '181': 7, '9': 14, '188': 8, 'K28': 14, 'K29': 15, 'K25': 13, '123': 0, '168': 5, '229': 6, '228': 5, '226': 4, '167': 4, '97': 15, '11': 1, '10': 0, '13': 2, '38': 8, '17': 6, '224': 10, '52': 12, 'K33': 17, '237': 11}\n",
      "['123', '157', '196', '198', '226', '228', '229', '23', '38', '81', 'K10', 'K15', 'K19', 'K25', 'K28', 'K29', 'K31', 'K33', 'K34', 'K8', '10', '11', '13', '134', '167', '168', '17', '181', '188', '202', '224', '237', '52', '82', '9', '97']\n"
     ]
    }
   ],
   "source": [
    "dic_order = {}\n",
    "lst_samples = []\n",
    "\n",
    "for x in lst_TAP_results:\n",
    "    if \"_total\" not in x:\n",
    "        continue\n",
    "    temp_dir = dir_TAP_results + \"%s/result_summary/%s_otu_table.txt\" % (x, x)\n",
    "    \n",
    "    f = open(temp_dir, \"r\")\n",
    "    r = f.readlines()\n",
    "    f.close()\n",
    "    \n",
    "    temp_lst = r[0].replace(\"\\n\", \"\").split(\"\\t\")\n",
    "    lst_samples.append(temp_lst[1:])\n",
    "    \n",
    "    temp_num = 0\n",
    "    for y in temp_lst:\n",
    "        if \"#\" in y:\n",
    "            continue\n",
    "        dic_order[y] = temp_num\n",
    "        temp_num += 1\n",
    "    #break\n",
    "\n",
    "print len(lst_samples)\n",
    "print lst_samples\n",
    "\n",
    "print len(dic_order)\n",
    "print dic_order\n",
    "\n",
    "lst_total_samples = lst_samples[0] + lst_samples[1]\n",
    "print lst_total_samples"
   ]
  },
  {
   "cell_type": "code",
   "execution_count": 5,
   "metadata": {},
   "outputs": [
    {
     "name": "stdout",
     "output_type": "stream",
     "text": [
      "[['Group', 'A', 'A', 'A', 'A', 'A', 'A', 'A', 'A', 'A', 'A', 'A', 'A', 'A', 'A', 'A', 'A', 'A', 'A', 'A', 'A', 'B', 'B', 'B', 'B', 'B', 'B', 'B', 'B', 'B', 'B', 'B', 'B', 'B', 'B', 'B', 'B'], ['Subgroup', 'Dairy', 'Dairy', 'Dairy', 'Dairy', 'Dairy', 'Dairy', 'Dairy', 'Dairy', 'Dairy', 'Dairy', 'Hanwoo', 'Hanwoo', 'Hanwoo', 'Hanwoo', 'Hanwoo', 'Hanwoo', 'Hanwoo', 'Hanwoo', 'Hanwoo', 'Hanwoo', 'ELISA', 'ELISA', 'Fluctuation', 'Both', 'ELISA', 'Fluctuation', 'ELISA', 'Fluctuation', 'Both', 'Both', 'PCR', 'PCR', 'Fluctuation', 'PCR', 'Fluctuation', 'PCR'], ['Sample_ID', '123', '157', '196', '198', '226', '228', '229', '23', '38', '81', 'K10', 'K15', 'K19', 'K25', 'K28', 'K29', 'K31', 'K33', 'K34', 'K8', '10', '11', '13', '134', '167', '168', '17', '181', '188', '202', '224', '237', '52', '82', '9', '97']]\n"
     ]
    }
   ],
   "source": [
    "matrix_ = [ [\"Group\"], [\"Subgroup\"], [\"Sample_ID\"] ]\n",
    "for x in lst_samples[0] + lst_samples[1]:\n",
    "    matrix_[0].append(dic_samples[x][0])\n",
    "    matrix_[1].append(dic_samples[x][1])\n",
    "    matrix_[2].append(x)\n",
    "\n",
    "print matrix_"
   ]
  },
  {
   "cell_type": "markdown",
   "metadata": {},
   "source": []
  },
  {
   "cell_type": "code",
   "execution_count": 6,
   "metadata": {
    "scrolled": true
   },
   "outputs": [
    {
     "name": "stdout",
     "output_type": "stream",
     "text": [
      "1st_sample_total \n",
      "\n",
      "2nd_sample_total \n",
      "\n",
      "5409\n",
      "2nd_sample_total_OTU_271\n",
      "{'168': '2'}\n"
     ]
    }
   ],
   "source": [
    "dic_otu_sample_count = {}\n",
    "\n",
    "for x in lst_TAP_results:\n",
    "    if \"_total\" not in x:\n",
    "        continue\n",
    "    print x, \"\\n\"\n",
    "    dir_summary = dir_TAP_results + \"%s/result_summary/\" % x\n",
    "    otu_table_file = dir_summary + \"%s_otu_table.txt\" % x\n",
    "    #print otu_table_file\n",
    "    f = open(otu_table_file, \"r\")\n",
    "    r = f.readlines()\n",
    "    f.close()\n",
    "    \n",
    "    for y in r:\n",
    "        y = y.replace(\"\\n\", \"\")\n",
    "        spl_ = y.split(\"\\t\")\n",
    "        if y.startswith(\"#OTU\"):\n",
    "            continue\n",
    "        #print spl_\n",
    "        \n",
    "        otu_id = spl_[0]\n",
    "        dic_otu_sample_count[otu_id] = {}\n",
    "        \n",
    "        temp_num = -1\n",
    "        if x.startswith(\"2nd_sample\"):\n",
    "                temp_num = 19\n",
    "                \n",
    "        for z in spl_[1:]:\n",
    "            temp_num += 1\n",
    "            if z == \"0\":\n",
    "                continue\n",
    "            else:\n",
    "                dic_otu_sample_count[otu_id][lst_total_samples[temp_num]] = z\n",
    "        \n",
    "        #break\n",
    "    \n",
    "    #break\n",
    "\n",
    "print len(dic_otu_sample_count)\n",
    "for k, v in dic_otu_sample_count.items():\n",
    "    print k\n",
    "    print v\n",
    "    break"
   ]
  },
  {
   "cell_type": "code",
   "execution_count": 7,
   "metadata": {},
   "outputs": [
    {
     "name": "stdout",
     "output_type": "stream",
     "text": [
      "1st_sample_total \n",
      "\n",
      "2nd_sample_total \n",
      "\n",
      "323\n",
      "KEY:  D_0__Bacteria|D_1__Firmicutes|D_2__Clostridia|D_3__Clostridiales|D_4__Lachnospiraceae|D_5__Lachnospiraceae NC2004 group|D_6__under_confi_lv\n",
      "Value:  ['1st_sample_total_OTU_3106']\n"
     ]
    }
   ],
   "source": [
    "dic_otu_taxa = {}\n",
    "\n",
    "for x in lst_TAP_results:\n",
    "    if \"_total\" not in x:\n",
    "        continue\n",
    "    print x, \"\\n\"\n",
    "    dir_summary = dir_TAP_results + \"%s/result_summary/\" % x\n",
    "    otu_taxa_file = dir_summary + \"%s_RDP-classifier_silva_assignments.txt\" % x\n",
    "    #print otu_taxa_file\n",
    "    \n",
    "    f = open(otu_taxa_file, \"r\")\n",
    "    r = f.readlines()\n",
    "    f.close()\n",
    "    \n",
    "    for y in r:\n",
    "        y = y.replace(\"\\r\\n\", \"\")\n",
    "        spl_ = y.split(\"\\t\")\n",
    "        #print spl_\n",
    "        \n",
    "        otu_id = spl_[0]\n",
    "        temp_lst = []\n",
    "        \n",
    "        spl_ = spl_[1].split(\";\")\n",
    "        for z in spl_:\n",
    "            z = z.split(\"(\")\n",
    "            temp_taxa_rank = \"(\".join(z[:-1])\n",
    "            temp_confi_lv = z[-1][:-1]\n",
    "            if float(temp_confi_lv) < 0.8:\n",
    "                temp_taxa_rank = temp_taxa_rank[:5] + \"under_confi_lv\"\n",
    "                temp_lst.append(temp_taxa_rank)\n",
    "                break\n",
    "            temp_lst.append(temp_taxa_rank)\n",
    "        taxa_name = \"|\".join(temp_lst)\n",
    "        \n",
    "        if taxa_name not in dic_otu_taxa.keys():\n",
    "            dic_otu_taxa[taxa_name] = [otu_id]\n",
    "        else:\n",
    "            dic_otu_taxa[taxa_name].append(otu_id)\n",
    "        \n",
    "        #break\n",
    "    \n",
    "    #break\n",
    "\n",
    "print len(dic_otu_taxa)\n",
    "for k, v in dic_otu_taxa.items():\n",
    "    print \"KEY: \", k\n",
    "    print \"Value: \", v\n",
    "    break"
   ]
  },
  {
   "cell_type": "markdown",
   "metadata": {},
   "source": []
  },
  {
   "cell_type": "code",
   "execution_count": 9,
   "metadata": {},
   "outputs": [],
   "source": [
    "output_for_lefse = \"/media/sf_j1/MAP/16S/lefse/1st_vs_2nd_lefse_counts.txt\"\n",
    "f_w = open(output_for_lefse, \"w\")\n",
    "\n",
    "for x in matrix_:\n",
    "    f_w.write(\"\\t\".join(x) + \"\\r\\n\")\n",
    "\n",
    "for k, v in dic_otu_taxa.items():\n",
    "    #print k\n",
    "    #print v\n",
    "    temp_otu_lst = v\n",
    "    \n",
    "    temp_lst = [k]\n",
    "    for x in lst_total_samples:\n",
    "        #print x,\n",
    "        temp_num = 0\n",
    "        for y in v:\n",
    "            #print y,\n",
    "            temp_otu_count = dic_otu_sample_count[y]\n",
    "            #print temp_otu_count\n",
    "            if x in temp_otu_count.keys():\n",
    "                temp_num += int(temp_otu_count[x])\n",
    "        temp_lst.append(str(temp_num))\n",
    "        #print \n",
    "        #break\n",
    "    \n",
    "    f_w.write(\"\\t\".join(temp_lst) + \"\\r\\n\")\n",
    "    #break\n",
    "    \n",
    "f_w.close()"
   ]
  },
  {
   "cell_type": "code",
   "execution_count": 12,
   "metadata": {},
   "outputs": [],
   "source": [
    "f = open(output_for_lefse, \"r\")\n",
    "r = f.readlines()\n",
    "f.close()\n",
    "\n",
    "count_matrix = []\n",
    "sample_count_total = [0]\n",
    "for x in range(len(r)):\n",
    "    l = r[x].replace(\"\\r\\n\", \"\")\n",
    "    spl_ = l.split(\"\\t\")\n",
    "    \n",
    "    if x < 3:\n",
    "        count_matrix.append(spl_)\n",
    "        continue\n",
    "    \n",
    "    if x == 3:\n",
    "        sample_count_total = [0 for m in range(len(spl_) - 1)]\n",
    "    \n",
    "    temp_num = 0\n",
    "    for y in spl_[1:]:\n",
    "        sample_count_total[temp_num] += int(y)\n",
    "        temp_num += 1\n",
    "    #break\n",
    "\n",
    "f_w = open(\"/media/sf_j1/MAP/16S/lefse/1st_vs_2nd_lefse_ratio.txt\", \"w\")\n",
    "\n",
    "for x in count_matrix:\n",
    "    f_w.write(\"\\t\".join(x) + \"\\r\\n\")\n",
    "\n",
    "for x in range(3, len(r)):\n",
    "    l = r[x].replace(\"\\r\\n\", \"\")\n",
    "    spl_ = l.split(\"\\t\")\n",
    "    #print spl_\n",
    "    temp_lst = [spl_[0]]\n",
    "    \n",
    "    temp_num = 0\n",
    "    for y in spl_[1:]:\n",
    "        temp_lst.append( str(round(float(y) / sample_count_total[temp_num], 9)))\n",
    "        temp_num += 1\n",
    "    f_w.write(\"\\t\".join(temp_lst) + \"\\r\\n\")\n",
    "    #break\n",
    "\n",
    "f_w.close()"
   ]
  },
  {
   "cell_type": "markdown",
   "metadata": {},
   "source": []
  },
  {
   "cell_type": "code",
   "execution_count": null,
   "metadata": {},
   "outputs": [],
   "source": []
  }
 ],
 "metadata": {
  "kernelspec": {
   "display_name": "Python 2",
   "language": "python",
   "name": "python2"
  },
  "language_info": {
   "codemirror_mode": {
    "name": "ipython",
    "version": 2
   },
   "file_extension": ".py",
   "mimetype": "text/x-python",
   "name": "python",
   "nbconvert_exporter": "python",
   "pygments_lexer": "ipython2",
   "version": "2.7.17"
  }
 },
 "nbformat": 4,
 "nbformat_minor": 2
}
