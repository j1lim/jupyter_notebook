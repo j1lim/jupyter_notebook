{
 "cells": [
  {
   "cell_type": "code",
   "execution_count": 1,
   "metadata": {},
   "outputs": [],
   "source": [
    "import os\n",
    "from IPython.display import clear_output\n",
    "dir_notebook = os.getenv( \"HOME\" )\n",
    "file_include = dir_notebook + \"/_include.ipynb\"\n",
    "%run $file_include"
   ]
  },
  {
   "cell_type": "markdown",
   "metadata": {},
   "source": []
  },
  {
   "cell_type": "code",
   "execution_count": 7,
   "metadata": {},
   "outputs": [
    {
     "name": "stdout",
     "output_type": "stream",
     "text": [
      "format_input.py /media/sf_j1/MAP/16S/lefse/1st_vs_2nd_lefse_ratio.txt /media/sf_j1/MAP/16S/lefse/1st_vs_2nd_lefse_ratio.in -c 1 -s 2 -u 3 -o 1000000\n",
      "run_lefse.py /media/sf_j1/MAP/16S/lefse/1st_vs_2nd_lefse_ratio.in /media/sf_j1/MAP/16S/lefse/1st_vs_2nd_lefse_ratio.res\n",
      "Number of significantly discriminative features: 252 ( 383 ) before internal wilcoxon\n",
      "Number of discriminative features with abs LDA score > 2.0 : 252\n",
      "plot_res.py /media/sf_j1/MAP/16S/lefse/1st_vs_2nd_lefse_ratio.res /media/sf_j1/MAP/16S/lefse/1st_vs_2nd_lefse_ratio_bar.svg --format svg\n",
      "plot_cladogram.py /media/sf_j1/MAP/16S/lefse/1st_vs_2nd_lefse_ratio.res /media/sf_j1/MAP/16S/lefse/1st_vs_2nd_lefse_ratio_cladogram.svg --format svg\n",
      "clade_sep parameter too large, lowered to 0.200225830078\n",
      "\n",
      "===================================================\n",
      "\n"
     ]
    }
   ],
   "source": [
    "raw_input_ = \"/media/sf_j1/MAP/16S/lefse/1st_vs_2nd_lefse_ratio.txt\"\n",
    "lef_input = raw_input_.replace(\".txt\", \".in\")\n",
    "command_make_lef_input = \"format_input.py %s %s -c 1 -s 2 -u 3 -o 1000000\" % (raw_input_, lef_input)\n",
    "print command_make_lef_input\n",
    "!$command_make_lef_input\n",
    "\n",
    "lef_result = lef_input.replace(\".in\", \".res\")\n",
    "command_make_lef_result = \"run_lefse.py %s %s\" % (lef_input, lef_result)\n",
    "print command_make_lef_result\n",
    "!$command_make_lef_result\n",
    "\n",
    "bar_graph_figure = lef_input.replace(\".in\", \"_bar.svg\")\n",
    "command_visualize_bar_graph = \"plot_res.py %s %s --format svg\" % (lef_result, bar_graph_figure)\n",
    "print command_visualize_bar_graph\n",
    "!$command_visualize_bar_graph\n",
    "\n",
    "cladogram_figure = lef_input.replace(\".in\", \"_cladogram.svg\")\n",
    "command_visualize_cladogram = \"plot_cladogram.py %s %s --format svg\" % (lef_result, cladogram_figure)\n",
    "print command_visualize_cladogram\n",
    "!$command_visualize_cladogram\n",
    "\n",
    "print \"\\n===================================================\\n\""
   ]
  },
  {
   "cell_type": "markdown",
   "metadata": {},
   "source": []
  },
  {
   "cell_type": "code",
   "execution_count": 2,
   "metadata": {},
   "outputs": [
    {
     "name": "stdout",
     "output_type": "stream",
     "text": [
      "7\n",
      "['0_1st_2nd_lefse.txt', '1_1st_2nd_lefse.txt', '2_1st_2nd_lefse.txt', '3_1st_2nd_lefse.txt', '4_1st_2nd_lefse.txt', '5_1st_2nd_lefse.txt', '6_1st_2nd_lefse.txt']\n"
     ]
    }
   ],
   "source": [
    "lefse_raw_dir = \"/media/sf_j1/MAP/16S/lefse/1st_samples_vs_2nd_samples/\"\n",
    "lst_lefse_file = os.listdir(lefse_raw_dir)\n",
    "lst_lefse_file.remove(\"results\")\n",
    "lst_lefse_file.sort()\n",
    "\n",
    "print len(lst_lefse_file)\n",
    "print lst_lefse_file"
   ]
  },
  {
   "cell_type": "code",
   "execution_count": 3,
   "metadata": {
    "scrolled": true
   },
   "outputs": [
    {
     "name": "stdout",
     "output_type": "stream",
     "text": [
      "format_input.py /media/sf_j1/MAP/16S/lefse/1st_samples_vs_2nd_samples/6_1st_2nd_lefse.txt /media/sf_j1/MAP/16S/lefse/1st_samples_vs_2nd_samples/results/6_1st_2nd_lefse.in -c 1 -s 2 -u 3 -o 1000000\n",
      "run_lefse.py /media/sf_j1/MAP/16S/lefse/1st_samples_vs_2nd_samples/results/6_1st_2nd_lefse.in /media/sf_j1/MAP/16S/lefse/1st_samples_vs_2nd_samples/results/6_1st_2nd_lefse.res\n",
      "Number of significantly discriminative features: 5 ( 18 ) before internal wilcoxon\n",
      "Number of discriminative features with abs LDA score > 2.0 : 5\n",
      "plot_res.py /media/sf_j1/MAP/16S/lefse/1st_samples_vs_2nd_samples/results/6_1st_2nd_lefse.res /media/sf_j1/MAP/16S/lefse/1st_samples_vs_2nd_samples/results/6_1st_2nd_lefse_bar.svg --format svg\n",
      "plot_cladogram.py /media/sf_j1/MAP/16S/lefse/1st_samples_vs_2nd_samples/results/6_1st_2nd_lefse.res /media/sf_j1/MAP/16S/lefse/1st_samples_vs_2nd_samples/results/6_1st_2nd_lefse_cladogram.svg --format svg\n",
      "\n",
      "===================================================\n",
      "\n",
      "Done\n"
     ]
    }
   ],
   "source": [
    "for x in lst_lefse_file:\n",
    "    clear_output()\n",
    "    \n",
    "    raw_input_ = lefse_raw_dir + x\n",
    "    lef_input = lefse_raw_dir + \"results/\" + x.replace(\".txt\", \".in\")\n",
    "    command_make_lef_input = \"format_input.py %s %s -c 1 -s 2 -u 3 -o 1000000\" % (raw_input_, lef_input)\n",
    "    print command_make_lef_input\n",
    "    !$command_make_lef_input\n",
    "\n",
    "    lef_result = lef_input.replace(\".in\", \".res\")\n",
    "    command_make_lef_result = \"run_lefse.py %s %s\" % (lef_input, lef_result)\n",
    "    print command_make_lef_result\n",
    "    !$command_make_lef_result\n",
    "\n",
    "    bar_graph_figure = lef_input.replace(\".in\", \"_bar.svg\")\n",
    "    command_visualize_bar_graph = \"plot_res.py %s %s --format svg\" % (lef_result, bar_graph_figure)\n",
    "    print command_visualize_bar_graph\n",
    "    !$command_visualize_bar_graph\n",
    "\n",
    "    cladogram_figure = lef_input.replace(\".in\", \"_cladogram.svg\")\n",
    "    command_visualize_cladogram = \"plot_cladogram.py %s %s --format svg\" % (lef_result, cladogram_figure)\n",
    "    print command_visualize_cladogram\n",
    "    !$command_visualize_cladogram\n",
    "\n",
    "    print \"\\n===================================================\\n\"\n",
    "    \n",
    "print \"Done\""
   ]
  },
  {
   "cell_type": "code",
   "execution_count": null,
   "metadata": {},
   "outputs": [],
   "source": []
  }
 ],
 "metadata": {
  "kernelspec": {
   "display_name": "Python 2",
   "language": "python",
   "name": "python2"
  },
  "language_info": {
   "codemirror_mode": {
    "name": "ipython",
    "version": 2
   },
   "file_extension": ".py",
   "mimetype": "text/x-python",
   "name": "python",
   "nbconvert_exporter": "python",
   "pygments_lexer": "ipython2",
   "version": "2.7.17"
  }
 },
 "nbformat": 4,
 "nbformat_minor": 2
}
