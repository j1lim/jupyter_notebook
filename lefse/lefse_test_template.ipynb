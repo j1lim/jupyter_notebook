{
 "cells": [
  {
   "cell_type": "code",
   "execution_count": 2,
   "metadata": {},
   "outputs": [],
   "source": [
    "import os\n",
    "dir_notebook = os.getenv( \"HOME\" )\n",
    "file_include = dir_notebook + \"/_include.ipynb\"\n",
    "%run $file_include"
   ]
  },
  {
   "cell_type": "code",
   "execution_count": 4,
   "metadata": {},
   "outputs": [
    {
     "name": "stdout",
     "output_type": "stream",
     "text": [
      "format_input.py /home/j1lim/lefse/hmp_small_aerobiosis.txt /home/j1lim/lefse/hmp_small_aerobiosis.in -c 1 -s 2 -u 3 -o 1000000\n"
     ]
    }
   ],
   "source": [
    "raw_input_ = \"/home/j1lim/lefse/hmp_small_aerobiosis.txt\"\n",
    "lef_input = raw_input_.replace(\".txt\", \".in\")\n",
    "command_make_lef_input = \"format_input.py %s %s -c 1 -s 2 -u 3 -o 1000000\" % (raw_input_, lef_input)\n",
    "print command_make_lef_input\n",
    "!$command_make_lef_input"
   ]
  },
  {
   "cell_type": "code",
   "execution_count": 6,
   "metadata": {},
   "outputs": [
    {
     "name": "stdout",
     "output_type": "stream",
     "text": [
      "run_lefse.py /home/j1lim/lefse/hmp_small_aerobiosis.in /home/j1lim/lefse/hmp_small_aerobiosis.res\n",
      "Number of significantly discriminative features: 51 ( 131 ) before internal wilcoxon\n",
      "Number of discriminative features with abs LDA score > 2.0 : 51\n"
     ]
    }
   ],
   "source": [
    "lef_result = raw_input_.replace(\".txt\", \".res\")\n",
    "command_make_lef_result = \"run_lefse.py %s %s\" % (lef_input, lef_result)\n",
    "print command_make_lef_result\n",
    "!$command_make_lef_result"
   ]
  },
  {
   "cell_type": "code",
   "execution_count": 7,
   "metadata": {},
   "outputs": [
    {
     "name": "stdout",
     "output_type": "stream",
     "text": [
      "plot_res.py /home/j1lim/lefse/hmp_small_aerobiosis.res /home/j1lim/lefse/hmp_small_aerobiosis_bar.svg --format svg\n"
     ]
    }
   ],
   "source": [
    "bar_graph_figure = raw_input_.replace(\".txt\", \"_bar.svg\")\n",
    "command_visualize_bar_graph = \"plot_res.py %s %s --format svg\" % (lef_result, bar_graph_figure)\n",
    "print command_visualize_bar_graph\n",
    "!$command_visualize_bar_graph"
   ]
  },
  {
   "cell_type": "code",
   "execution_count": 8,
   "metadata": {},
   "outputs": [
    {
     "name": "stdout",
     "output_type": "stream",
     "text": [
      "plot_cladogram.py /home/j1lim/lefse/hmp_small_aerobiosis.res /home/j1lim/lefse/hmp_small_aerobiosis_cladogram.svg --format svg\n"
     ]
    }
   ],
   "source": [
    "cladogram_figure = raw_input_.replace(\".txt\", \"_cladogram.svg\")\n",
    "command_visualize_cladogram = \"plot_cladogram.py %s %s --format svg\" % (lef_result, cladogram_figure)\n",
    "print command_visualize_cladogram\n",
    "!$command_visualize_cladogram"
   ]
  },
  {
   "cell_type": "code",
   "execution_count": null,
   "metadata": {},
   "outputs": [],
   "source": []
  }
 ],
 "metadata": {
  "kernelspec": {
   "display_name": "Python 2",
   "language": "python",
   "name": "python2"
  },
  "language_info": {
   "codemirror_mode": {
    "name": "ipython",
    "version": 2
   },
   "file_extension": ".py",
   "mimetype": "text/x-python",
   "name": "python",
   "nbconvert_exporter": "python",
   "pygments_lexer": "ipython2",
   "version": "2.7.17"
  }
 },
 "nbformat": 4,
 "nbformat_minor": 2
}
