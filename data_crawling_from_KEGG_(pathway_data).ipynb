{
 "cells": [
  {
   "cell_type": "code",
   "execution_count": 1,
   "metadata": {
    "collapsed": false,
    "deletable": true,
    "editable": true
   },
   "outputs": [],
   "source": [
    "import os\n",
    "dir_notebook = os.getenv( \"HOME\" )\n",
    "file_include = dir_notebook + \"/_include.ipynb\"\n",
    "%run $file_include"
   ]
  },
  {
   "cell_type": "code",
   "execution_count": 2,
   "metadata": {
    "collapsed": true,
    "deletable": true,
    "editable": true
   },
   "outputs": [],
   "source": [
    "import requests"
   ]
  },
  {
   "cell_type": "code",
   "execution_count": 3,
   "metadata": {
    "collapsed": true
   },
   "outputs": [],
   "source": [
    "enzyme_lst = [\"ENZYME: 2.7.1.71\", \"ENZYME: 2.5.1.19\", \"ENZYME: 4.2.3.5\", \"ENZYME: 5.4.99.5\"]"
   ]
  },
  {
   "cell_type": "code",
   "execution_count": 4,
   "metadata": {
    "collapsed": false,
    "scrolled": true
   },
   "outputs": [
    {
     "name": "stdout",
     "output_type": "stream",
     "text": [
      "ENZYME: 2.7.1.71 / 5390 / Done\n",
      "ENZYME: 2.5.1.19 / 4899 / Done\n",
      "ENZYME: 4.2.3.5 / 4788 / Done\n",
      "ENZYME: 5.4.99.5 / 6838 / Done\n"
     ]
    }
   ],
   "source": [
    "ec_url = \"http://www.kegg.jp/dbget-bin/www_bget?ec:\"\n",
    "gene_url = \"http://www.kegg.jp/dbget-bin/www_bget?-f+-n+a+\"\n",
    "\n",
    "#total_num = 0\n",
    "f = open(\"shikimate_daidzin&genistin_pathway_genes\", \"w\")\n",
    "for y in enzyme_lst:\n",
    "    ec_num = y[8:]\n",
    "    url = requests.get(ec_url + ec_num)\n",
    "    url_text = url.text\n",
    "    spl_tem_1 = \"\"\"<style>.g1{display:none;}</style><table style=\"border:0;border-collapse:collapse;\">\"\"\"\n",
    "    spl_tem_2 = \"\"\"<td class=\"td20\" style=\"border-color:#000; border-width: 1px 1px 0px 1px; border-style: solid\"><table style=\"border:0;border-collapse:collapse;\">\"\"\"\n",
    "    if spl_tem_1 in url_text:\n",
    "        ec_temp = url_text.split(spl_tem_1)\n",
    "        ec_temp = ec_temp[1]\n",
    "    elif spl_tem_2 in url_text:\n",
    "        ec_temp = url_text.split(spl_tem_2)\n",
    "        if len(ec_temp) == 2:\n",
    "            print y, \":\", 0\n",
    "            continue\n",
    "        ec_temp = ec_temp[2]\n",
    "    ec_ = ec_temp.split(\"\"\"<a href=\"javascript:void(0)\" onclick=\"javascript:toggleField(this,&quot;g1&quot;,&quot;show all&quot;,&quot;hide&quot;)\">\"\"\")\n",
    "    ec_lst = ec_[0].split(\"\"\"a href=\"/dbget-bin/www_bget?\"\"\")\n",
    "    print y, \"/\", len(ec_lst) - 1, \"/\", \n",
    "    #total_num += len(ec_lst) - 1\n",
    "    #continue\n",
    "    for x in range(1, len(ec_lst)):\n",
    "        gene_id = ec_lst[x].split(\"\"\"\">\"\"\")[0]\n",
    "        aa_seq_url = gene_url + gene_id\n",
    "        gene_requests = requests.get(aa_seq_url)\n",
    "        gene_text_temp = gene_requests.text\n",
    "        gene_text = gene_text_temp.split(\"<!-- bget:db:genes -->\")\n",
    "        gene_text = gene_text[1].split(\"</pre></div>\")\n",
    "        gene_text = gene_text[0].split(\"-->&gt;\")\n",
    "        seq_info = gene_text[1]\n",
    "        f.write(\">%s\" % seq_info)\n",
    "        #break\n",
    "    #break\n",
    "    print \"Done\"\n",
    "f.close()\n",
    "#print total_num"
   ]
  },
  {
   "cell_type": "code",
   "execution_count": null,
   "metadata": {
    "collapsed": true
   },
   "outputs": [],
   "source": []
  }
 ],
 "metadata": {
  "kernelspec": {
   "display_name": "Python 2",
   "language": "python",
   "name": "python2"
  },
  "language_info": {
   "codemirror_mode": {
    "name": "ipython",
    "version": 2
   },
   "file_extension": ".py",
   "mimetype": "text/x-python",
   "name": "python",
   "nbconvert_exporter": "python",
   "pygments_lexer": "ipython2",
   "version": "2.7.12"
  }
 },
 "nbformat": 4,
 "nbformat_minor": 2
}
