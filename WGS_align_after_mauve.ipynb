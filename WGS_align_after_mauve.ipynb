{
 "cells": [
  {
   "cell_type": "code",
   "execution_count": 1,
   "metadata": {},
   "outputs": [],
   "source": [
    "import os\n",
    "from IPython.display import clear_output\n",
    "dir_notebook = os.getenv( \"HOME\" )\n",
    "file_include = dir_notebook + \"/_include.ipynb\"\n",
    "%run $file_include"
   ]
  },
  {
   "cell_type": "code",
   "execution_count": 2,
   "metadata": {},
   "outputs": [
    {
     "name": "stdout",
     "output_type": "stream",
     "text": [
      "9\n",
      "['1', '2', '3', '4', '5', '6', '7', '8', 'muscle_output']\n"
     ]
    }
   ],
   "source": [
    "align_dir = \"/media/sf_j1/MAP/analyzed_data_new/mauve/k10_MAPK/align_seq/\"\n",
    "align_lst = os.listdir(align_dir)\n",
    "align_lst.sort()\n",
    "print len(align_lst)\n",
    "print align_lst"
   ]
  },
  {
   "cell_type": "code",
   "execution_count": 3,
   "metadata": {},
   "outputs": [],
   "source": [
    "muscle = \"/home/j1lim/BPGA/bin/muscle\""
   ]
  },
  {
   "cell_type": "code",
   "execution_count": 16,
   "metadata": {},
   "outputs": [],
   "source": [
    "for x in align_lst:\n",
    "    if x == \"muscle_output\":\n",
    "        continue\n",
    "    file_dir = align_dir + x\n",
    "    print x, \"\\n\"\n",
    "    \n",
    "    temp_seq_dic = {}\n",
    "    for y in SeqIO.parse(file_dir, \"fasta\"):\n",
    "        temp_seq_dic[y.id] = str(y.seq)\n",
    "    \n",
    "    temp_num = 0\n",
    "    for k, v in temp_seq_dic.items():\n",
    "        temp_num = len(v)\n",
    "        break\n",
    "        \n",
    "    for y in range((temp_num / 10000) + 1):\n",
    "        seq_cut_file = align_dir + \"temp_seq/%s_%s_temp\" % (x, y)\n",
    "        start_ = y * 10000\n",
    "        end_ = start_ + 10000\n",
    "        \n",
    "        f = open(seq_cut_file, \"w\")\n",
    "        for k, v in temp_seq_dic.items():\n",
    "            to_write = \">%s_[%s-%s]\\r\\n%s\\r\\n\" % (k, start_, end_, v[start_:end_])\n",
    "            f.write(to_write)\n",
    "        f.close()\n",
    "        \n",
    "        fasta_out = seq_cut_file.replace(\"temp_seq\", \"muscle_output\") + \".afa\"\n",
    "        clustalw_out = fasta_out.replace(\".afa\", \".aln\")\n",
    "        muscle_command = \"%s -in %s -fastaout %s -clwout %s\" % (muscle, seq_cut_file, fasta_out, clustalw_out)\n",
    "        print muscle_command\n",
    "        !$muscle_command\n",
    "\n",
    "        print \"\\n===================================================================\\n\"\n",
    "        #break\n",
    "        \n",
    "    clear_output()\n",
    "    #break\n",
    "    \n",
    "    #fasta_out = align_dir + \"muscle_output/%s.afa\" % x\n",
    "    #clustalw_out = fasta_out.replace(\".afa\", \".aln\")\n",
    "    #muscle_command = \"%s -in %s -fastaout %s -clwout %s\" % (muscle, file_dir, fasta_out, clustalw_out)\n",
    "    #print muscle_command\n",
    "    #!$muscle_command\n",
    "    \n",
    "    #print \"\\n===================================================================\\n\"\n"
   ]
  },
  {
   "cell_type": "code",
   "execution_count": null,
   "metadata": {},
   "outputs": [],
   "source": []
  }
 ],
 "metadata": {
  "kernelspec": {
   "display_name": "Python 2",
   "language": "python",
   "name": "python2"
  },
  "language_info": {
   "codemirror_mode": {
    "name": "ipython",
    "version": 2
   },
   "file_extension": ".py",
   "mimetype": "text/x-python",
   "name": "python",
   "nbconvert_exporter": "python",
   "pygments_lexer": "ipython2",
   "version": "2.7.12"
  }
 },
 "nbformat": 4,
 "nbformat_minor": 2
}
