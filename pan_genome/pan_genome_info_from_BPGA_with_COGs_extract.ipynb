{
 "cells": [
  {
   "cell_type": "code",
   "execution_count": 2,
   "metadata": {},
   "outputs": [],
   "source": [
    "import os\n",
    "dir_notebook = os.getenv( \"HOME\" )\n",
    "file_include = dir_notebook + \"/_include.ipynb\"\n",
    "%run $file_include"
   ]
  },
  {
   "cell_type": "markdown",
   "metadata": {},
   "source": [
    "Make file list"
   ]
  },
  {
   "cell_type": "code",
   "execution_count": 6,
   "metadata": {},
   "outputs": [
    {
     "name": "stdout",
     "output_type": "stream",
     "text": [
      "7\n",
      "['B1-4.fas', 'MI13950.fas', 'N6-8.fas', 'S1-32.fas', 'S1-36A.fas', 'S2-11.fas', 'S2-8.fas']\n"
     ]
    }
   ],
   "source": [
    "genome_dir = \"/home/j1lim/BPGA_genome/MI/\"\n",
    "lst_genome = os.listdir(genome_dir)\n",
    "lst_genome.sort()\n",
    "lst_genome = [lst_genome[0]] + lst_genome[2:]\n",
    "print len(lst_genome)\n",
    "print lst_genome"
   ]
  },
  {
   "cell_type": "markdown",
   "metadata": {},
   "source": [
    "Dictionary define | pan-genome matrix "
   ]
  },
  {
   "cell_type": "code",
   "execution_count": 7,
   "metadata": {},
   "outputs": [],
   "source": [
    "matrix_file = \"/media/sf_j1/MI/BPGA/Supporting_files/matrix.txt\"\n",
    "f = open(matrix_file, \"r\")\n",
    "r = f.readlines()\n",
    "f.close()"
   ]
  },
  {
   "cell_type": "code",
   "execution_count": 8,
   "metadata": {},
   "outputs": [
    {
     "name": "stdout",
     "output_type": "stream",
     "text": [
      "7927\n"
     ]
    }
   ],
   "source": [
    "dic_cluster_matrix = {}\n",
    "temp_num = 0\n",
    "for x in r:\n",
    "    x = x.replace(\"\\n\", \"\")\n",
    "    spl_ = x.split(\"\\t\")\n",
    "    dic_cluster_matrix[str(temp_num)] = spl_\n",
    "    temp_num += 1\n",
    "    #break\n",
    "print len(dic_cluster_matrix)"
   ]
  },
  {
   "cell_type": "code",
   "execution_count": 9,
   "metadata": {},
   "outputs": [
    {
     "name": "stdout",
     "output_type": "stream",
     "text": [
      "5988\n",
      "['1', '1', '1', '1', '1', '1', '1']\n"
     ]
    }
   ],
   "source": [
    "for k, v in dic_cluster_matrix.items():\n",
    "    print k\n",
    "    print v\n",
    "    break"
   ]
  },
  {
   "cell_type": "markdown",
   "metadata": {},
   "source": [
    "Define pan-genome distribution"
   ]
  },
  {
   "cell_type": "code",
   "execution_count": 10,
   "metadata": {},
   "outputs": [
    {
     "name": "stdout",
     "output_type": "stream",
     "text": [
      "['REPSEQ_ACCESSORY.txt', 'REPSEQ_CORE.txt', 'REPSEQ_UNIQUE.txt']\n",
      "['accessory_seq.txt', 'core_seq.txt', 'unique_seq.txt']\n"
     ]
    }
   ],
   "source": [
    "seq_dir = \"/media/sf_j1/MI/BPGA/Sequences/\"\n",
    "lst_seq = os.listdir(seq_dir)\n",
    "lst_seq.sort()\n",
    "lst_repseq = lst_seq[:3]\n",
    "lst_all = lst_seq[3:5] + [lst_seq[6]]\n",
    "print lst_repseq\n",
    "print lst_all"
   ]
  },
  {
   "cell_type": "code",
   "execution_count": 11,
   "metadata": {},
   "outputs": [
    {
     "name": "stdout",
     "output_type": "stream",
     "text": [
      "7927\n",
      "7927\n"
     ]
    }
   ],
   "source": [
    "dic_pan_info = {}\n",
    "for x in lst_repseq:\n",
    "    file_dir = seq_dir + x\n",
    "    temp_dis_ = x[7:-4]\n",
    "    \n",
    "    for y in SeqIO.parse(file_dir, \"fasta\"):\n",
    "        temp_id = y.id.split(\"|\")[-1][:-1]\n",
    "        dic_pan_info[temp_id] = [temp_dis_]\n",
    "        \n",
    "        #break\n",
    "    #break\n",
    "print len(dic_pan_info)\n",
    "#print dic_pan_info\n",
    "\n",
    "for x in lst_all:\n",
    "    file_dir = seq_dir + x\n",
    "    \n",
    "    for y in SeqIO.parse(file_dir, \"fasta\"):\n",
    "        spl_ = y.id.split(\"/\")\n",
    "        temp_cluster = spl_[1]\n",
    "        temp_key = spl_[3]\n",
    "        \n",
    "        if temp_key in dic_pan_info.keys():\n",
    "            dic_pan_info[temp_key].append(temp_cluster)\n",
    "            \n",
    "            #break\n",
    "    #break\n",
    "print len(dic_pan_info)\n",
    "#print dic_pan_info"
   ]
  },
  {
   "cell_type": "code",
   "execution_count": 12,
   "metadata": {},
   "outputs": [
    {
     "name": "stdout",
     "output_type": "stream",
     "text": [
      "Org1_Gene4017\n",
      "['UNIQUE', '2222']\n"
     ]
    }
   ],
   "source": [
    "for k, v in dic_pan_info.items():\n",
    "    print k\n",
    "    print v\n",
    "    break"
   ]
  },
  {
   "cell_type": "markdown",
   "metadata": {},
   "source": [
    "Pan-genome info summary"
   ]
  },
  {
   "cell_type": "code",
   "execution_count": 19,
   "metadata": {},
   "outputs": [
    {
     "name": "stdout",
     "output_type": "stream",
     "text": [
      "7927\n"
     ]
    }
   ],
   "source": [
    "file_input_all = \"/media/sf_j1/MI/BPGA/INPUT_all_original.seq\"\n",
    "f = open(file_input_all, \"r\")\n",
    "r = f.readlines()\n",
    "f.close()\n",
    "\n",
    "dic_bpga_to_anno = {}\n",
    "for x in r:\n",
    "    x = x.replace(\"\\r\\n\", \"\")\n",
    "    spl_ = x.split(\"|\")\n",
    "    temp_key = \"Org%s_%s\" % (spl_[0][1:], spl_[1])\n",
    "    temp_value = spl_[2][:-4] + \"_\" + spl_[-1].split(\" \")[0][1:]\n",
    "    \n",
    "    if temp_key in dic_pan_info.keys():\n",
    "        dic_bpga_to_anno[temp_key] = temp_value\n",
    "    \n",
    "    #break\n",
    "print len(dic_bpga_to_anno)\n",
    "#print dic_bpga_to_anno"
   ]
  },
  {
   "cell_type": "code",
   "execution_count": 20,
   "metadata": {},
   "outputs": [
    {
     "name": "stdout",
     "output_type": "stream",
     "text": [
      "Org1_Gene4017\n",
      "B1-4_locus_04056\n"
     ]
    }
   ],
   "source": [
    "for k, v in dic_bpga_to_anno.items():\n",
    "    print k\n",
    "    print v\n",
    "    break"
   ]
  },
  {
   "cell_type": "code",
   "execution_count": 34,
   "metadata": {},
   "outputs": [
    {
     "name": "stdout",
     "output_type": "stream",
     "text": [
      "7927\n"
     ]
    }
   ],
   "source": [
    "dic_pan_gene_detail = {}\n",
    "\n",
    "info_dir = \"/media/sf_j1/MI/genome_info/\"\n",
    "for x in lst_genome:\n",
    "    file_dir = info_dir + x.replace(\".fas\", \".tsv\")\n",
    "    temp_name = x[:-4]\n",
    "    \n",
    "    f = open(file_dir, \"r\")\n",
    "    r = f.readlines()\n",
    "    f.close()\n",
    "    \n",
    "    for y in r:\n",
    "        if y.startswith(\"contig_id\"):\n",
    "            continue\n",
    "            \n",
    "        y = y.replace(\"\\r\\n\", \"\")\n",
    "        spl_ = y.split(\"\\t\")\n",
    "            \n",
    "        temp_key = \"%s_%s\" % (temp_name, spl_[1])\n",
    "        \n",
    "        if len(spl_) == 8:\n",
    "            temp_info = [spl_[6], temp_name, spl_[0], spl_[2], spl_[3], spl_[4], spl_[7], \"\"]\n",
    "        else:\n",
    "            temp_info = [spl_[6], temp_name, spl_[0], spl_[2], spl_[3], spl_[4], spl_[7], spl_[8]]\n",
    "            \n",
    "        if temp_key in dic_bpga_to_anno.values():\n",
    "            dic_pan_gene_detail[temp_key] = temp_info\n",
    "        \n",
    "        #break\n",
    "    #break\n",
    "print len(dic_pan_gene_detail)"
   ]
  },
  {
   "cell_type": "code",
   "execution_count": 37,
   "metadata": {},
   "outputs": [
    {
     "name": "stdout",
     "output_type": "stream",
     "text": [
      "S2-11_locus_00187\n",
      "['Copper resistance protein C', 'S2-11', 'gnl|UoN|locus_1', '186414', '186917', '-', 'GTGAAACGGCTGGCGTTCGGCGCGTGCGTGAGCGCCATGTTCGCGATGGCCACGCTCACCGCGCCGGTGTCGTCGGCGCACGCCACGCGGATCGCCACCGACCCCGCGGCCAACGCGGTGCTGGCCTCCGGCCCGCAGCGGGTCAGCGCGACCTTCAACGAGCAGTTGCAGACCACGTTCGCCGCGATGACGGTGGTCGGCCCGGACGGCAACGTGTGGTCCGCCGGCGAGCCCACCGTGGCCGGCGCGATGGTCAGCATCGCCCTGCGTCCACTGGGACCGTCCGGCACGTACACGGTGAACTACCGGGTGACCTCCGCGGACGGCCACGTGGTGTCCGGGTCCTGGTCGTTCCAGCTCACGGTGTCCGGCACCGGCACGCCCGGGCCACCGGTTGCCGGCGGCGGGGGCGGCGGCGGTGACGTCCCCGTCTGGCCGTTCGTGGCGGCCGCGTTGGCGCTCGTCGCGGGCGGCGCCTGGTGGGCGGTGCGGCACAGGCGGTGA', 'MKRLAFGACVSAMFAMATLTAPVSSAHATRIATDPAANAVLASGPQRVSATFNEQLQTTFAAMTVVGPDGNVWSAGEPTVAGAMVSIALRPLGPSGTYTVNYRVTSADGHVVSGSWSFQLTVSGTGTPGPPVAGGGGGGGDVPVWPFVAAALALVAGGAWWAVRHRR']\n"
     ]
    }
   ],
   "source": [
    "for k, v in dic_pan_gene_detail.items():\n",
    "    print k\n",
    "    print v\n",
    "    break"
   ]
  },
  {
   "cell_type": "markdown",
   "metadata": {},
   "source": [
    "COG info summary"
   ]
  },
  {
   "cell_type": "code",
   "execution_count": 38,
   "metadata": {},
   "outputs": [
    {
     "name": "stdout",
     "output_type": "stream",
     "text": [
      "3\n",
      "['REPSEQ_ACCESSORY.out', 'REPSEQ_CORE.out', 'REPSEQ_UNIQUE.out']\n"
     ]
    }
   ],
   "source": [
    "dir_cog_result = \"/media/sf_j1/MI/COGs/gene_cog/\"\n",
    "lst_cog_result = os.listdir(dir_cog_result)\n",
    "lst_cog_result.sort()\n",
    "\n",
    "print len(lst_cog_result)\n",
    "print lst_cog_result"
   ]
  },
  {
   "cell_type": "code",
   "execution_count": 43,
   "metadata": {},
   "outputs": [
    {
     "name": "stdout",
     "output_type": "stream",
     "text": [
      "7927\n"
     ]
    }
   ],
   "source": [
    "dic_cog_info = {}\n",
    "for x in lst_cog_result:\n",
    "    file_dir = dir_cog_result + x\n",
    "    f = open(file_dir, \"r\")\n",
    "    r = f.readlines()\n",
    "    f.close()\n",
    "    \n",
    "    for y in r:\n",
    "        y = y.replace(\"\\r\\n\", \"\")\n",
    "        spl_ = y.split(\"\\t\")\n",
    "        dic_cog_info[spl_[0]] = spl_[1]\n",
    "        \n",
    "        #break\n",
    "    #break\n",
    "\n",
    "print len(dic_cog_info)"
   ]
  },
  {
   "cell_type": "code",
   "execution_count": 44,
   "metadata": {},
   "outputs": [
    {
     "name": "stdout",
     "output_type": "stream",
     "text": [
      "Org1_Gene4017\n",
      "S\n"
     ]
    }
   ],
   "source": [
    "for k, v in dic_cog_info.items():\n",
    "    print k\n",
    "    print v\n",
    "    break"
   ]
  },
  {
   "cell_type": "markdown",
   "metadata": {},
   "source": [
    "Write pan-genome info file "
   ]
  },
  {
   "cell_type": "code",
   "execution_count": 46,
   "metadata": {},
   "outputs": [],
   "source": [
    "file_write = \"/media/sf_j1/MI/MI_pan_genome_info.tsv\"\n",
    "f = open(file_write, \"w\")\n",
    "f.write(\"Cluster Number\\tAffiliation\\tPredicted function\\tPredicted COGs\\tReference\\tContig\\tStart\\tEnd\\tStrand\\tNT seq\\tAA seq\")\n",
    "for x in lst_genome:\n",
    "    temp_name = temp_name = x[:-4]\n",
    "    f.write(\"\\t%s\" % temp_name)\n",
    "f.write(\"\\r\\n\")\n",
    "\n",
    "for k, v in dic_pan_info.items():\n",
    "    to_write = [v[1], v[0], dic_cog_info[k]] + dic_pan_gene_detail[dic_bpga_to_anno[k]] + dic_cluster_matrix[v[1]]\n",
    "    f.write(\"\\t\".join(to_write) + \"\\r\\n\")\n",
    "    #break\n",
    "f.close()"
   ]
  },
  {
   "cell_type": "code",
   "execution_count": null,
   "metadata": {},
   "outputs": [],
   "source": []
  }
 ],
 "metadata": {
  "kernelspec": {
   "display_name": "Python 2",
   "language": "python",
   "name": "python2"
  },
  "language_info": {
   "codemirror_mode": {
    "name": "ipython",
    "version": 2
   },
   "file_extension": ".py",
   "mimetype": "text/x-python",
   "name": "python",
   "nbconvert_exporter": "python",
   "pygments_lexer": "ipython2",
   "version": "2.7.12"
  }
 },
 "nbformat": 4,
 "nbformat_minor": 2
}
