{
 "cells": [
  {
   "cell_type": "code",
   "execution_count": 1,
   "metadata": {},
   "outputs": [],
   "source": [
    "import os\n",
    "dir_notebook = os.getenv( \"HOME\" )\n",
    "file_include = dir_notebook + \"/_include.ipynb\"\n",
    "%run $file_include"
   ]
  },
  {
   "cell_type": "markdown",
   "metadata": {},
   "source": [
    "Make file list"
   ]
  },
  {
   "cell_type": "code",
   "execution_count": 2,
   "metadata": {},
   "outputs": [
    {
     "name": "stdout",
     "output_type": "stream",
     "text": [
      "40\n",
      "['01_K10.fas', '02_4B.fas', '03_2015WD_1.fas', '04_2015WD_2.fas', '05_A3.fas', '06_C4A4.fas', '07_TANUVAS.fas', '08_CLIJ623.fas', '09_CLIJ644.fas', '10_DT3.fas', '11_E1.fas', '12_E93.fas', '13_Env210.fas', '14_FDAARGOS_305.fas', '15_JII_1961.fas', '16_JTC1281.fas', '17_JTC1285.fas', '18_Pt139.fas', '19_Pt144.fas', '20_Pt145.fas', '21_Pt146.fas', '22_Pt154.fas', '23_Pt155.fas', '24_Pt164.fas', '25_MAP4.fas', '26_NL_89C.fas', '27_NL_93B.fas', '28_NL_95A.fas', '29_NL_95B.fas', '30_NL_95E.fas', '31_NL_96E.fas', '32_MAPK_CN7.fas', '33_MAPK_CN9.fas', '34_MAPK_CN4.fas', '35_MAPK_JB16.fas', '36_MAPK_JJ1.fas', '37_CLIJ361.fas', '38_JIII_386.fas', '39_S397.fas', '40_Telford.fas']\n"
     ]
    }
   ],
   "source": [
    "genome_dir = \"/home/j1lim/BPGA_genome/faa/\"\n",
    "lst_genome = os.listdir(genome_dir)\n",
    "lst_genome.sort()\n",
    "lst_genome = lst_genome[:-2]\n",
    "print len(lst_genome)\n",
    "print lst_genome"
   ]
  },
  {
   "cell_type": "markdown",
   "metadata": {},
   "source": [
    "Dictionary define | pan-genome matrix "
   ]
  },
  {
   "cell_type": "code",
   "execution_count": 3,
   "metadata": {},
   "outputs": [],
   "source": [
    "matrix_file = \"/media/sf_j1/MAP/analyzed_data_new/BPGA/MAP_40/identity_0.9/Supporting_files/matrix.txt\"\n",
    "f = open(matrix_file, \"r\")\n",
    "r = f.readlines()\n",
    "f.close()"
   ]
  },
  {
   "cell_type": "code",
   "execution_count": 4,
   "metadata": {},
   "outputs": [
    {
     "name": "stdout",
     "output_type": "stream",
     "text": [
      "5899\n"
     ]
    }
   ],
   "source": [
    "dic_cluster_matrix = {}\n",
    "temp_num = 0\n",
    "for x in r:\n",
    "    x = x.replace(\"\\n\", \"\")\n",
    "    spl_ = x.split(\"\\t\")\n",
    "    dic_cluster_matrix[str(temp_num)] = spl_\n",
    "    temp_num += 1\n",
    "    #break\n",
    "print len(dic_cluster_matrix)"
   ]
  },
  {
   "cell_type": "code",
   "execution_count": 5,
   "metadata": {},
   "outputs": [
    {
     "name": "stdout",
     "output_type": "stream",
     "text": [
      "270\n",
      "['0', '1', '0', '0', '0', '0', '0', '0', '1', '1', '1', '0', '1', '0', '0', '1', '1', '0', '1', '1', '0', '0', '1', '0', '0', '0', '0', '0', '0', '0', '0', '0', '0', '0', '0', '0', '0', '0', '0', '0']\n"
     ]
    }
   ],
   "source": [
    "for k, v in dic_cluster_matrix.items():\n",
    "    print k\n",
    "    print v\n",
    "    break"
   ]
  },
  {
   "cell_type": "markdown",
   "metadata": {},
   "source": [
    "Define pan-genome distribution"
   ]
  },
  {
   "cell_type": "code",
   "execution_count": 6,
   "metadata": {},
   "outputs": [
    {
     "name": "stdout",
     "output_type": "stream",
     "text": [
      "['REPSEQ_ACCESSORY.txt', 'REPSEQ_CORE.txt', 'REPSEQ_UNIQUE.txt']\n",
      "['accessory_seq.txt', 'core_seq.txt', 'unique_seq.txt']\n"
     ]
    }
   ],
   "source": [
    "seq_dir = \"/media/sf_j1/MAP/analyzed_data_new/BPGA/MAP_40/identity_0.9/Sequences/\"\n",
    "lst_seq = os.listdir(seq_dir)\n",
    "lst_seq.sort()\n",
    "lst_repseq = lst_seq[:3]\n",
    "lst_all = lst_seq[3:5] + [lst_seq[6]]\n",
    "print lst_repseq\n",
    "print lst_all"
   ]
  },
  {
   "cell_type": "code",
   "execution_count": 7,
   "metadata": {},
   "outputs": [
    {
     "name": "stdout",
     "output_type": "stream",
     "text": [
      "5899\n",
      "5899\n"
     ]
    }
   ],
   "source": [
    "dic_pan_info = {}\n",
    "for x in lst_repseq:\n",
    "    file_dir = seq_dir + x\n",
    "    temp_dis_ = x[7:-4]\n",
    "    \n",
    "    for y in SeqIO.parse(file_dir, \"fasta\"):\n",
    "        temp_id = y.id.split(\"|\")[-1][:-1]\n",
    "        dic_pan_info[temp_id] = [temp_dis_]\n",
    "        \n",
    "        #break\n",
    "    #break\n",
    "print len(dic_pan_info)\n",
    "#print dic_pan_info\n",
    "\n",
    "for x in lst_all:\n",
    "    file_dir = seq_dir + x\n",
    "    \n",
    "    for y in SeqIO.parse(file_dir, \"fasta\"):\n",
    "        spl_ = y.id.split(\"/\")\n",
    "        temp_cluster = spl_[1]\n",
    "        temp_key = spl_[3]\n",
    "        \n",
    "        if temp_key in dic_pan_info.keys():\n",
    "            dic_pan_info[temp_key].append(temp_cluster)\n",
    "            \n",
    "            #break\n",
    "    #break\n",
    "print len(dic_pan_info)\n",
    "#print dic_pan_info"
   ]
  },
  {
   "cell_type": "code",
   "execution_count": 8,
   "metadata": {},
   "outputs": [
    {
     "name": "stdout",
     "output_type": "stream",
     "text": [
      "Org35_Gene3399\n",
      "['CORE', '619']\n"
     ]
    }
   ],
   "source": [
    "for k, v in dic_pan_info.items():\n",
    "    print k\n",
    "    print v\n",
    "    break"
   ]
  },
  {
   "cell_type": "markdown",
   "metadata": {},
   "source": [
    "Pan-genome info summary"
   ]
  },
  {
   "cell_type": "code",
   "execution_count": 10,
   "metadata": {},
   "outputs": [
    {
     "name": "stdout",
     "output_type": "stream",
     "text": [
      "5899\n"
     ]
    }
   ],
   "source": [
    "file_input_all = \"/media/sf_j1/MAP/analyzed_data_new/BPGA/MAP_40/identity_0.9/INPUT_all_original.seq\"\n",
    "f = open(file_input_all, \"r\")\n",
    "r = f.readlines()\n",
    "f.close()\n",
    "\n",
    "dic_bpga_to_anno = {}\n",
    "for x in r:\n",
    "    x = x.replace(\"\\r\\n\", \"\")\n",
    "    spl_ = x.split(\"|\")\n",
    "    temp_key = \"Org%s_%s\" % (spl_[0][1:], spl_[1])\n",
    "    temp_value = spl_[-1][1:]\n",
    "    \n",
    "    if temp_key in dic_pan_info.keys():\n",
    "        dic_bpga_to_anno[temp_key] = temp_value\n",
    "    \n",
    "    #break\n",
    "print len(dic_bpga_to_anno)\n",
    "#print dic_bpga_to_anno"
   ]
  },
  {
   "cell_type": "code",
   "execution_count": 11,
   "metadata": {},
   "outputs": [
    {
     "name": "stdout",
     "output_type": "stream",
     "text": [
      "Org16_Gene1765\n",
      "JTC1281.peg.3668\n"
     ]
    }
   ],
   "source": [
    "for k, v in dic_bpga_to_anno.items():\n",
    "    print k\n",
    "    print v\n",
    "    break"
   ]
  },
  {
   "cell_type": "code",
   "execution_count": 12,
   "metadata": {},
   "outputs": [
    {
     "name": "stdout",
     "output_type": "stream",
     "text": [
      "5899\n"
     ]
    }
   ],
   "source": [
    "dic_pan_gene_detail = {}\n",
    "\n",
    "info_dir = \"/media/sf_j1/MAP/analyzed_data_new/genome_data/gene_info/\"\n",
    "for x in lst_genome:\n",
    "    file_dir = info_dir + x.replace(\".fas\", \".tsv\")[3:]\n",
    "    temp_name = x[3:-4]\n",
    "    \n",
    "    f = open(file_dir, \"r\")\n",
    "    r = f.readlines()\n",
    "    f.close()\n",
    "    \n",
    "    for y in r:\n",
    "        if y.startswith(\"contig_id\"):\n",
    "            continue\n",
    "        y = y.replace(\"\\n\", \"\")\n",
    "        spl_ = y.split(\"\\t\")\n",
    "        \n",
    "        if spl_[2] != \"peg\":\n",
    "            continue\n",
    "            \n",
    "        temp_key = \"%s.peg.%s\" % (temp_name, spl_[1].split(\".\")[-1])\n",
    "        temp_info = [spl_[7], temp_name, spl_[0], spl_[4], spl_[5], spl_[6], spl_[11], spl_[12]]\n",
    "        if temp_key in dic_bpga_to_anno.values():\n",
    "            dic_pan_gene_detail[temp_key] = temp_info\n",
    "        \n",
    "        #break\n",
    "    #break\n",
    "print len(dic_pan_gene_detail)"
   ]
  },
  {
   "cell_type": "code",
   "execution_count": 13,
   "metadata": {},
   "outputs": [
    {
     "name": "stdout",
     "output_type": "stream",
     "text": [
      "CLIJ623.peg.4207\n",
      "['TldD family protein, Actinobacterial subgroup', 'CLIJ623', 'NZ_AFHX01000626.1', '11182', '12726', '+', 'gtggggaccggccgttacggtggagccgtgacaccgaaccgggggatcgatgccgacttcctggacctgccgcgccacgaactggccgacgcggcgctgtccgcggccaccgcggccggggccagccatgccgacctgcgggttcaccggctcatcaccgagatcatccagctgcgcgacggcgagctggaaaccgcggtgatcaatcgcgaggtcgggttggcggtgcgggtgatcgtcgacggcacctggggattcgcgtcgcacgcggagttggcgccgtcggtggccgccgagaccgcccgccgcgccgtgcacgtggccaccacgctggccacgctgagcagcgagcgggtcgagctggcgcccgaacccgtctaccgggacgccacgtgggtgtcgagctaccggatcgacccgttcgacgtctcggccgccgacaagatcggcgtgctgggcgactactcggggcggctgctcgccgccgacggcatcgatcacgtgtcggcgctgctgaccgccgtcaaggagcagacgttctacgccgacacgttcggctcgtcgatcacccagcagcgggtgcgggtgctgccctcgctggaagcggtgacggtggacgcccaggcgggcagcttcgactcgatgcggacgttggcgccgccgatgggtcgcggctgggaggccctggccggtgacgaggtgtggaattggaccgacgagctggcgcagctgccgtccctgctggccgagaaggtcaaggcacccacagtggctcccgggcccaccgacctggtgatcgacccgaccaacctctggctgaccattcatgaatcgatcgggcacgcaaccgaatacgaccgcgccatcggctacgaggccgcctacgccggcacgtcgttcgccacaccggacaagctgggcgccatgcggtacgggtcgccggtgatgaacgtgaccgcggaccggaccgtcgaattcggtttggccaccatcggttacgacgatgagggggtggccgcgcaaagctgggatctggtgcgcgacgggattttcaccggttatcagctggaccgggtgttcgcccggcggctcggacacccgcgctccaacggctgctcgtacgcggattcgccgcatcacgtgccgatccagcgcatggccaatgtgtcgctgcagcccgcccccgaacagatcagcaccgacgacttgatcgcccgggtcgaggacggcatctacatcgtcggcgacaagtcgtggtcaatcgacatgcagcgctacaactttcagttcaccggccagcgggtctaccggattcgcggcgggcggctggacggccaactgcgcgacgtcgcctatcaggccaccacgaccgatttctggaattcgatggaggcggtgggcggcccggccacctggcggctgggcggagcgttcaactgcggcaaggcccagccgggccagatcgcgcccgtcagccacggctgcccgtccgcgctgttccgcggcgtcaatgtgctgaacacccggaccgagggcggccgatga', 'MGTGRYGGAVTPNRGIDADFLDLPRHELADAALSAATAAGASHADLRVHRLITEIIQLRDGELETAVINREVGLAVRVIVDGTWGFASHAELAPSVAAETARRAVHVATTLATLSSERVELAPEPVYRDATWVSSYRIDPFDVSAADKIGVLGDYSGRLLAADGIDHVSALLTAVKEQTFYADTFGSSITQQRVRVLPSLEAVTVDAQAGSFDSMRTLAPPMGRGWEALAGDEVWNWTDELAQLPSLLAEKVKAPTVAPGPTDLVIDPTNLWLTIHESIGHATEYDRAIGYEAAYAGTSFATPDKLGAMRYGSPVMNVTADRTVEFGLATIGYDDEGVAAQSWDLVRDGIFTGYQLDRVFARRLGHPRSNGCSYADSPHHVPIQRMANVSLQPAPEQISTDDLIARVEDGIYIVGDKSWSIDMQRYNFQFTGQRVYRIRGGRLDGQLRDVAYQATTTDFWNSMEAVGGPATWRLGGAFNCGKAQPGQIAPVSHGCPSALFRGVNVLNTRTEGGR']\n"
     ]
    }
   ],
   "source": [
    "for k, v in dic_pan_gene_detail.items():\n",
    "    print k\n",
    "    print v\n",
    "    break"
   ]
  },
  {
   "cell_type": "markdown",
   "metadata": {},
   "source": [
    "Write pan-genome info file "
   ]
  },
  {
   "cell_type": "code",
   "execution_count": 14,
   "metadata": {},
   "outputs": [],
   "source": [
    "file_write = \"/media/sf_j1/MAP/analyzed_data_new/MAP_40_pan_genome_info_1.tsv\"\n",
    "f = open(file_write, \"w\")\n",
    "f.write(\"Cluster Number\\tAffiliation\\tPredicted function\\tReference\\tContig\\tStart\\tEnd\\tStrand\\tNT seq\\tAA seq\")\n",
    "for x in lst_genome:\n",
    "    temp_name = temp_name = x[3:-4]\n",
    "    f.write(\"\\t%s\" % temp_name)\n",
    "f.write(\"\\r\\n\")\n",
    "\n",
    "for k, v in dic_pan_info.items():\n",
    "    to_write = [v[1], v[0]] + dic_pan_gene_detail[dic_bpga_to_anno[k]] + dic_cluster_matrix[v[1]]\n",
    "    f.write(\"\\t\".join(to_write) + \"\\r\\n\")\n",
    "    #break\n",
    "f.close()"
   ]
  },
  {
   "cell_type": "code",
   "execution_count": null,
   "metadata": {},
   "outputs": [],
   "source": []
  }
 ],
 "metadata": {
  "kernelspec": {
   "display_name": "Python 2",
   "language": "python",
   "name": "python2"
  },
  "language_info": {
   "codemirror_mode": {
    "name": "ipython",
    "version": 2
   },
   "file_extension": ".py",
   "mimetype": "text/x-python",
   "name": "python",
   "nbconvert_exporter": "python",
   "pygments_lexer": "ipython2",
   "version": "2.7.12"
  }
 },
 "nbformat": 4,
 "nbformat_minor": 2
}
