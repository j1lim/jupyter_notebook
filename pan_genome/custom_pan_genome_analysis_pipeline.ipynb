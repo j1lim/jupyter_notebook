{
 "cells": [
  {
   "cell_type": "code",
   "execution_count": 1,
   "metadata": {},
   "outputs": [],
   "source": [
    "import os\n",
    "dir_notebook = os.getenv( \"HOME\" )\n",
    "file_include = dir_notebook + \"/_include.ipynb\"\n",
    "%run $file_include"
   ]
  },
  {
   "cell_type": "markdown",
   "metadata": {},
   "source": [
    "**Define/make directories**"
   ]
  },
  {
   "cell_type": "code",
   "execution_count": 2,
   "metadata": {},
   "outputs": [],
   "source": [
    "result_dir = \"result/\"\n",
    "#os.mkdir(result_dir)\n",
    "\n",
    "usearch_dir = \"/home/j1lim/Usearch/usearch_10\""
   ]
  },
  {
   "cell_type": "markdown",
   "metadata": {},
   "source": [
    "**Input genome files**"
   ]
  },
  {
   "cell_type": "code",
   "execution_count": 3,
   "metadata": {},
   "outputs": [
    {
     "name": "stdout",
     "output_type": "stream",
     "text": [
      "5\n",
      "['01_K10.fas', '02_4B.fas', '03_2015WD_1.fas', '04_2015WD_2.fas', '05_A3.fas']\n"
     ]
    }
   ],
   "source": [
    "dir_genomes = \"/home/j1lim/BPGA_genome/temp/\"\n",
    "lst_genomes = os.listdir(dir_genomes)\n",
    "lst_genomes.sort()\n",
    "\n",
    "print len(lst_genomes)\n",
    "print lst_genomes[:5]"
   ]
  },
  {
   "cell_type": "markdown",
   "metadata": {},
   "source": [
    "**Make total input seq/info file**"
   ]
  },
  {
   "cell_type": "code",
   "execution_count": 4,
   "metadata": {},
   "outputs": [],
   "source": [
    "input_all_info = \"input_all_original.seq\"\n",
    "input_all_seq = input_all_info.replace(\".seq\", \".fas\")\n",
    "input_data_info = \"dataset.tsv\"\n",
    "\n",
    "f_info = open(input_all_info, \"w\")\n",
    "f_seq = open(input_all_seq, \"w\")\n",
    "f_data = open(input_data_info, \"w\")\n",
    "f_data.write(\"Genome_No.\\tOrganism_name\\tFile_name\\r\\n\")\n",
    "\n",
    "org_num = 1\n",
    "for x in lst_genomes:\n",
    "    dir_file = dir_genomes + x\n",
    "    to_write = \"%s\\tOrganism%s\\t%s\\r\\n\" % (org_num, org_num, x)\n",
    "    f_data.write(to_write)\n",
    "    \n",
    "    gene_num = 1\n",
    "    for y in SeqIO.parse(dir_file, \"fasta\"):\n",
    "        to_write_info = \">%s|Gene%s|%s|>%s\\r\\n\" % (org_num, gene_num, x, y.description)\n",
    "        to_write_seq = \">%s|Org%s_Gene%s|%s#\\r\\n%s\\r\\n\" % (org_num, org_num, gene_num, x, str(y.seq))\n",
    "        \n",
    "        f_info.write(to_write_info)\n",
    "        f_seq.write(to_write_seq)\n",
    "        \n",
    "        gene_num += 1\n",
    "        #break\n",
    "    org_num += 1\n",
    "    #break\n",
    "\n",
    "f_info.close()\n",
    "f_seq.close()\n",
    "f_data.close()"
   ]
  },
  {
   "cell_type": "markdown",
   "metadata": {},
   "source": [
    "**All input clustering**"
   ]
  },
  {
   "cell_type": "code",
   "execution_count": 5,
   "metadata": {},
   "outputs": [
    {
     "name": "stdout",
     "output_type": "stream",
     "text": [
      "/home/j1lim/Usearch/usearch_10 -cluster_fast input_all_original.fas -id 0.9 -centroids temp_centroids.fas -uc temp_centroids.uc -query_cov 0.3 -target_cov 0.3 -maxaccepts 0 -maxrejects 0 -sort length\n",
      "usearch v10.0.240_i86linux32, 4.0Gb RAM (11.1Gb total), 4 cores\n",
      "(C) Copyright 2013-17 Robert C. Edgar, all rights reserved.\n",
      "http://drive5.com/usearch\n",
      "\n",
      "License: limjwlove@nate.com\n",
      "\n",
      "00:00 48Mb    100.0% Reading input_all_original.fas\n",
      "00:00 44Mb    100.0% DF                            \n",
      "00:00 44Mb   23914 seqs, 7061 uniques, 2177 singletons (30.8%)\n",
      "00:00 44Mb   Min size 1, median 4, max 27, avg 3.39\n",
      "00:00 48Mb    100.0% DB\n",
      "00:00 48Mb   Sort length... done.\n",
      "00:06 160Mb   100.0% 5165 clusters, max size 28, avg 4.6\n",
      "00:06 160Mb   100.0% Writing centroids to temp_centroids.fas\n",
      "                                                            \n",
      "      Seqs  7061\n",
      "  Clusters  5165\n",
      "  Max size  28\n",
      "  Avg size  4.6\n",
      "  Min size  1\n",
      "Singletons  374, 5.3% of seqs, 7.2% of clusters\n",
      "   Max mem  160Mb\n",
      "      Time  6.00s\n",
      "Throughput  1176.8 seqs/sec.\n",
      "\n"
     ]
    }
   ],
   "source": [
    "identity_ = 0.9\n",
    "coverage_ = 0.3\n",
    "centroids_out = \"temp_centroids.fas\"\n",
    "cluster_detail = centroids_out.replace(\".fas\", \".uc\")\n",
    "\n",
    "cluster_command = \"%s -cluster_fast %s -id %s -centroids %s -uc %s -query_cov %s -target_cov %s -maxaccepts 0 -maxrejects 0 -sort length\" % (\n",
    "                    usearch_dir, input_all_seq, identity_, centroids_out, cluster_detail, coverage_, coverage_)\n",
    "print cluster_command\n",
    "!$cluster_command"
   ]
  },
  {
   "cell_type": "markdown",
   "metadata": {},
   "source": [
    "**Cluster results summary**"
   ]
  },
  {
   "cell_type": "code",
   "execution_count": 6,
   "metadata": {},
   "outputs": [
    {
     "name": "stdout",
     "output_type": "stream",
     "text": [
      "/home/j1lim/Usearch/usearch_10 -sortbylength temp_centroids.fas -fastaout centroids.fas\n",
      "usearch v10.0.240_i86linux32, 4.0Gb RAM (11.1Gb total), 4 cores\n",
      "(C) Copyright 2013-17 Robert C. Edgar, all rights reserved.\n",
      "http://drive5.com/usearch\n",
      "\n",
      "License: limjwlove@nate.com\n",
      "\n",
      "00:00 42Mb    100.0% Reading temp_centroids.fas\n",
      "00:00 8.2Mb  Sorting by length                 \n",
      "00:00 8.2Mb  Length min 20, median 263, max 6385\n",
      "00:00 8.2Mb   100.0% Writing output\n",
      "00:00 8.2Mb  Write done, closing file and exiting\n"
     ]
    }
   ],
   "source": [
    "sort_command = \"%s -sortbylength %s -fastaout %s\" % (usearch_dir, centroids_out, centroids_out.replace(\"temp_\", \"\"))\n",
    "print sort_command\n",
    "!$sort_command"
   ]
  },
  {
   "cell_type": "code",
   "execution_count": 7,
   "metadata": {},
   "outputs": [],
   "source": [
    "pd_cluster = pd.read_csv(cluster_detail, header=-1, sep=\"\\t\")\n",
    "pd_cluster = pd_cluster.sort_values(by=[1, 0], ascending=[True, True])\n",
    "pd_cluster.to_csv(cluster_detail.replace(\"temp_\", \"\"), sep=\"\\t\", index=False, header=False)"
   ]
  },
  {
   "cell_type": "markdown",
   "metadata": {},
   "source": [
    "**Make matrix file**"
   ]
  },
  {
   "cell_type": "code",
   "execution_count": 8,
   "metadata": {},
   "outputs": [
    {
     "name": "stdout",
     "output_type": "stream",
     "text": [
      "dic_org_num:  5\n",
      "Key:  01_K10.fas\n",
      "Value:  0\n"
     ]
    }
   ],
   "source": [
    "f = open(input_data_info, \"r\")\n",
    "r = f.readlines()\n",
    "f.close()\n",
    "\n",
    "dic_org_num = {}\n",
    "for x in r:\n",
    "    if x.startswith(\"Genome_No\"):\n",
    "        continue\n",
    "    \n",
    "    x = x.replace(\"\\r\\n\", \"\")\n",
    "    spl_ = x.split(\"\\t\")\n",
    "    dic_org_num[spl_[-1]] = int(spl_[0]) -1\n",
    "    #break\n",
    "    \n",
    "print \"dic_org_num: \", len(dic_org_num)\n",
    "for k, v in dic_org_num.items():\n",
    "    print \"Key: \", k\n",
    "    print \"Value: \", v\n",
    "    break"
   ]
  },
  {
   "cell_type": "code",
   "execution_count": 9,
   "metadata": {},
   "outputs": [],
   "source": [
    "f = open(cluster_detail.replace(\"temp_\", \"\"), \"r\")\n",
    "r = f.readlines()\n",
    "f.close()\n",
    "\n",
    "matrix_file = \"matrix.tsv\"\n",
    "f_matrix = open(matrix_file, \"w\")\n",
    "\n",
    "temp_matrix = [\"0\" for k in dic_org_num.keys()]\n",
    "for x in r:\n",
    "    x = x.replace(\"\\n\", \"\")\n",
    "    spl_ = x.split(\"\\t\")\n",
    "    \n",
    "    if spl_[0] == \"S\":\n",
    "        #print temp_matrix\n",
    "        f_matrix.write(\"\\t\".join(temp_matrix) + \"\\r\\n\")\n",
    "        temp_matrix = [\"0\" for k in dic_org_num.keys()]\n",
    "        continue\n",
    "    \n",
    "    temp_strain = spl_[8].split(\"|\")[-1][:-1]\n",
    "    temp_matrix[dic_org_num[temp_strain]] = \"1\"\n",
    "    \n",
    "f_matrix.close()"
   ]
  },
  {
   "cell_type": "markdown",
   "metadata": {},
   "source": [
    "**Make pan-genome REPSEQ fasta file**"
   ]
  },
  {
   "cell_type": "code",
   "execution_count": 10,
   "metadata": {},
   "outputs": [
    {
     "name": "stdout",
     "output_type": "stream",
     "text": [
      "dic_gene_dicstibution: 5165\n",
      "Key:  0\n",
      "Value:  ACCESSORY\n"
     ]
    }
   ],
   "source": [
    "f = open(matrix_file, \"r\")\n",
    "r = f.readlines()\n",
    "f.close()\n",
    "\n",
    "dic_gene_distribution = {}\n",
    "temp_num = 0\n",
    "for x in r:\n",
    "    x = x.replace(\"\\r\\n\", \"\")\n",
    "    spl_ = x.split(\"\\t\")\n",
    "    \n",
    "    if spl_.count(\"1\") == len(spl_):\n",
    "        dic_gene_distribution[temp_num] = \"CORE\"\n",
    "    elif spl_.count(\"1\") == 1:\n",
    "        dic_gene_distribution[temp_num] = \"UNIQUE\"\n",
    "    else:\n",
    "        dic_gene_distribution[temp_num] = \"ACCESSORY\"\n",
    "    \n",
    "    temp_num += 1\n",
    "    #break\n",
    "    \n",
    "print \"dic_gene_dicstibution:\", len(dic_gene_distribution)\n",
    "for k, v in dic_gene_distribution.items():\n",
    "    print \"Key: \", k\n",
    "    print \"Value: \", v\n",
    "    break"
   ]
  },
  {
   "cell_type": "code",
   "execution_count": 11,
   "metadata": {},
   "outputs": [],
   "source": [
    "rep_core = \"REPSEQ_CORE.fas\"\n",
    "rep_acce = \"REPSEQ_ACCESSORY.fas\"\n",
    "rep_uniq = \"REPSEQ_UNIQUE.fas\"\n",
    "\n",
    "f_rep_core = open(rep_core, \"w\")\n",
    "f_rep_acce = open(rep_acce, \"w\")\n",
    "f_rep_uniq = open(rep_uniq, \"w\")\n",
    "\n",
    "temp_num = 0\n",
    "for x in SeqIO.parse(centroids_out.replace(\"temp_\", \"\"), \"fasta\"):\n",
    "    distribution = dic_gene_distribution[temp_num]\n",
    "    spl_ = x.description.split(\"|\")\n",
    "    to_write = \">%s_REP|%s|%s\\r\\n%s\\r\\n\" % (distribution, temp_num, spl_[1], str(x.seq))\n",
    "    \n",
    "    if distribution == \"CORE\":\n",
    "        f_rep_core.write(to_write)\n",
    "    elif distribution == \"ACCESSORY\":\n",
    "        f_rep_acce.write(to_write)\n",
    "    else:\n",
    "        f_rep_uniq.write(to_write)\n",
    "    \n",
    "    temp_num += 1\n",
    "    #break\n",
    "    \n",
    "f_rep_core.close()\n",
    "f_rep_acce.close()\n",
    "f_rep_uniq.close()"
   ]
  },
  {
   "cell_type": "markdown",
   "metadata": {},
   "source": [
    "**Make pan-genome all fasta file**"
   ]
  },
  {
   "cell_type": "code",
   "execution_count": 12,
   "metadata": {},
   "outputs": [
    {
     "name": "stdout",
     "output_type": "stream",
     "text": [
      "dic_gene_seq_info: 23914\n",
      "Key:  2|Org2_Gene1001|02_4B.fas#\n",
      "Value:  MTPRPESLASSPQPVERRGSRRGFRPDIEGLRAVAVIAVVLYHAGIPGIGGGYIGVDVFFVISGFLITGLLFREASTTNTVALGRFYGARARRLLPAAAIVGTVTAIGAAAVLPPLQARSVFLDGVASALYVGNYRFALRGTDYLTADAPSPFQHYWSLGVEEQFYLVWPLLIIAVAASVRRVRPLRATPRPVPYAVVLALIGAASLVAGVLWTRTSPSWAFFSLPTRAWELAAGGLVALSIQQWRRLSLRTASIARWGGLALILLTCTQLNAHTPYPGTEALLPVLGTALIIGGGAVTGGLGPGRLLCRPAMRAIGRISYSWYLWHWPVLLLMPALLGEPAGLPARLSATAVSAGLAVLTLHLVENPGRFAAALRRSAKVSLVVAGGASAATACACLVLLNVIPAPVGHGVAAPRANIIATPPSNVPAISAQEAAVRQAFAQARVILAAAAGVRAVPSNLDPPLAQAPANKAAVFVNGCVRSWRDVGQSECATGDTASPTTVALIGDSHAAMWNPAFEQLAGQRHWRLETLAKVTCPLAELHIVSPYLGREYTECEQWRAQIMARMNAEHPRLVVLDMSRRYGADFGFTSYDPAWIDTLGRTVAQLRGTGATVLVLGPSPDPHSSAPVCLSAHLDDVTACAPTRSAAIDGDGVAAEQAATLGNGGHYADLSDLFCTPDRCPLIVGNTLVFRDDNHVTTEYARLLAPVLGALADRALAEG\n"
     ]
    }
   ],
   "source": [
    "dic_gene_seq_info = {}\n",
    "for x in SeqIO.parse(input_all_seq, \"fasta\"):\n",
    "    dic_gene_seq_info[x.description] = str(x.seq)\n",
    "    #break\n",
    "    \n",
    "print \"dic_gene_seq_info:\", len(dic_gene_seq_info)\n",
    "for k, v in dic_gene_seq_info.items():\n",
    "    print \"Key: \", k\n",
    "    print \"Value: \", v\n",
    "    break"
   ]
  },
  {
   "cell_type": "code",
   "execution_count": 13,
   "metadata": {},
   "outputs": [
    {
     "name": "stdout",
     "output_type": "stream",
     "text": [
      "5\n",
      "['01_K10.fas', '02_4B.fas', '03_2015WD_1.fas', '04_2015WD_2.fas', '05_A3.fas']\n"
     ]
    }
   ],
   "source": [
    "f = open(input_data_info, \"r\")\n",
    "r = f.readlines()\n",
    "f.close()\n",
    "\n",
    "temp_lst = []\n",
    "for x in r:\n",
    "    if x.startswith(\"Genome_No.\"):\n",
    "        continue\n",
    "    x = x.replace(\"\\r\\n\", \"\")\n",
    "    spl_ = x.split(\"\\t\")\n",
    "    temp_lst.append(spl_[-1])\n",
    "print len(temp_lst)\n",
    "print temp_lst"
   ]
  },
  {
   "cell_type": "code",
   "execution_count": 14,
   "metadata": {},
   "outputs": [],
   "source": [
    "all_core = \"core_seq.fas\"\n",
    "all_acce = \"accessory_seq.fas\"\n",
    "all_uniq = \"unique_seq.fas\"\n",
    "\n",
    "f_all_core = open(all_core, \"w\")\n",
    "f_all_acce = open(all_acce, \"w\")\n",
    "f_all_uniq = open(all_uniq, \"w\")\n",
    "\n",
    "\n",
    "f = open(cluster_detail.replace(\"temp_\", \"\"), \"r\")\n",
    "r = f.readlines()\n",
    "f.close()\n",
    "\n",
    "for x in temp_lst:\n",
    "\n",
    "    for y in r:\n",
    "        y = y.replace(\"\\n\", \"\")\n",
    "        spl_ = y.split(\"\\t\")\n",
    "        if spl_[0] == \"C\":\n",
    "            continue\n",
    "        if x not in spl_[-2]:\n",
    "            continue\n",
    "            \n",
    "        distribution = dic_gene_distribution[int(spl_[1])]\n",
    "        to_write = \">%s/%s/%s[%s]\\r\\n%s\\r\\n\" % (distribution.lower(), spl_[1], \n",
    "                   spl_[-2].split(\"|\")[1], spl_[2], dic_gene_seq_info[spl_[-2]])\n",
    "        \n",
    "        if distribution == \"CORE\":\n",
    "            f_all_core.write(to_write)\n",
    "        elif distribution == \"ACCESSORY\":\n",
    "            f_all_acce.write(to_write)\n",
    "        else:\n",
    "            f_all_uniq.write(to_write)\n",
    "\n",
    "        #break\n",
    "    #break\n",
    "\n",
    "f_all_core.close()\n",
    "f_all_acce.close()\n",
    "f_all_uniq.close()"
   ]
  },
  {
   "cell_type": "markdown",
   "metadata": {},
   "source": []
  },
  {
   "cell_type": "code",
   "execution_count": null,
   "metadata": {},
   "outputs": [],
   "source": []
  }
 ],
 "metadata": {
  "kernelspec": {
   "display_name": "Python 2",
   "language": "python",
   "name": "python2"
  },
  "language_info": {
   "codemirror_mode": {
    "name": "ipython",
    "version": 2
   },
   "file_extension": ".py",
   "mimetype": "text/x-python",
   "name": "python",
   "nbconvert_exporter": "python",
   "pygments_lexer": "ipython2",
   "version": "2.7.12"
  }
 },
 "nbformat": 4,
 "nbformat_minor": 2
}
