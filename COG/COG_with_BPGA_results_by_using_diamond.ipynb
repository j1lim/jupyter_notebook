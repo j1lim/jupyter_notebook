{
 "cells": [
  {
   "cell_type": "code",
   "execution_count": 1,
   "metadata": {},
   "outputs": [],
   "source": [
    "import os\n",
    "dir_notebook = os.getenv( \"HOME\" )\n",
    "file_include = dir_notebook + \"/_include.ipynb\"\n",
    "%run $file_include"
   ]
  },
  {
   "cell_type": "markdown",
   "metadata": {},
   "source": [
    "file manipulation"
   ]
  },
  {
   "cell_type": "code",
   "execution_count": 2,
   "metadata": {},
   "outputs": [
    {
     "name": "stdout",
     "output_type": "stream",
     "text": [
      "['REPSEQ_ACCESSORY.txt', 'REPSEQ_CORE.txt', 'REPSEQ_UNIQUE.txt', 'accessory_seq.txt', 'core_seq.txt', 'exclusively_absent_seq.txt', 'unique_seq.txt']\n"
     ]
    }
   ],
   "source": [
    "dir_diamond = dir_notebook + \"/diamond-0.9.3/\"\n",
    "dir_CAU = \"/media/sf_j1/MAP/analyzed_data_new/BPGA/MAP_40/identity_0.9/Sequences/\"\n",
    "lst_genome = os.listdir( dir_CAU )\n",
    "lst_genome.sort()\n",
    "print lst_genome"
   ]
  },
  {
   "cell_type": "code",
   "execution_count": 3,
   "metadata": {},
   "outputs": [],
   "source": [
    "dir_genome = \"/media/sf_j1/MAP/analyzed_data_new/COG/MAP_40/identity_0.9/genome/\"\n",
    "for x in lst_genome:\n",
    "    if \"REPSEQ\" not in x:\n",
    "        continue\n",
    "    f_name = dir_genome + x.replace('.txt', '.faa')\n",
    "    f = open(f_name, 'w')\n",
    "    for y in SeqIO.parse(dir_CAU + x, 'fasta'):\n",
    "        ID = y.id\n",
    "        if \"|\" in ID:\n",
    "            ID = ID.split('|')[-1]\n",
    "        if \"/\" in ID:\n",
    "            ID = ID.split('/')[-1]\n",
    "        ID = ID.replace(\"#\", \"\")\n",
    "        f.write('>' + ID + '\\n')\n",
    "        f.write( str(y.seq) + '\\n')\n",
    "    f.close()\n"
   ]
  },
  {
   "cell_type": "markdown",
   "metadata": {
    "collapsed": true
   },
   "source": [
    "COG analysis"
   ]
  },
  {
   "cell_type": "code",
   "execution_count": 4,
   "metadata": {},
   "outputs": [
    {
     "name": "stdout",
     "output_type": "stream",
     "text": [
      "['REPSEQ_ACCESSORY.faa', 'REPSEQ_CORE.faa', 'REPSEQ_UNIQUE.faa']\n"
     ]
    }
   ],
   "source": [
    "dir_cog = dir_notebook + \"/diamond-0.9.3/\"\n",
    "path_diamond = dir_cog + \"diamond\"\n",
    "path_db_cog = dir_cog + \"prot2003-2014.dmnd\" \n",
    "\n",
    "lst_files = os.listdir( dir_genome )\n",
    "print lst_files"
   ]
  },
  {
   "cell_type": "code",
   "execution_count": 5,
   "metadata": {
    "scrolled": true
   },
   "outputs": [
    {
     "name": "stdout",
     "output_type": "stream",
     "text": [
      "/home/j1lim/diamond-0.9.3/diamond blastp --db /home/j1lim/diamond-0.9.3/prot2003-2014.dmnd --query /media/sf_j1/MAP/analyzed_data_new/COG/MAP_40/identity_0.9/genome/REPSEQ_ACCESSORY.faa --out /media/sf_j1/MAP/analyzed_data_new/COG/MAP_40/identity_0.9/cog/cog_REPSEQ_ACCESSORY.out --id 80\n",
      "diamond v0.9.3.104 | by Benjamin Buchfink <buchfink@gmail.com>\n",
      "Licensed under the GNU AGPL <https://www.gnu.org/licenses/agpl.txt>\n",
      "Check http://github.com/bbuchfink/diamond for updates.\n",
      "\n",
      "#CPU threads: 4\n",
      "Scoring parameters: (Matrix=BLOSUM62 Lambda=0.267 K=0.041 Penalties=11/1)\n",
      "#Target sequences to report alignments for: 25\n",
      "Temporary directory: /media/sf_j1/MAP/analyzed_data_new/COG/MAP_40/identity_0.9/cog\n",
      "Opening the database...  [3.2e-05s]\n",
      "Opening the input file...  [0.002788s]\n",
      "Opening the output file...  [0.002238s]\n",
      "Loading query sequences...  [0.014978s]\n",
      "Masking queries...  [0.064384s]\n",
      "Building query seed set...  [0.005417s]\n",
      "Algorithm: Query-indexed\n",
      "Building query histograms...  [0.000607s]\n",
      "Allocating buffers...  [2.4e-05s]\n",
      "Loading reference sequences...  [1.28011s]\n",
      "Building reference histograms...  [1.44305s]\n",
      "Allocating buffers...  [3.6e-05s]\n",
      "Initializing temporary storage...  [0.234265s]\n",
      "Processing query chunk 0, reference chunk 0, shape 0, index chunk 0.\n",
      "Building reference index...  [3.47431s]\n",
      "Building query index...  [0.007637s]\n",
      "Building seed filter...  [0.091849s]\n",
      "Searching alignments...  [5.11982s]\n",
      "Deallocating buffers...  [0.054772s]\n",
      "Computing alignments...  [4.37166s]\n",
      "Deallocating reference...  [0.039939s]\n",
      "Loading reference sequences...  [1.5e-05s]\n",
      "Deallocating buffers...  [0.000324s]\n",
      "Deallocating queries...  [3e-05s]\n",
      "Loading query sequences...  [0.000184s]\n",
      "Closing the input file...  [0.000207s]\n",
      "Closing the output file...  [0.000473s]\n",
      "Closing the database file...  [7e-06s]\n",
      "Total time = 16.2143s\n",
      "Reported 458 pairwise alignments, 458 HSPs.\n",
      "133 queries aligned.\n"
     ]
    }
   ],
   "source": [
    "from IPython.display import clear_output\n",
    "identity = 80\n",
    "\n",
    "for file0 in lst_files :\n",
    "    path_faa = dir_genome + \"%s\" % file0\n",
    "    path_out = dir_genome.replace(\"genome\", \"cog\") + \"cog_%s\" % file0\n",
    "    path_out = path_out.replace( \".faa\", \".out\" )\n",
    "\n",
    "    COG_command = \"%s blastp --db %s --query %s --out %s --id %s\" % (\n",
    "                    path_diamond, path_db_cog, path_faa, path_out, identity)\n",
    "    \n",
    "    print COG_command\n",
    "    !$COG_command\n",
    "    #clear_output()\n",
    "    break"
   ]
  },
  {
   "cell_type": "code",
   "execution_count": 6,
   "metadata": {},
   "outputs": [
    {
     "name": "stdout",
     "output_type": "stream",
     "text": [
      "4631\n",
      "4631\n",
      "1962317\n",
      "1785722 1785722\n"
     ]
    }
   ],
   "source": [
    "path_cogname = \"/home/j1lim/prot2003-2014/cognames2003-2014.tab\"\n",
    "df_cogname = pd.read_csv( path_cogname, sep = \"\\t\" )\n",
    "df_cogname.columns = [ \"cog\", \"function\", \"name\" ]\n",
    "\n",
    "dic_cogfunction = { row.cog: row.function for idx, row in df_cogname.iterrows() }\n",
    "dic_cogname = { row.cog: row[2] for idx, row in df_cogname.iterrows() }\n",
    "\n",
    "print len( dic_cogfunction )\n",
    "print len( dic_cogname )\n",
    "\n",
    "path_cog = \"/home/j1lim/prot2003-2014/cog2003-2014.csv\"\n",
    "df_cog = pd.read_csv( path_cog, header = -1 )\n",
    "df_cog.columns = [ \"domain_id\", \"genome_name\", \"protein_id\", \"protein_length\", \"domain_start\", \"domain_end\", \"cog_id\", \n",
    "                  \"membership_class\", \"empty\" ]\n",
    "\n",
    "print len( df_cog )\n",
    "\n",
    "dic_cog = {}\n",
    "dic_protein_cog = {}\n",
    "for idx, row in df_cog.iterrows() :\n",
    "    protein_id = row.protein_id\n",
    "    if protein_id not in dic_cog :\n",
    "        dic_cog[ protein_id ] = \"\"\n",
    "        dic_protein_cog[ protein_id ] = \"\"\n",
    "    if row.cog_id not in dic_cogfunction :\n",
    "        continue\n",
    "    dic_cog[ protein_id ] = dic_cog[ protein_id ] + dic_cogfunction[ row.cog_id ]\n",
    "    dic_protein_cog[ protein_id ] = dic_protein_cog[ protein_id ] + \",\" + row.cog_id\n",
    "    \n",
    "for k, v in dic_cog.items() :\n",
    "    cog = \"\".join( set( v ) )\n",
    "    dic_cog[ k ] = cog\n",
    "\n",
    "\n",
    "print len( dic_cog ), len( dic_protein_cog )"
   ]
  },
  {
   "cell_type": "code",
   "execution_count": 7,
   "metadata": {},
   "outputs": [
    {
     "name": "stdout",
     "output_type": "stream",
     "text": [
      "REPSEQ_ACCESSORY.faa 133\n",
      "118\n",
      "Counter({'R': 19, 'I': 14, 'H': 12, 'C': 11, 'J': 11, 'L': 9, 'Q': 9, 'E': 8, 'M': 8, 'F': 6, 'O': 6, 'G': 5, 'X': 5, 'T': 4, 'V': 4, 'K': 3, 'S': 3, 'P': 2, 'U': 2, 'D': 1, 'N': 1, 'W': 1})\n",
      "REPSEQ_CORE.faa 3240\n",
      "3074\n",
      "Counter({'R': 486, 'I': 426, 'K': 285, 'Q': 281, 'H': 247, 'C': 237, 'E': 226, 'P': 216, 'S': 199, 'M': 184, 'G': 176, 'J': 175, 'T': 150, 'O': 113, 'L': 110, 'V': 94, 'F': 64, 'D': 48, 'U': 20, 'X': 14, 'N': 13, 'W': 3, 'A': 2, 'B': 1})\n",
      "REPSEQ_UNIQUE.faa 299\n",
      "242\n",
      "Counter({'R': 34, 'I': 32, 'Q': 28, 'X': 25, 'S': 22, 'H': 19, 'M': 16, 'T': 14, 'V': 14, 'C': 13, 'E': 13, 'L': 13, 'G': 12, 'O': 10, 'P': 10, 'K': 9, 'J': 8, 'U': 5, 'F': 4, 'D': 3, 'N': 2, 'W': 1})\n"
     ]
    }
   ],
   "source": [
    "#lst_files = [ \"FBL1\" ]\n",
    "\n",
    "for file0 in lst_files :\n",
    "    path_faa = dir_genome + \"%s\" % file0\n",
    "    \n",
    "    dic_anno = {}\n",
    "    for seq in SeqIO.parse(path_faa, \"fasta\"):\n",
    "        dic_anno[seq.id] = str(seq.seq)\n",
    "    lst_genes = dic_anno.keys()\n",
    "    \n",
    "    path_out = dir_genome.replace(\"genome\", \"cog\") + \"cog_%s\" % file0.replace('faa', 'out')\n",
    "    \n",
    "    df_blast = pd.read_csv( path_out, sep = \"\\t\", header = -1 )\n",
    "    df_blast.columns = [ \"gene_id\", \"target\", \"pidentity\", \"length\", \"mismatch\", \"gapopen\", \"qstart\", \n",
    "                        \"qend\", \"sstart\", \"send\", \"evalue\", \"bitscore\" ]\n",
    "\n",
    "    path_gene_cog = dir_genome.replace(\"genome\", \"gene_cog\") +\"%s\" % file0\n",
    "    path_gene_cog = path_gene_cog.replace( \".faa\", \".out\" )\n",
    "    path_gene_table = dir_genome.replace(\"genome\", \"tables\") + \"table_%s\" % file0.replace( 'faa', 'out' )\n",
    "    o_cog = open( path_gene_cog, \"w\" )\n",
    "    o_table = open( path_gene_table, 'w' )\n",
    "    \n",
    "    #print df_blast.head( 5 )\n",
    "    dic_blast = {}\n",
    "    for idx, row in df_blast.iterrows() :\n",
    "        if row.gene_id not in dic_blast :\n",
    "            dic_blast[ row.gene_id ] = row\n",
    "    print file0, len( dic_blast )\n",
    "    \n",
    "    \n",
    "    dic_cog0 = {}\n",
    "    for gene_id in lst_genes :\n",
    "        if gene_id not in dic_blast :\n",
    "            o_cog.write( \"%s\\tS\\r\\n\" % gene_id )\n",
    "            \n",
    "            o_table.write( \">%s\\t\\r\\n\" % gene_id )\n",
    "            continue\n",
    "            \n",
    "        row_blast = dic_blast[ gene_id ]\n",
    "    \n",
    "        protein_id = int( row_blast.target.split( \"|\" )[ 1 ] )\n",
    "        if protein_id not in dic_cog :\n",
    "            o_cog.write( \"%s\\tS\\r\\n\" % gene_id )\n",
    "            \n",
    "            o_table.write( \">%s\\t\\r\\n\" % gene_id )\n",
    "            continue\n",
    "            \n",
    "        cog_group = dic_cog[ protein_id ]\n",
    "\n",
    "        dic_cog0[ protein_id ] = cog_group\n",
    "        o_cog.write( \"%s\\t%s\\r\\n\" % (gene_id, cog_group) )\n",
    "        \n",
    "        lst_cog_id = (dic_protein_cog[ protein_id ]).split(\",\")\n",
    "        lst_cog_id = lst_cog_id[1:]\n",
    "        \n",
    "        o_table.write( \">%s\" % gene_id )\n",
    "        for l in lst_cog_id:\n",
    "            o_table.write( \"\\t\\t%s\\t%s\\t%s\\t%s\\t\\n\" % (str(protein_id), l, str(dic_cogfunction[l]), str(dic_cogname[l])) )\n",
    "    print len( dic_cog0 )\n",
    "    \n",
    "    lst_cog = []\n",
    "    for k, v in dic_cog0.items() :\n",
    "        lst_cog.extend( list( v ) )\n",
    "        \n",
    "    o_cog.close()\n",
    "    o_table.close()\n",
    "    \n",
    "    import collections\n",
    "    c = collections.Counter( lst_cog )\n",
    "    print c"
   ]
  },
  {
   "cell_type": "code",
   "execution_count": 8,
   "metadata": {},
   "outputs": [
    {
     "name": "stdout",
     "output_type": "stream",
     "text": [
      "['REPSEQ_ACCESSORY.out', 'REPSEQ_CORE.out', 'REPSEQ_UNIQUE.out']\n"
     ]
    }
   ],
   "source": [
    "dir_genecog = \"/media/sf_j1/MAP/analyzed_data_new/COG/MAP_40/identity_0.9/gene_cog/\"\n",
    "file_genecog = os.listdir(dir_genecog)\n",
    "print file_genecog"
   ]
  },
  {
   "cell_type": "code",
   "execution_count": 9,
   "metadata": {
    "scrolled": true
   },
   "outputs": [
    {
     "name": "stdout",
     "output_type": "stream",
     "text": [
      "REPSEQ_ACCESSORY.out / gene_num:  1268 / cog_num 1297\n",
      "Counter({'S': 1138, 'R': 19, 'I': 17, 'H': 13, 'J': 13, 'C': 11, 'E': 11, 'M': 11, 'L': 11, 'Q': 11, 'F': 7, 'O': 6, 'G': 5, 'X': 5, 'T': 4, 'V': 4, 'K': 3, 'U': 3, 'P': 2, 'D': 1, 'N': 1, 'W': 1})\n",
      "SSSSSCSSSSSSSSSSSSSSSSSSSSSSSSSSSSSSSSSSGSSSSISSIQSSSSSSSSSSSSSOSSSSSSSSSSSSSSSSSSSSSTSSSSSSSSSSSLSSSSSSSSSSRSSSSSSSISSSSSSSSSSSSSIQSSSSSSSSSSSSSSSHSSSSSSSSSSSSSSSSSSSSHSSSSSSSSSFSSSSSSSSSSSSSSSSSSSSSSLSSSSSSSSSSMSSSSSSSUSSSSSSSSSLSSSSSSSSIQRSSSSSSSSSSSSSSSSLSSSRSSSSSXSSJSSSSSSSSSSSSISSSSSSSSSSSESSSPSSSISSSSSISSSSSSSSSSSSSSFSSSSSSSSSSSSSSSSJSSTSSSSSSSSSSSSRSSSIQCRSSHRJHSSSSSSSSSSSSSSSSSSSDSSIRLJSSSSSSSSSSSSSLSSSSSSSSMVSSMSSSSSSSSSSSSXSSSSSSLSSSSSSSSSSKKSSSFUSSSOSSSSHSJCSSSSSSSISSSSSSMSCSSSSSHRSSSSSSSSSSSSSSEISSSSFSSSSSSSSSSSSSSSSSSSSSSESSSJSHRSSSSHRSSSSSSSSJSSSSSSSSSSSSSSSSSSSSSSSSSSSSSSSSSSSSSQESHSSRSSSOSSSSSSSSSSSMSESSSESSSSSSSSSSSSISSSSSSSSSSHESSSSIRSSHSSSSMSSSSSSSSSSSSSJPSSSSSSSSSSSSSSSSHCSSSSSSSSSSSSSSSSSSSMSSSSTSSSSSSSSGSSSSSSSSSSSSSSSSSSMSSSSSSSSSSSSSSSSSSXSSSSSSSSSSSSCSSSSSSSSSSSSSSSSSSSSSSSSSSSLVSSSSRSSSSSSSSSCSSSSSIQSSSSSSSSSSSSSSSSSSSSSSSSJSSSSSSSSSSLSSSSSSVSFSSSSSSSSSSSSSSGSSSSSSKOSSSSCRSSSSSSSSSSSSSSSSSSUWSSSSSSSSSSSSSSSSSSSSSSSSSHESSSSESSSSSSSSSSXSSSSSSSSSSSSSSRSSSSSSSSSSSSSSEMSSSSSSSSSSSSSSSSSSSSSSFSSSSXSSSSSSSSSSSSSSSSSSSSSSSSSSSSSSSSSSSSOSSSSSSSSEFIQSSSSQSSSSSSSSSSSSSJSSSSCSSSSSSSSSSSSSSSSSSSSSRSSSSSSSGSSSSSSSSSSTSSSSSSSSJSJSSJSSSSSSSSSSSSSSSSSSSSSSSSSSSSRSSSSSSSSSSSSGLSSSSSSSSSSSSSSSSSSMSSSSSSNSSSSSSSSSSSSSSSSSSSSSSSMSSSSSQCRSSSSSSSSSIQRSSSSSSSSCOSSSSSQVSSSSL\n",
      "REPSEQ_CORE.out / gene_num:  3972 / cog_num 4722\n",
      "Counter({'S': 955, 'R': 518, 'I': 444, 'Q': 311, 'K': 296, 'H': 250, 'C': 242, 'E': 232, 'P': 231, 'M': 203, 'G': 180, 'J': 176, 'T': 166, 'L': 117, 'O': 117, 'V': 112, 'F': 66, 'D': 51, 'U': 20, 'X': 16, 'N': 13, 'W': 3, 'A': 2, 'B': 1})\n",
      "GPXHQLQMMRVKRTGQQHCHSISSKIQRIRFKSSCSGSUMPTIHTPTMHCSJPKHCRCRKSSGJOVHIIHPCSQHTSHRSMLFHTHSEHDNKFSSGHIHREFETTHRRRGFSSSIQIFKRCCIPRLSJHVSRKGKJKGKPDTTSPCISKRPTFGIJFJSQRCRSSSSMVMEISHREQVCGPKEGJRHPSDSSSKPCHRVRMKMIKTPREGRISHQCRLIKIQEJSRUQHQICTJHESCIRHSHKDREQKKTSHRIQRCDQELISRPMJESPGQPCRCNKCSRGIQEIOTSRJSKPRHTSCSTRSCRQRSQPSSCFTRJLMISOISGOIRFGSSSSLKTSPSLIQRSHCGHCPRRISPQIQREPCOHRETCIHRCRSSORKSRSSSSESPSSSMMTFSIRGLTKTKTIQISSRIRSSEJSMLRIQSICRIQIIQGIVSISSVIQSIKRTISKTEFHTOEPMIQCRSOLCSSSLSPREGRSKKSSQVQJOIIKJKGCCEHESSKSRMDTSGLQESSMMGSJCSIJSCVVCDSOSSITLJGLKRSRGKSISLECLEFITQRQVMSUMTSMGSGOPECRSRISRCSLJKGSKMSFCIDUEISRPHIQRKKLKHRHSOEFELRSMMTGHRSSSIQRMRESSIMLVLMIQHRHEFSSJDMRISISISSHHMOMRITNCKKJOSCSMSSIGSHSHCIKVHMSKKKSIQRSRSCIQRJLOQVIQCRMSCOMIEIQRSRSSIIGCSIQESIQVOLOHEPFHRLIIISHEIIIICSOPSSCDJSKTTPSESIHSQMIHIQEHRPFRCHIEIQRRTVIQRPSQVEQVSSSSISETPTITMGMDTMPCTNCSPGIQRSHTFSMHMRJPSKGIQRPJSSMQPGHKTSIRPREGIPEEHRSKRETKJRRISLCSSEGHRMJGVTCSSSIEIQRFSCKTSIHRSSIKFRSEHMHRSKIPTKSOHRRHSSRIQRSIHCRKPKCIQRSRSRCJTOGSQRSIOKMSIMSEPSIVEESTCSPIPVSSRDKHIOKLKPREGTSHIJRSSKPRHEHJIQRSVSSSSSJMQLMUMCHIQQSPCRCOHKMSISKCSCISPPSHRESSKSESSLHREVPHOSSICRIMTECESPQQKIRTFSSJJOEPJTKSIQRIGKSPMSHPXVHJSOLPCMRIKVPREGSHEGVPCJXSICCIQRHRQLSLSHRETKMLSIEKSETSTRQISGUIESTSPESSMEJGEKSIRISIQRSSKISMSICQIQRHEMMRJSSCKSIQROQSMRHMIQIJPSJKKOSOJDSMHSSDNGIILICSJLKHERHSPGKMDTMLCJKQIQRQHEEVHEMSEVPRSKTUESCPCOIPSHRIKIISRJCJSQSDPIJKSSIQVJSTHCREGGKQKTQPIQRRJPTVIQRSIQSMKKMJRKTFSDKSKRSJOFROOIQOISGHMSMMQVLGHSOFJSSKTPREGSUDOIJRIQRHJEPPCRSPTMTDRSIQREOILQHELSKSGTVKQIKFQVKSIRHERSRSTSVSSESSKORPEIQROIQRJQVPSIQRHKPSRGICRCMSOISDPVKREHOCHEQHEICRTQCKSKIQISHERTTDPKREGKHMSIPGSRLGMIHJCSQVRPHFMSLIKTSDPREGSFSKLKSMSRMRLMSSHPGJQIQRQQSDRIQSRTSKSRPREGERPREGHSSROSIVSRLERSRSQHRHRSQPMDSJHESKPLSESRSEPRSHRCMIQSPSIMQIQLSORSHESSIMVSSOMRGFSHRJJJRRSQCXKCICCTKCMGSRSRISIKSSKSOGMSSSJMDRMGIQPESKTSRJSJIOSCEJQFQVMHGIJCRSHERXOSHJSEHRSJQGPCIQKUPGLMXSLSSSSTJRIVSCSESCSPFHSPMSIQRJSFSHCRSQISQSIQSIKMJGRIQTOQRMSIQCRIISRGJIRSSIQRSHRKHRRKRSSRLRERSSSQLKPREGCRRHIIIQRSQUSQLKMIQJSQIJJSHSIISCVKRLFRQJPGEGJSOHSSIQIESMHRSSSHRPOIQIQVGQVSIKOSTESSKRIIFRSHSCSOSEHRSQVKCRMSRGIQRCMJSRIPHCSPCRGSSSSKLHRTQPTFLSRMHPGVSVIHJEGIQSJEEHTQSJUOCSSSMIRJTQTPCSKKQHPVCPRDLTIISHRGGSPLISXSSOIQRRGVICMGEQHSVGHKLMCQMKSHPSQSLQQSMVMSSPSQRTPCIQRSPKDSRQVSKIIOIHCCSIPREGMSSROJDTSSLSKKTQTIQRKTRTSIQRSMCPKRIIQCCSSSJVMIMQKSKTQIQSVRPSGIQOSPMSKPIKJETVGSMKGSSIOCCOKCSIQRICGKVSRSKRSKEJKTSSGKSKSSKGCQCIQRPIQRSPGSIQVGIMDPSSSTSRPIJIRGHIMMPSIHRSIQTRMRSKSSKTKRFMRKTIHKFSSGPLELIQLCSIHSCPCLEQKQVCHCJCSCIQRSMDKTMGSGTPFIQTIQRSGIQMJSIQGVKKUWSJQRSGSEIQROJGSEFSSGVLKJRIQMSJCSKFSVFIKGOMFCSKTSSLECMWNSISPJPSJIKSSCRMMCLKCIGCKDNIEPIQRPLISFJSSJOJJMLSKIQRRORHRJKSISRIPREGIJIMSLIKNKSFHRGPECGHRSIRUIIMGGRSHRQRQVSXISKQKSHRGGJIKRTPSMIQCJSQRJSMESCGSEKCKEHOIQOSQRREGSPCCQTCLGKSKSEKSKSMEEGOIQRGSSSJSMSCRSIQPIJSIQSEVISQEKSVLVISCQLQJQVSSSRMOKTRSHRGSKQVPIQRCQRRRSEKKMSIQRKIKOISKSMGIQRSSUFPRIHCKESKRIISRHRLQKHEIIQMSTSSFSSCSGCSCSSTRIRLMIQRPCHRHRSIKKTORDPSRPFPRQMTSQVCHRJQJTIXLLNSLCDOSIISCSAOASVSSPRHSRESGLMSIHSCGPCREKOMGISSIQRSSGQRGHKICTISSEOCSQIQRJSSSIKTIPSCDHEEPRKHRGKSKEMGSKTILHRJSOQTNREISSSHPRRKESSVSSPCRSIEJSSGSRJMGSCOOIKJTOJLRERISHQSPTNEKIIQCROIEGIQPQVRTQESSTSGQOSJVJSPKPCSPISOJSLMSSIRSSKSEOISIKSSFOSFCCSSSREGPLGSKSESRHRHRCEHRHRKHSIQRSSSMGQKSSIQRIQRGJSMTQSTKHRIIQIQRIQRSSKRGRSEKGKSGSPEROSIVHRRTQVDSREGGCIFJCSHRPKSCTKSRSREJIIQKRGKTMQJCRPQLKSPSSSTKCSKSMSMSSIPSSSSJHJIHDOSCCCMRSSSSPSPEVHREIRKLETGGSSSSIJLHPPESIXPMDIQRJSSSRSKIISPCOIRSRQICRKRXKSKGSIGJSTDKOCOSJJGSJCJILGKTHSPQVRMSQLTOQRPRSEIULPSIQSDEITRPHCSPSKTIQRTQHRIMKGSSEJHSQVHRMESKIQSQJSDTEOMPRIRRSEISCKESCESQVHRPRSMDSPISVIMCHJKTHRSJHQSCLIEKOSIRIICIQIIQRIEIKQDDSGJCCCRFSSCIQRCQRPREGMIOGGSSSIQRSTMKTTHRJKSJPRPRKMPSESSSPRSHSUSKKPRIRRPEKRHRCSSPCLMSJHHMSJPRMSRKSSSHIKKELKSIOIRRSQVRSQSHSSIQRPSEUSSEKPVJJQRJKRMJRRRHRSRFVKIKEVKSPVSIHEESSSEFKPGIQRRESCSPGMIMRCCISTMSSSSPIQRSISSSSSSSHRERQRJIKMPSCGJHEIQRLHSDMRMRSEHQPSCIISSKKRQHEJGILJRIQVSIJKLSSKGRJSIVTIQSHRTSKJUWSMSSSMHIQOFJSUPMXRIQPLOMSSPRCKPGMSSSPSTKOQRHRPGSIVIKGSJSCITOSSKPRVJCQSCCVVIMSSILTPREGSSPQTSGERSCVLIQOEFLPCKRJSQRSQKTESEVCEKTHEPSJQTEOPRORMSFSKCRSSRQSFEQSJSCSHESKTITPSSHSHSXHCIRJSEIRIQRKQVPSIRCPERVIHRSSHKKJJMDTSIGRPHEMPFQVSSCSIPEQSSPSSSKSSHRGHCHCSHQRFCORIQCRQMSSCLSCHRSSKHRSSRGFFOLPRMTSKSRIHCRIQRSPESSIIRSGIPSGSRVKSJRSQSEIISLPDOVSRMKHESSMHTSSJSRHCQKRGSQKQBHHRPSCCVERSHRKREHRRLKHESEKQVSIIRIMSRMCRSKCIIQRVQVMDNEEOSDNSQHRIHRTRSSSKSKTJKSSLIHREPCJRHKSSOCSESSIRSGCSISIRSHESFPIQRVXMRMOPPKTSHMJHTSLUSHCTSEHSSSSSJKTSJSGPSRESHLMLMHHSIQRSCIPMPMISFIGMSLSMDOTQCRKPSPROEQERIQRSSQSQQRSOSSSJIQCRQERSSSSCQLTSHTOXSKXSIJISSEMQSESOSPSSLMEGPEJHSJQSLSSRSKTSSHSVPRJHRRPREGGETLSSMHCSRCREHRIRMIIMMGIQPQVSPKCHRLQVKKCIVSRESHRTKTSSSTVCPQRSSKSQRSMQKPHGSVSSEFSSMEKLLSPTOISCEIRHROHRSIQRQVKSEKSLHKMTSRJPPIVSGOIQRHKSIRSILIKISSPEOISRCQHRICPREGESKSSIHRSSIIQRSHRSLGFREMMIQRFSQVKJGRCSIIQRSDGECIQRIRRHRGSMSSSJSRRSPSHRJJOCMCDOCRIPMHRRSPC\n",
      "REPSEQ_UNIQUE.out / gene_num:  659 / cog_num 742\n",
      "Counter({'S': 388, 'X': 42, 'R': 40, 'I': 38, 'Q': 35, 'V': 22, 'H': 20, 'C': 18, 'L': 18, 'T': 18, 'M': 16, 'O': 16, 'E': 14, 'G': 13, 'K': 10, 'P': 10, 'J': 8, 'U': 6, 'F': 4, 'D': 3, 'N': 2, 'W': 1})\n",
      "HXSISSSSSISRSSRSSSQHLMDVSSHSSXSIQRHSQSSIQSRIQCRROJRSSXSVSSJILXQVSLSPVSSHSRGGMSSSSTISSSSIRSSXKSVSSSSSSSIQCRSSXSJRSSMLSESSSSCSSSSSSSXIQRSSTSMSSKTSPREGHSKSSOSIQSCVXSXSSSLSSSGVUSSSLSSISSSTGSSSSEXSSFSHSGLSSSXKTHLSXSSSSSSISSSXSVSQVISTVSSSQRSSCRRMQVQEGVSSIQSSSSSSQSSSSQSSSSSSUSSSSMESMSXXSSSSSVSSSXHCQSQFSISSIQSKTXSMSOSXSSTTSHRJIQSECOSOHRSSSSSXSSRSSSSSRVSHRIRSSPSSSSSSSSSSMSXSQHESXXIQXSSSSSXSSSSLSOSQHSSSSSSJXDNXHRGSSSSIQCRSSSSESTLSKSSSSLSHRTUMSRMRSSSSOSSESFSISSQSSSPDNIQRSEPSSSSGSSSSSRXIQROSSEKTIQCRSSOSOSSSIXXCJRSKSSSSSLSISSSCOGSQSSSSTSSPFXSSSSSIOQVSSQICRSSXSSSSSIQRUPXPRSSSSGXXIQVSSIEXCXXSSSESSPSSKSSSHRSSSSSSIOSHSSSSSPSISSSKTSSSLXCSSSTVSSSSSSSSUSSLTVSSSSSSLMVSSXSSSQSSSSSSOSSOCLVGISTSISVSSSJSSSUWSSSSREMXSLSSSSXMLSSSQICROSSHRMTSHRSSSSSSMGSIXVJCSC\n"
     ]
    }
   ],
   "source": [
    "for x in file_genecog:\n",
    "    if \"REPSEQ_\" not in x:\n",
    "        continue\n",
    "    print x, \"/\",\n",
    "    seq_ = \"\"\n",
    "    f_ = file(dir_genecog + x)\n",
    "    r_ = f_.read()\n",
    "    f_.close()\n",
    "    spl = r_.split(\"\\r\\n\")\n",
    "    gene_num = 0\n",
    "    for y in spl:\n",
    "        if y == \"\":\n",
    "            continue\n",
    "        lst_ = y.split(\"\\t\")\n",
    "        seq_ += lst_[1]\n",
    "        gene_num += 1 \n",
    "        #break\n",
    "    print \"gene_num: \", gene_num, \"/\", \"cog_num\", len(seq_)\n",
    "    print collections.Counter( seq_ )\n",
    "    print seq_\n",
    "    #break"
   ]
  },
  {
   "cell_type": "code",
   "execution_count": null,
   "metadata": {},
   "outputs": [],
   "source": []
  },
  {
   "cell_type": "code",
   "execution_count": 14,
   "metadata": {},
   "outputs": [
    {
     "name": "stdout",
     "output_type": "stream",
     "text": [
      "['REPSEQ_ACCESSORY.out', 'REPSEQ_CORE.out', 'REPSEQ_UNIQUE.out']\n"
     ]
    }
   ],
   "source": [
    "dir_genecog = \"/media/sf_j1/MAP/analyzed_data_new/COG/MAP_40/identity_0.9/_identity_0.8/gene_cog/\"\n",
    "file_genecog = os.listdir(dir_genecog)\n",
    "print file_genecog"
   ]
  },
  {
   "cell_type": "code",
   "execution_count": 15,
   "metadata": {},
   "outputs": [
    {
     "name": "stdout",
     "output_type": "stream",
     "text": [
      "REPSEQ_ACCESSORY.out /"
     ]
    },
    {
     "ename": "IndexError",
     "evalue": "list index out of range",
     "output_type": "error",
     "traceback": [
      "\u001b[0;31m---------------------------------------------------------------------------\u001b[0m",
      "\u001b[0;31mIndexError\u001b[0m                                Traceback (most recent call last)",
      "\u001b[0;32m<ipython-input-15-b60583bd5111>\u001b[0m in \u001b[0;36m<module>\u001b[0;34m()\u001b[0m\n\u001b[1;32m     13\u001b[0m             \u001b[0;32mcontinue\u001b[0m\u001b[0;34m\u001b[0m\u001b[0m\n\u001b[1;32m     14\u001b[0m         \u001b[0mlst_\u001b[0m \u001b[0;34m=\u001b[0m \u001b[0my\u001b[0m\u001b[0;34m.\u001b[0m\u001b[0msplit\u001b[0m\u001b[0;34m(\u001b[0m\u001b[0;34m\"\\t\"\u001b[0m\u001b[0;34m)\u001b[0m\u001b[0;34m\u001b[0m\u001b[0m\n\u001b[0;32m---> 15\u001b[0;31m         \u001b[0mseq_\u001b[0m \u001b[0;34m+=\u001b[0m \u001b[0mlst_\u001b[0m\u001b[0;34m[\u001b[0m\u001b[0;36m1\u001b[0m\u001b[0;34m]\u001b[0m\u001b[0;34m\u001b[0m\u001b[0m\n\u001b[0m\u001b[1;32m     16\u001b[0m         \u001b[0mgene_num\u001b[0m \u001b[0;34m+=\u001b[0m \u001b[0;36m1\u001b[0m\u001b[0;34m\u001b[0m\u001b[0m\n\u001b[1;32m     17\u001b[0m         \u001b[0;31m#break\u001b[0m\u001b[0;34m\u001b[0m\u001b[0;34m\u001b[0m\u001b[0m\n",
      "\u001b[0;31mIndexError\u001b[0m: list index out of range"
     ]
    }
   ],
   "source": [
    "for x in file_genecog:\n",
    "    if \"REPSEQ_\" not in x:\n",
    "        continue\n",
    "    print x, \"/\",\n",
    "    seq_ = \"\"\n",
    "    f_ = file(dir_genecog + x)\n",
    "    r_ = f_.read()\n",
    "    f_.close()\n",
    "    spl = r_.split(\"\\r\\n\")\n",
    "    gene_num = 0\n",
    "    for y in spl:\n",
    "        if y == \"\":\n",
    "            continue\n",
    "        lst_ = y.split(\"\\t\")\n",
    "        seq_ += lst_[1]\n",
    "        gene_num += 1 \n",
    "        #break\n",
    "    print \"gene_num: \", gene_num, \"/\", \"cog_num\", len(seq_)\n",
    "    print collections.Counter( seq_ )\n",
    "    print seq_\n",
    "    #break"
   ]
  },
  {
   "cell_type": "code",
   "execution_count": null,
   "metadata": {},
   "outputs": [],
   "source": []
  }
 ],
 "metadata": {
  "kernelspec": {
   "display_name": "Python 2",
   "language": "python",
   "name": "python2"
  },
  "language_info": {
   "codemirror_mode": {
    "name": "ipython",
    "version": 2
   },
   "file_extension": ".py",
   "mimetype": "text/x-python",
   "name": "python",
   "nbconvert_exporter": "python",
   "pygments_lexer": "ipython2",
   "version": "2.7.12"
  }
 },
 "nbformat": 4,
 "nbformat_minor": 2
}
