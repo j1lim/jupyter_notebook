{
 "cells": [
  {
   "cell_type": "code",
   "execution_count": 1,
   "metadata": {},
   "outputs": [],
   "source": [
    "import os\n",
    "dir_notebook = os.getenv( \"HOME\" )\n",
    "file_include = dir_notebook + \"/_include.ipynb\"\n",
    "%run $file_include"
   ]
  },
  {
   "cell_type": "markdown",
   "metadata": {},
   "source": [
    "Make database list"
   ]
  },
  {
   "cell_type": "code",
   "execution_count": 2,
   "metadata": {},
   "outputs": [
    {
     "name": "stdout",
     "output_type": "stream",
     "text": [
      "7\n",
      "['PATRIC_virulence_factor.faa', 'PATRIC_virulence_factor.fna', 'PATRIC_virulence_factor_gene_info.csv', 'VFDB_virulence_facrtor.faa', 'VFDB_virulence_facrtor.fna', 'VFDBs_virulence_factor_gene_info.xls', 'Victors_virulence_factors_database.faa']\n"
     ]
    }
   ],
   "source": [
    "genome_dir = \"/media/sf_j1/database/virulence_factors/\"\n",
    "lst_genome = os.listdir(genome_dir)\n",
    "lst_genome.sort()\n",
    "lst_genome = lst_genome[:-1]\n",
    "print len(lst_genome)\n",
    "print lst_genome"
   ]
  },
  {
   "cell_type": "markdown",
   "metadata": {},
   "source": [
    "BPGA REPSEQ usearch with each database"
   ]
  },
  {
   "cell_type": "code",
   "execution_count": 3,
   "metadata": {},
   "outputs": [
    {
     "name": "stdout",
     "output_type": "stream",
     "text": [
      "3\n",
      "['REPSEQ_ACCESSORY.txt', 'REPSEQ_CORE.txt', 'REPSEQ_UNIQUE.txt']\n"
     ]
    }
   ],
   "source": [
    "seq_dir = \"/media/sf_j1/MAP/analyzed_data_new/BPGA/MAP_40/identity_0.9/Sequences/\"\n",
    "lst_seq = os.listdir(seq_dir)\n",
    "lst_seq.sort()\n",
    "lst_seq = lst_seq[:3]\n",
    "print len(lst_seq)\n",
    "print lst_seq"
   ]
  },
  {
   "cell_type": "code",
   "execution_count": 6,
   "metadata": {},
   "outputs": [],
   "source": [
    "usearch_dir = \"/home/j1lim/Usearch/usearch_10\"\n",
    "out_dir = \"/media/sf_j1/MAP/analyzed_data_new/virulence_factor/MAP_40/identity_0.9/usearch_result/direct_compare/\""
   ]
  },
  {
   "cell_type": "code",
   "execution_count": 10,
   "metadata": {},
   "outputs": [
    {
     "name": "stdout",
     "output_type": "stream",
     "text": [
      "REPSEQ_ACCESSORY.txt\n",
      "PATRIC_virulence_factor.faa\n",
      "/home/j1lim/Usearch/usearch_10 -ublast /media/sf_j1/MAP/analyzed_data_new/BPGA/MAP_40/identity_0.9/Sequences/REPSEQ_ACCESSORY.txt -db /media/sf_j1/database/virulence_factors/PATRIC_virulence_factor.faa -alnout /media/sf_j1/MAP/analyzed_data_new/virulence_factor/MAP_40/identity_0.9/usearch_result/direct_compare/ACCESSORY_PATRIC_THsO.aln -blast6out /media/sf_j1/MAP/analyzed_data_new/virulence_factor/MAP_40/identity_0.9/usearch_result/direct_compare/ACCESSORY_PATRIC_THsO.out -top_hits_only -evalue 1e-06 -id 0.8\n",
      "usearch v10.0.240_i86linux32, 4.0Gb RAM (11.1Gb total), 4 cores\n",
      "(C) Copyright 2013-17 Robert C. Edgar, all rights reserved.\n",
      "http://drive5.com/usearch\n",
      "\n",
      "License: limjwlove@nate.com\n",
      "\n",
      "00:00 41Mb    100.0% Reading /media/sf_j1/database/virulence_factors/PATRIC_virulence_factor.faa\n",
      "00:00 7.2Mb   100.0% Masking (fastnucleo)                                                       \n",
      "00:00 19Mb    100.0% Word stats          \n",
      "00:00 19Mb    100.0% Alloc rows\n",
      "00:00 21Mb    100.0% Build index\n",
      "00:06 103Mb   100.0% Searching REPSEQ_ACCESSORY.txt, 1.8% matched\n",
      "\n",
      "==================================================================\n",
      "\n",
      "VFDB_virulence_facrtor.faa\n",
      "/home/j1lim/Usearch/usearch_10 -ublast /media/sf_j1/MAP/analyzed_data_new/BPGA/MAP_40/identity_0.9/Sequences/REPSEQ_ACCESSORY.txt -db /media/sf_j1/database/virulence_factors/VFDB_virulence_facrtor.faa -alnout /media/sf_j1/MAP/analyzed_data_new/virulence_factor/MAP_40/identity_0.9/usearch_result/direct_compare/ACCESSORY_VFDB_THsO.aln -blast6out /media/sf_j1/MAP/analyzed_data_new/virulence_factor/MAP_40/identity_0.9/usearch_result/direct_compare/ACCESSORY_VFDB_THsO.out -top_hits_only -evalue 1e-06 -id 0.8\n",
      "usearch v10.0.240_i86linux32, 4.0Gb RAM (11.1Gb total), 4 cores\n",
      "(C) Copyright 2013-17 Robert C. Edgar, all rights reserved.\n",
      "http://drive5.com/usearch\n",
      "\n",
      "License: limjwlove@nate.com\n",
      "\n",
      "00:01 57Mb    100.0% Reading /media/sf_j1/database/virulence_factors/VFDB_virulence_facrtor.faa\n",
      "00:01 24Mb    100.0% Masking (fastnucleo)                                                      \n",
      "00:02 36Mb    100.0% Word stats          \n",
      "00:02 36Mb    100.0% Alloc rows\n",
      "00:05 90Mb    100.0% Build index\n",
      "02:04 210Mb   100.0% Searching REPSEQ_ACCESSORY.txt, 4.7% matched \n",
      "\n",
      "==================================================================\n",
      "\n",
      "Victors_virulence_factors_database.faa\n",
      "/home/j1lim/Usearch/usearch_10 -ublast /media/sf_j1/MAP/analyzed_data_new/BPGA/MAP_40/identity_0.9/Sequences/REPSEQ_ACCESSORY.txt -db /media/sf_j1/database/virulence_factors/Victors_virulence_factors_database.faa -alnout /media/sf_j1/MAP/analyzed_data_new/virulence_factor/MAP_40/identity_0.9/usearch_result/direct_compare/ACCESSORY_Victors_THsO.aln -blast6out /media/sf_j1/MAP/analyzed_data_new/virulence_factor/MAP_40/identity_0.9/usearch_result/direct_compare/ACCESSORY_Victors_THsO.out -top_hits_only -evalue 1e-06 -id 0.8\n",
      "usearch v10.0.240_i86linux32, 4.0Gb RAM (11.1Gb total), 4 cores\n",
      "(C) Copyright 2013-17 Robert C. Edgar, all rights reserved.\n",
      "http://drive5.com/usearch\n",
      "\n",
      "License: limjwlove@nate.com\n",
      "\n",
      "00:00 43Mb    100.0% Reading /media/sf_j1/database/virulence_factors/Victors_virulence_factors_database.faa\n",
      "00:00 9.3Mb   100.0% Masking (fastnucleo)                                                                  \n",
      "00:00 21Mb    100.0% Word stats          \n",
      "00:00 21Mb    100.0% Alloc rows\n",
      "00:01 29Mb    100.0% Build index\n",
      "00:08 118Mb   100.0% Searching REPSEQ_ACCESSORY.txt, 1.4% matchedarching REPSEQ_ACCESSORY.txt, 0.6% matched\n",
      "\n",
      "==================================================================\n",
      "\n",
      "REPSEQ_CORE.txt\n",
      "PATRIC_virulence_factor.faa\n",
      "/home/j1lim/Usearch/usearch_10 -ublast /media/sf_j1/MAP/analyzed_data_new/BPGA/MAP_40/identity_0.9/Sequences/REPSEQ_CORE.txt -db /media/sf_j1/database/virulence_factors/PATRIC_virulence_factor.faa -alnout /media/sf_j1/MAP/analyzed_data_new/virulence_factor/MAP_40/identity_0.9/usearch_result/direct_compare/CORE_PATRIC_THsO.aln -blast6out /media/sf_j1/MAP/analyzed_data_new/virulence_factor/MAP_40/identity_0.9/usearch_result/direct_compare/CORE_PATRIC_THsO.out -top_hits_only -evalue 1e-06 -id 0.8\n",
      "usearch v10.0.240_i86linux32, 4.0Gb RAM (11.1Gb total), 4 cores\n",
      "(C) Copyright 2013-17 Robert C. Edgar, all rights reserved.\n",
      "http://drive5.com/usearch\n",
      "\n",
      "License: limjwlove@nate.com\n",
      "\n",
      "00:00 41Mb    100.0% Reading /media/sf_j1/database/virulence_factors/PATRIC_virulence_factor.faa\n",
      "00:00 7.2Mb   100.0% Masking (fastnucleo)                                                       \n",
      "00:00 19Mb    100.0% Word stats          \n",
      "00:00 19Mb    100.0% Alloc rows\n",
      "00:00 21Mb    100.0% Build index\n",
      "00:07 115Mb   100.0% Searching REPSEQ_CORE.txt, 4.8% matched1% matched\n",
      "\n",
      "==================================================================\n",
      "\n",
      "VFDB_virulence_facrtor.faa\n",
      "/home/j1lim/Usearch/usearch_10 -ublast /media/sf_j1/MAP/analyzed_data_new/BPGA/MAP_40/identity_0.9/Sequences/REPSEQ_CORE.txt -db /media/sf_j1/database/virulence_factors/VFDB_virulence_facrtor.faa -alnout /media/sf_j1/MAP/analyzed_data_new/virulence_factor/MAP_40/identity_0.9/usearch_result/direct_compare/CORE_VFDB_THsO.aln -blast6out /media/sf_j1/MAP/analyzed_data_new/virulence_factor/MAP_40/identity_0.9/usearch_result/direct_compare/CORE_VFDB_THsO.out -top_hits_only -evalue 1e-06 -id 0.8\n",
      "usearch v10.0.240_i86linux32, 4.0Gb RAM (11.1Gb total), 4 cores\n",
      "(C) Copyright 2013-17 Robert C. Edgar, all rights reserved.\n",
      "http://drive5.com/usearch\n",
      "\n",
      "License: limjwlove@nate.com\n",
      "\n",
      "00:00 57Mb    100.0% Reading /media/sf_j1/database/virulence_factors/VFDB_virulence_facrtor.faa\n",
      "00:00 24Mb    100.0% Masking (fastnucleo)                                                      \n",
      "00:01 36Mb    100.0% Word stats          \n",
      "00:01 36Mb    100.0% Alloc rows\n",
      "00:04 90Mb    100.0% Build index\n",
      "01:53 207Mb   100.0% Searching REPSEQ_CORE.txt, 5.2% matched  206Mb    45.6% Searching REPSEQ_CORE.txt, 8.7% matched\n",
      "\n",
      "==================================================================\n",
      "\n",
      "Victors_virulence_factors_database.faa\n",
      "/home/j1lim/Usearch/usearch_10 -ublast /media/sf_j1/MAP/analyzed_data_new/BPGA/MAP_40/identity_0.9/Sequences/REPSEQ_CORE.txt -db /media/sf_j1/database/virulence_factors/Victors_virulence_factors_database.faa -alnout /media/sf_j1/MAP/analyzed_data_new/virulence_factor/MAP_40/identity_0.9/usearch_result/direct_compare/CORE_Victors_THsO.aln -blast6out /media/sf_j1/MAP/analyzed_data_new/virulence_factor/MAP_40/identity_0.9/usearch_result/direct_compare/CORE_Victors_THsO.out -top_hits_only -evalue 1e-06 -id 0.8\n",
      "usearch v10.0.240_i86linux32, 4.0Gb RAM (11.1Gb total), 4 cores\n",
      "(C) Copyright 2013-17 Robert C. Edgar, all rights reserved.\n",
      "http://drive5.com/usearch\n",
      "\n",
      "License: limjwlove@nate.com\n",
      "\n",
      "00:00 43Mb    100.0% Reading /media/sf_j1/database/virulence_factors/Victors_virulence_factors_database.faa\n",
      "00:00 9.3Mb   100.0% Masking (fastnucleo)                                                                  \n",
      "00:00 21Mb    100.0% Word stats          \n",
      "00:00 21Mb    100.0% Alloc rows\n",
      "00:01 29Mb    100.0% Build index\n",
      "00:12 123Mb   100.0% Searching REPSEQ_CORE.txt, 3.1% matched\n",
      "\n",
      "==================================================================\n",
      "\n",
      "REPSEQ_UNIQUE.txt\n",
      "PATRIC_virulence_factor.faa\n",
      "/home/j1lim/Usearch/usearch_10 -ublast /media/sf_j1/MAP/analyzed_data_new/BPGA/MAP_40/identity_0.9/Sequences/REPSEQ_UNIQUE.txt -db /media/sf_j1/database/virulence_factors/PATRIC_virulence_factor.faa -alnout /media/sf_j1/MAP/analyzed_data_new/virulence_factor/MAP_40/identity_0.9/usearch_result/direct_compare/UNIQUE_PATRIC_THsO.aln -blast6out /media/sf_j1/MAP/analyzed_data_new/virulence_factor/MAP_40/identity_0.9/usearch_result/direct_compare/UNIQUE_PATRIC_THsO.out -top_hits_only -evalue 1e-06 -id 0.8\n",
      "usearch v10.0.240_i86linux32, 4.0Gb RAM (11.1Gb total), 4 cores\n",
      "(C) Copyright 2013-17 Robert C. Edgar, all rights reserved.\n",
      "http://drive5.com/usearch\n",
      "\n",
      "License: limjwlove@nate.com\n",
      "\n",
      "00:00 41Mb    100.0% Reading /media/sf_j1/database/virulence_factors/PATRIC_virulence_factor.faa\n",
      "00:00 7.2Mb   100.0% Masking (fastnucleo)                                                       \n",
      "00:00 19Mb    100.0% Word stats          \n",
      "00:00 19Mb    100.0% Alloc rows\n",
      "00:00 21Mb    100.0% Build index\n",
      "00:04 98Mb    100.0% Searching REPSEQ_UNIQUE.txt, 1.5% matched\n",
      "\n",
      "==================================================================\n",
      "\n",
      "VFDB_virulence_facrtor.faa\n",
      "/home/j1lim/Usearch/usearch_10 -ublast /media/sf_j1/MAP/analyzed_data_new/BPGA/MAP_40/identity_0.9/Sequences/REPSEQ_UNIQUE.txt -db /media/sf_j1/database/virulence_factors/VFDB_virulence_facrtor.faa -alnout /media/sf_j1/MAP/analyzed_data_new/virulence_factor/MAP_40/identity_0.9/usearch_result/direct_compare/UNIQUE_VFDB_THsO.aln -blast6out /media/sf_j1/MAP/analyzed_data_new/virulence_factor/MAP_40/identity_0.9/usearch_result/direct_compare/UNIQUE_VFDB_THsO.out -top_hits_only -evalue 1e-06 -id 0.8\n",
      "usearch v10.0.240_i86linux32, 4.0Gb RAM (11.1Gb total), 4 cores\n",
      "(C) Copyright 2013-17 Robert C. Edgar, all rights reserved.\n",
      "http://drive5.com/usearch\n",
      "\n",
      "License: limjwlove@nate.com\n",
      "\n",
      "00:01 57Mb    100.0% Reading /media/sf_j1/database/virulence_factors/VFDB_virulence_facrtor.faa\n",
      "00:01 24Mb    100.0% Masking (fastnucleo)                                                      \n",
      "00:02 36Mb    100.0% Word stats          \n",
      "00:02 36Mb    100.0% Alloc rows\n",
      "00:05 90Mb    100.0% Build index\n",
      "00:49 188Mb   100.0% Searching REPSEQ_UNIQUE.txt, 5.2% matched \n",
      "\n",
      "==================================================================\n",
      "\n",
      "Victors_virulence_factors_database.faa\n",
      "/home/j1lim/Usearch/usearch_10 -ublast /media/sf_j1/MAP/analyzed_data_new/BPGA/MAP_40/identity_0.9/Sequences/REPSEQ_UNIQUE.txt -db /media/sf_j1/database/virulence_factors/Victors_virulence_factors_database.faa -alnout /media/sf_j1/MAP/analyzed_data_new/virulence_factor/MAP_40/identity_0.9/usearch_result/direct_compare/UNIQUE_Victors_THsO.aln -blast6out /media/sf_j1/MAP/analyzed_data_new/virulence_factor/MAP_40/identity_0.9/usearch_result/direct_compare/UNIQUE_Victors_THsO.out -top_hits_only -evalue 1e-06 -id 0.8\n",
      "usearch v10.0.240_i86linux32, 4.0Gb RAM (11.1Gb total), 4 cores\n",
      "(C) Copyright 2013-17 Robert C. Edgar, all rights reserved.\n",
      "http://drive5.com/usearch\n",
      "\n",
      "License: limjwlove@nate.com\n",
      "\n",
      "00:00 43Mb    100.0% Reading /media/sf_j1/database/virulence_factors/Victors_virulence_factors_database.faa\n",
      "00:00 9.3Mb   100.0% Masking (fastnucleo)                                                                  ing (fastnucleo)\n",
      "00:00 21Mb    100.0% Word stats          \n",
      "00:00 21Mb    100.0% Alloc rows\n",
      "00:01 29Mb    100.0% Build index\n",
      "00:05 121Mb   100.0% Searching REPSEQ_UNIQUE.txt, 0.6% matched\n",
      "\n",
      "==================================================================\n",
      "\n"
     ]
    }
   ],
   "source": [
    "for x in lst_seq:\n",
    "    query = seq_dir + x\n",
    "    print x\n",
    "    \n",
    "    for y in lst_genome:\n",
    "        if not y.endswith(\".faa\"):\n",
    "            continue\n",
    "        \n",
    "        target = genome_dir + y\n",
    "        print y\n",
    "        \n",
    "        aln_out = out_dir + \"%s_%s_THsO.aln\" % (x[7:-4], y.split(\"_\")[0])\n",
    "        blast_out = aln_out.replace(\".aln\", \".out\")\n",
    "        evalue = 1e-6\n",
    "        id_ = 0.8\n",
    "        cov_ = 0.8\n",
    "        #usearch_command = \"%s -ublast %s -db %s -alnout %s -blast6out %s -top_hits_only -evalue %s -id %s -query_cov %s -target_cov %s\" % (\n",
    "                            #usearch_dir, query, target, aln_out.replace(\"THsO\", \"THsO_cov_0.8\"), blast_out.replace(\"THsO\", \"THsO_cov_0.8\"), evalue, id_, cov_, cov_)\n",
    "        usearch_command = \"%s -ublast %s -db %s -alnout %s -blast6out %s -top_hits_only -evalue %s -id %s\" % (\n",
    "                            usearch_dir, query, target, aln_out, blast_out, evalue, id_)\n",
    "        print usearch_command\n",
    "        !$usearch_command\n",
    "        print \"\\n==================================================================\\n\"\n",
    "        \n",
    "        #break\n",
    "    #break\n",
    "    "
   ]
  },
  {
   "cell_type": "markdown",
   "metadata": {},
   "source": [
    "Define pan-genome distribution"
   ]
  },
  {
   "cell_type": "code",
   "execution_count": 11,
   "metadata": {},
   "outputs": [
    {
     "name": "stdout",
     "output_type": "stream",
     "text": [
      "['REPSEQ_ACCESSORY.txt', 'REPSEQ_CORE.txt', 'REPSEQ_UNIQUE.txt']\n",
      "['accessory_seq.txt', 'core_seq.txt', 'unique_seq.txt']\n"
     ]
    }
   ],
   "source": [
    "seq_dir = \"/media/sf_j1/MAP/analyzed_data_new/BPGA/MAP_40/identity_0.9/Sequences/\"\n",
    "lst_seq = os.listdir(seq_dir)\n",
    "lst_seq.sort()\n",
    "lst_repseq = lst_seq[:3]\n",
    "lst_all = lst_seq[3:5] + [lst_seq[6]]\n",
    "print lst_repseq\n",
    "print lst_all"
   ]
  },
  {
   "cell_type": "code",
   "execution_count": 12,
   "metadata": {},
   "outputs": [
    {
     "name": "stdout",
     "output_type": "stream",
     "text": [
      "5899\n",
      "5899\n"
     ]
    }
   ],
   "source": [
    "dic_pan_info = {}\n",
    "for x in lst_repseq:\n",
    "    file_dir = seq_dir + x\n",
    "    temp_dis_ = x[7:-4]\n",
    "    \n",
    "    for y in SeqIO.parse(file_dir, \"fasta\"):\n",
    "        temp_id = y.id.split(\"|\")[-1][:-1]\n",
    "        dic_pan_info[temp_id] = [temp_dis_]\n",
    "        \n",
    "        #break\n",
    "    #break\n",
    "print len(dic_pan_info)\n",
    "#print dic_pan_info\n",
    "\n",
    "for x in lst_all:\n",
    "    file_dir = seq_dir + x\n",
    "    \n",
    "    for y in SeqIO.parse(file_dir, \"fasta\"):\n",
    "        spl_ = y.id.split(\"/\")\n",
    "        temp_cluster = spl_[1]\n",
    "        temp_key = spl_[3]\n",
    "        \n",
    "        if temp_key in dic_pan_info.keys():\n",
    "            dic_pan_info[temp_key].append(temp_cluster)\n",
    "            \n",
    "            #break\n",
    "    #break\n",
    "print len(dic_pan_info)\n",
    "#print dic_pan_info"
   ]
  },
  {
   "cell_type": "code",
   "execution_count": 13,
   "metadata": {},
   "outputs": [
    {
     "name": "stdout",
     "output_type": "stream",
     "text": [
      "Org35_Gene3399\n",
      "['CORE', '619']\n"
     ]
    }
   ],
   "source": [
    "for k, v in dic_pan_info.items():\n",
    "    print k\n",
    "    print v\n",
    "    break"
   ]
  },
  {
   "cell_type": "markdown",
   "metadata": {},
   "source": [
    "BLAST result summary"
   ]
  },
  {
   "cell_type": "code",
   "execution_count": 26,
   "metadata": {},
   "outputs": [
    {
     "name": "stdout",
     "output_type": "stream",
     "text": [
      "18\n",
      "['ACCESSORY_PATRIC_THsO_cov_0.8.aln', 'ACCESSORY_PATRIC_THsO_cov_0.8.out', 'ACCESSORY_VFDB_THsO_cov_0.8.aln', 'ACCESSORY_VFDB_THsO_cov_0.8.out', 'ACCESSORY_Victors_THsO_cov_0.8.aln', 'ACCESSORY_Victors_THsO_cov_0.8.out', 'CORE_PATRIC_THsO_cov_0.8.aln', 'CORE_PATRIC_THsO_cov_0.8.out', 'CORE_VFDB_THsO_cov_0.8.aln', 'CORE_VFDB_THsO_cov_0.8.out', 'CORE_Victors_THsO_cov_0.8.aln', 'CORE_Victors_THsO_cov_0.8.out', 'UNIQUE_PATRIC_THsO_cov_0.8.aln', 'UNIQUE_PATRIC_THsO_cov_0.8.out', 'UNIQUE_VFDB_THsO_cov_0.8.aln', 'UNIQUE_VFDB_THsO_cov_0.8.out', 'UNIQUE_Victors_THsO_cov_0.8.aln', 'UNIQUE_Victors_THsO_cov_0.8.out']\n"
     ]
    }
   ],
   "source": [
    "result_dir = \"/media/sf_j1/MAP/analyzed_data_new/virulence_factor/MAP_40/identity_0.9/usearch_result/direct_compare/coverage_0.8/\"\n",
    "lst_result = os.listdir(result_dir)\n",
    "lst_result.sort()\n",
    "print len(lst_result)\n",
    "print lst_result"
   ]
  },
  {
   "cell_type": "code",
   "execution_count": 27,
   "metadata": {
    "scrolled": true
   },
   "outputs": [],
   "source": [
    "vfdb_summary = \"/media/sf_j1/MAP/analyzed_data_new/virulence_factor/MAP_40/identity_0.9/MAP_40_direct_pan_genome_VF_info_cov_0.8.tsv\"\n",
    "f_w = open(vfdb_summary, \"w\")\n",
    "f_w.write(\"C/A/U\\tCluster #\\tSource DB\\tTarget info\\tIdentity\\tAlign length\\tMismatch #\\tGap #\\tQuery start\\tQuery end\\tTarget start\\tTarget end\\tE-value\\tBit score\\r\\n\")\n",
    "\n",
    "for x in lst_result:\n",
    "    if x.endswith(\".aln\"):\n",
    "        continue\n",
    "    elif x == \"coverage_0.8\":\n",
    "        continue\n",
    "        \n",
    "    db_name = x.split(\"_\")[1]\n",
    "    file_dir = result_dir + x\n",
    "    f = open(file_dir, \"r\")\n",
    "    r = f.readlines()\n",
    "    f.close()\n",
    "    \n",
    "    for y in r:\n",
    "        y = y.replace(\"\\n\", \"\")\n",
    "        spl_ = y.split(\"\\t\")\n",
    "\n",
    "        temp_cluster = spl_[0].split(\"|\")[1][:-1]\n",
    "        temp_lst = dic_pan_info[temp_cluster] + [db_name] + spl_[1:]\n",
    "        to_write = \"\\t\".join(temp_lst)\n",
    "        f_w.write(to_write + \"\\r\\n\")\n",
    "        \n",
    "        #break\n",
    "    #break\n",
    "f_w.close()"
   ]
  },
  {
   "cell_type": "code",
   "execution_count": null,
   "metadata": {},
   "outputs": [],
   "source": []
  }
 ],
 "metadata": {
  "kernelspec": {
   "display_name": "Python 2",
   "language": "python",
   "name": "python2"
  },
  "language_info": {
   "codemirror_mode": {
    "name": "ipython",
    "version": 2
   },
   "file_extension": ".py",
   "mimetype": "text/x-python",
   "name": "python",
   "nbconvert_exporter": "python",
   "pygments_lexer": "ipython2",
   "version": "2.7.12"
  }
 },
 "nbformat": 4,
 "nbformat_minor": 2
}
