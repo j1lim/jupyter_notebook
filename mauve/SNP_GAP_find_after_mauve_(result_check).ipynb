{
 "cells": [
  {
   "cell_type": "code",
   "execution_count": 1,
   "metadata": {},
   "outputs": [],
   "source": [
    "import os\n",
    "from IPython.display import clear_output\n",
    "dir_notebook = os.getenv( \"HOME\" )\n",
    "file_include = dir_notebook + \"/_include.ipynb\"\n",
    "%run $file_include"
   ]
  },
  {
   "cell_type": "code",
   "execution_count": 2,
   "metadata": {},
   "outputs": [
    {
     "name": "stdout",
     "output_type": "stream",
     "text": [
      "974\n",
      "['1_0_temp.afa', '1_0_temp.aln', '1_1_temp.afa', '1_1_temp.aln', '1_2_temp.afa']\n"
     ]
    }
   ],
   "source": [
    "align_dir = \"/media/sf_j1/MAP/analyzed_data_new/mauve/k10_MAPK/align_seq/muscle_output/\"\n",
    "align_lst = os.listdir(align_dir)\n",
    "align_lst.sort()\n",
    "print len(align_lst)\n",
    "print align_lst[:5]"
   ]
  },
  {
   "cell_type": "code",
   "execution_count": 12,
   "metadata": {},
   "outputs": [
    {
     "name": "stdout",
     "output_type": "stream",
     "text": [
      "56\n"
     ]
    }
   ],
   "source": [
    "cut_off = 50\n",
    "file_lst = []\n",
    "for x in align_lst:\n",
    "    if x.endswith(\".aln\"):\n",
    "        continue\n",
    "        \n",
    "    file_dir = align_dir + x\n",
    "    \n",
    "    f = open(file_dir, \"r\")\n",
    "    r = f.read()\n",
    "    f.close()\n",
    "    \n",
    "    if r.count(\"-\") - 12 >= cut_off:\n",
    "        file_lst.append(x)\n",
    "    \n",
    "print len(file_lst)"
   ]
  },
  {
   "cell_type": "code",
   "execution_count": 14,
   "metadata": {
    "scrolled": true
   },
   "outputs": [
    {
     "name": "stdout",
     "output_type": "stream",
     "text": [
      "['1_0_temp.afa', '1_1_temp.afa', '2_0_temp.afa', '2_103_temp.afa', '2_106_temp.afa', '2_107_temp.afa', '2_13_temp.afa', '2_15_temp.afa', '2_24_temp.afa', '2_2_temp.afa', '2_41_temp.afa', '2_55_temp.afa', '2_5_temp.afa', '2_62_temp.afa', '2_64_temp.afa', '2_68_temp.afa', '2_6_temp.afa', '3_0_temp.afa', '3_107_temp.afa', '3_108_temp.afa', '3_10_temp.afa', '3_11_temp.afa', '3_12_temp.afa', '3_19_temp.afa', '3_23_temp.afa', '3_31_temp.afa', '3_42_temp.afa', '3_48_temp.afa', '3_49_temp.afa', '3_74_temp.afa', '3_76_temp.afa', '3_78_temp.afa', '3_85_temp.afa', '3_95_temp.afa', '4_113_temp.afa', '4_116_temp.afa', '4_125_temp.afa', '4_140_temp.afa', '4_149_temp.afa', '4_158_temp.afa', '4_166_temp.afa', '4_26_temp.afa', '4_71_temp.afa', '4_74_temp.afa', '4_82_temp.afa', '4_83_temp.afa', '4_98_temp.afa', '5_3_temp.afa', '6_12_temp.afa', '6_13_temp.afa', '6_24_temp.afa', '6_33_temp.afa', '6_37_temp.afa', '6_4_temp.afa', '6_56_temp.afa', '7_0_temp.afa']\n"
     ]
    }
   ],
   "source": [
    "print file_lst"
   ]
  },
  {
   "cell_type": "markdown",
   "metadata": {},
   "source": [
    "Locarion & Sequence Search"
   ]
  },
  {
   "cell_type": "code",
   "execution_count": 81,
   "metadata": {},
   "outputs": [],
   "source": [
    "dic_genome = {\"1\": \"K10\", \"2\": \"CN4\", \"3\": \"CN7\", \"4\": \"CN9\", \"5\": \"JB16\", \"6\": \"JJ1\"}"
   ]
  },
  {
   "cell_type": "code",
   "execution_count": 206,
   "metadata": {
    "scrolled": false
   },
   "outputs": [
    {
     "name": "stdout",
     "output_type": "stream",
     "text": [
      "Gap length:\t1009\n",
      "Reference:\tCN4\n",
      "Gap position:\t1996859\t1997867\n",
      "Sequence infomation:\n",
      "TTCGGCTGGGGTGGTCATGTTCAGCGATTGATGCGGACGGGCGGTGTTGTAGTAGTGCACCCATTCGTCGAGGGCTTGCTGAGCCGTCTTCAGATTTGAGAAAGCCCTTGTGTTGCTGAGGAATTCGGCGCGCAGACTGCGGTGGAACCGCTCAATCTTGCCTGTCGTCGTCGGGCTACGCGGCTGGGTGAGCAGGTGGTCGATGCCGTTTTGCCGGCAGATCGCGTCGAAGAGCACCTCCACCGGGGGATGGTTAAACCGGCCGGTGAACACCTTGCCGTTATCAGTCAAAATCTGCTGGGGGGCCCCGTAAGCCGCCAGCGCCGCCCGCAATCCGTCGCAAACCGCGCGGGTACGCTCACGCGCCATCAACCGCGCGCAGACACACATCCGGGAATGGTCGTCGATGCCGGTCAACGCTTTGGCGCTGGTGCCATCGGCCAGCGGGAAACCCCCCACCACATCCATCTGCCACAGCTCCATCGGGGCGCCGCGTTCCCAACGTTTCCACTTGCGCGAACGCCGATCCCGCAAAGCCGGATCGATCATGCCCGCCCGCACCAAGGCCCGATACACCGCCGACTCCGACGGCACCGGACCCACCCGACGCTTAGCCAGCTCGAACACCAGCCGCCGTGGTCCCCAGTACGGCCGCGACCGGCGCCGCTCCAACAGGGCGGCCTCCACCACGGCCGGCATCTGGTGCGGACACGACACCGGCCGATGCGACCGATCCACCAGCCCCTCAAGGCCCGACGCCTCATAGCGGGCCAACCACGCGTGCAGCGTCTGGCGCGACACGCCTACCTTCTCGGCAACCAGCGAAATCGACAACCCATCGCTGATCACCGCCAACACGGCCTGATACCTCTGCTCGGCCACGGTTAACTCCTTCATCGAAGGAGTGTCAAGGATCAGCCGAAGTAACTGTCAAGCATCAGCCGAAACACTGTCAGGCATCACCCGAAGCCGAAACGTCACACATCAACCGAGGTCATACAATTCGATT\n"
     ]
    }
   ],
   "source": [
    "f_name = \"7_0_temp\"\n",
    "seq_num = \"2\"\n",
    "left_seq = \"\"\n",
    "right_seq = \"TGTGGAGCCTAGGGGAATCGAACCCCTGACACCCGCCTTGCAAAGGCGGTGCTCTACCAACTGAGCTAAGG\"\n",
    "\n",
    "#################################################################################################\n",
    "\n",
    "dic_seq_ = {}\n",
    "file_dir = align_dir + f_name + \".afa\"\n",
    "\n",
    "for y in SeqIO.parse(file_dir, \"fasta\"):\n",
    "    temp_lst = [y.id[2:].split(\"-\")[0], y.id[2:].split(\"-\")[1].split(\"_\")[0], \n",
    "                y.id[2:].split(\"-\")[1].split(\"[\")[1], y.id[2:].split(\"-\")[2].split(\"]\")[0]]\n",
    "    dic_seq_[y.id[0]] = [temp_lst, str(y.seq)]\n",
    "\n",
    "#print len(dic_seq_)\n",
    "#print dic_seq_\n",
    "\n",
    "t_t_lst = dic_seq_[seq_num][0]\n",
    "\n",
    "left_position =  dic_seq_[seq_num][1].find(left_seq)\n",
    "right_position = dic_seq_[seq_num][1].find(right_seq)\n",
    "\n",
    "gap_start = int(t_t_lst[0]) + int(t_t_lst[2]) + left_position + len(left_seq)\n",
    "gap_end = int(t_t_lst[0]) + int(t_t_lst[2]) + right_position\n",
    "\n",
    "gap_seq = dic_seq_[seq_num][1][left_position + len(left_seq) : right_position]\n",
    "\n",
    "print \"Gap length:\\t%s\" % len(gap_seq)\n",
    "print \"Reference:\\t%s\" % dic_genome[seq_num]\n",
    "print \"Gap position:\\t%s\\t%s\" % (gap_start, gap_end - 1)\n",
    "print \"Sequence infomation:\\n%s\" % gap_seq"
   ]
  },
  {
   "cell_type": "code",
   "execution_count": null,
   "metadata": {},
   "outputs": [],
   "source": []
  }
 ],
 "metadata": {
  "kernelspec": {
   "display_name": "Python 2",
   "language": "python",
   "name": "python2"
  },
  "language_info": {
   "codemirror_mode": {
    "name": "ipython",
    "version": 2
   },
   "file_extension": ".py",
   "mimetype": "text/x-python",
   "name": "python",
   "nbconvert_exporter": "python",
   "pygments_lexer": "ipython2",
   "version": "2.7.17"
  }
 },
 "nbformat": 4,
 "nbformat_minor": 2
}
