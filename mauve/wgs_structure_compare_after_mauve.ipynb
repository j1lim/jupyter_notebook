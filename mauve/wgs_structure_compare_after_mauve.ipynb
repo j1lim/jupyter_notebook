{
 "cells": [
  {
   "cell_type": "code",
   "execution_count": 1,
   "metadata": {},
   "outputs": [],
   "source": [
    "import os\n",
    "from IPython.display import clear_output\n",
    "dir_notebook = os.getenv( \"HOME\" )\n",
    "file_include = dir_notebook + \"/_include.ipynb\"\n",
    "%run $file_include"
   ]
  },
  {
   "cell_type": "markdown",
   "metadata": {},
   "source": []
  },
  {
   "cell_type": "code",
   "execution_count": 2,
   "metadata": {},
   "outputs": [
    {
     "name": "stdout",
     "output_type": "stream",
     "text": [
      "16\n",
      "['1_0_temp.afa', '1_0_temp.aln', '2_0_temp.afa', '2_0_temp.aln', '3_0_temp.afa']\n"
     ]
    }
   ],
   "source": [
    "wgs_dir = \"//media/sf_j1/SNU/gsm/mauve/NDM_plasmid_8_compare/backbone_detail/muscle_output/\"\n",
    "wgs_lst = os.listdir(wgs_dir)\n",
    "wgs_lst.sort()\n",
    "\n",
    "print len(wgs_lst)\n",
    "print wgs_lst[:5]"
   ]
  },
  {
   "cell_type": "code",
   "execution_count": 3,
   "metadata": {},
   "outputs": [],
   "source": [
    "file_order = [\"5\", \"3\", \"4\", \"1\", \"2\"]"
   ]
  },
  {
   "cell_type": "code",
   "execution_count": 5,
   "metadata": {},
   "outputs": [
    {
     "name": "stdout",
     "output_type": "stream",
     "text": [
      "5\n",
      "5_0_temp.aln\n",
      "5_1_temp.aln\n",
      "5_2_temp.aln\n",
      "3\n",
      "3_0_temp.aln\n",
      "3_1_temp.aln\n",
      "4\n",
      "4_0_temp.aln\n",
      "1\n",
      "1_0_temp.aln\n",
      "2\n",
      "2_0_temp.aln\n"
     ]
    }
   ],
   "source": [
    "f_w = open(\"/media/sf_j1/SNU/gsm/mauve/NDM_plasmid_8_compare/muscle_align_result_total\", \"w\")\n",
    "\n",
    "for x in file_order:\n",
    "    print x\n",
    "    \n",
    "    for y in wgs_lst:\n",
    "        if not y.startswith(x) or not y.endswith(\".aln\"):\n",
    "            continue\n",
    "        f_w.write(\"\\r\\nMUSCLE_result_%s\\r\\n\\r\\n\" % y)\n",
    "        print y\n",
    "        \n",
    "        temp_file = wgs_dir + y\n",
    "        f = open(temp_file, \"r\")\n",
    "        r = f.read()\n",
    "        f.close()\n",
    "        r = r.replace(\"MUSCLE (3.8) multiple sequence alignment\\n\\n\\n\", \"\")\n",
    "        \n",
    "        lines = r.split(\"\\n\\n\")\n",
    "        for z in lines:\n",
    "            #print z\n",
    "            l_ = z.split(\"\\n\")\n",
    "            #print l_\n",
    "            \n",
    "            temp_dic = {}\n",
    "            for i in l_:\n",
    "                if i == \"\":\n",
    "                    continue\n",
    "                temp_dic[i[0]] = i\n",
    "            \n",
    "            for i in range(8) + [\" \"]:\n",
    "                if str(type(i)) == \"<type 'int'>\":\n",
    "                    i += 1\n",
    "                    #print i+1\n",
    "                #print temp_dic[str(i)]\n",
    "                f_w.write(temp_dic[str(i)]+\"\\r\\n\")\n",
    "            f_w.write(\"\\r\\n\")\n",
    "            #break\n",
    "        f_w.write(\"=====================================================================================\\n\")\n",
    "        #break\n",
    "    #break\n",
    "f_w.close()"
   ]
  },
  {
   "cell_type": "code",
   "execution_count": null,
   "metadata": {},
   "outputs": [],
   "source": []
  }
 ],
 "metadata": {
  "kernelspec": {
   "display_name": "Python 2",
   "language": "python",
   "name": "python2"
  },
  "language_info": {
   "codemirror_mode": {
    "name": "ipython",
    "version": 2
   },
   "file_extension": ".py",
   "mimetype": "text/x-python",
   "name": "python",
   "nbconvert_exporter": "python",
   "pygments_lexer": "ipython2",
   "version": "2.7.17"
  }
 },
 "nbformat": 4,
 "nbformat_minor": 2
}
