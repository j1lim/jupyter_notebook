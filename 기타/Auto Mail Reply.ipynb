{
 "cells": [
  {
   "cell_type": "markdown",
   "id": "5c1033a9",
   "metadata": {},
   "source": [
    "참고 사이트 주소: \\\n",
    "https://appia.tistory.com/624 \\\n",
    "https://ojji.wayful.com/2015/03/HTML-How-to--Set-FONT-Size-Color-Weight-Family-Variant-Line-Height-ect.html"
   ]
  },
  {
   "cell_type": "code",
   "execution_count": 1,
   "id": "76581824",
   "metadata": {},
   "outputs": [],
   "source": [
    "import win32com.client"
   ]
  },
  {
   "cell_type": "code",
   "execution_count": 2,
   "id": "cade5178",
   "metadata": {},
   "outputs": [],
   "source": [
    "#수신자 정보\n",
    "mail_To = \"jlim@helixrus.com;limjwlove@gmail.com\"\n",
    "#참조자 정보\n",
    "mail_CC = \"info@helixrus.com\"\n",
    "\n",
    "#메일 제목\n",
    "mail_subject = \"Python <-> Outlook 연동 테스트\"\n",
    "\n",
    "#메일 본문\n",
    "mail_body = \"\"\"\n",
    "<a href=\"https://info.bcplatforms.com/lp-cmp-precision-medicine-and-data-science-seminar-singapore-2022-recordings-all\" target=\"_blank\">\n",
    "  <img src=\"C:/Users/limjw/Downloads/asd.png\">\n",
    "</a>\n",
    "\n",
    "<br><br>\n",
    "<span style=\" font-size: x-small; color: #333333;\">\n",
    "HELiXⓇUS, Inc.\n",
    "</span>\n",
    "<br><br>\n",
    "<span style=\" font-size: x-small; color: #333333;\">\n",
    "B1714 Jong-ro 19, Jongno-gu, Seoul, Korea 03157\n",
    "</span>\n",
    "<br><br>\n",
    "<span style=\" font-size: x-small; color: #333333;\">\n",
    "Phone: +82-2-730-8850\n",
    "</span>\n",
    "<br>\n",
    "<span style=\" font-size: x-small; color: #333333;\">\n",
    "Fax: +82-2-730-8851\n",
    "</span>\n",
    "<br>\n",
    "<span style=\" font-size: x-small; color: #333333;\">\n",
    "Email: info@helixrus.com\n",
    "</span>\n",
    "\"\"\"\n",
    "\n",
    "#첨부파일 경로 목록\n",
    "attach_files = [\"C:/Users/limjw/Downloads/test_image.png\"]\n"
   ]
  },
  {
   "cell_type": "code",
   "execution_count": 3,
   "id": "2ee273f1",
   "metadata": {},
   "outputs": [],
   "source": [
    "obj = win32com.client.Dispatch(\"Outlook.Application\")\n",
    "newMail = obj.CreateItem(0)\n",
    "\n",
    "#메일 제목\n",
    "newMail.Subject = mail_subject\n",
    "#메일 HTML 본문\n",
    "newMail.HTMLBody = mail_body\n",
    "\n",
    "#첨부파일\n",
    "for attach_file in attach_files:\n",
    "    newMail.Attachments.Add(attach_file)\n",
    "\n",
    "#수신자\n",
    "newMail.To = mail_To\n",
    "#참조자\n",
    "newMail.CC = mail_CC\n",
    "\n",
    "#메일 내용 확인하기\n",
    "newMail.Display(True)\n",
    "\n",
    "#메일 보내기\n",
    "#newMail.Send()"
   ]
  },
  {
   "cell_type": "code",
   "execution_count": null,
   "id": "625cf5ca",
   "metadata": {},
   "outputs": [],
   "source": []
  }
 ],
 "metadata": {
  "kernelspec": {
   "display_name": "Python 3",
   "language": "python",
   "name": "python3"
  },
  "language_info": {
   "codemirror_mode": {
    "name": "ipython",
    "version": 3
   },
   "file_extension": ".py",
   "mimetype": "text/x-python",
   "name": "python",
   "nbconvert_exporter": "python",
   "pygments_lexer": "ipython3",
   "version": "3.8.8"
  }
 },
 "nbformat": 4,
 "nbformat_minor": 5
}
