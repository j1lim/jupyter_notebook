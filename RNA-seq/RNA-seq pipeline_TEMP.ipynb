{
 "cells": [
  {
   "cell_type": "code",
   "execution_count": 1,
   "metadata": {
    "collapsed": true,
    "deletable": true,
    "editable": true
   },
   "outputs": [],
   "source": [
    "import os\n",
    "import time\n",
    "from IPython.display import clear_output"
   ]
  },
  {
   "cell_type": "code",
   "execution_count": 2,
   "metadata": {
    "collapsed": true,
    "deletable": true,
    "editable": true
   },
   "outputs": [],
   "source": [
    "def time_consume(start_time):\n",
    "    time_flow = time.time() - start_time\n",
    "    hr_, min_, sec_ = 0, 0, 0\n",
    "    if time_flow >= 3600:\n",
    "        hr_ = time_flow // 3600\n",
    "    if time_flow >= 60:\n",
    "        min_ = (time_flow % 3600) // 60\n",
    "    sec_ = time_flow % 60\n",
    "    return \"%s hr %s min %s sec\" % (hr_, min_, sec_)"
   ]
  },
  {
   "cell_type": "code",
   "execution_count": 3,
   "metadata": {
    "collapsed": true,
    "deletable": true,
    "editable": true
   },
   "outputs": [],
   "source": [
    "rna_seq_folder = \"/media/sf_j1/MAP/RNA-seq/analysis\"\n",
    "if not os.path.isdir(rna_seq_folder + \"/cufflinks\"):\n",
    "    os.makedirs(rna_seq_folder + \"/alignment\")\n",
    "    os.makedirs(rna_seq_folder + \"/cuffdiff\")\n",
    "    os.makedirs(rna_seq_folder + \"/cufflinks\")\n",
    "    os.makedirs(rna_seq_folder + \"/reference\")\n",
    "    os.makedirs(rna_seq_folder + \"/gff\")\n",
    "    os.makedirs(rna_seq_folder + \"/statistic\")"
   ]
  },
  {
   "cell_type": "code",
   "execution_count": 4,
   "metadata": {
    "collapsed": true,
    "deletable": true,
    "editable": true
   },
   "outputs": [],
   "source": [
    "#program directories\n",
    "cufflinks = \"/home/j1lim/다운로드/cufflinks/cufflinks\"\n",
    "cuffdiff = \"/home/j1lim/다운로드/cufflinks/cuffdiff\"\n",
    "makegff = \"/home/j1lim/다운로드/makegff.py\"\n",
    "samtools = \"/home/j1lim/다운로드/samtools-1.9/samtools\""
   ]
  },
  {
   "cell_type": "code",
   "execution_count": 5,
   "metadata": {
    "collapsed": false,
    "deletable": true,
    "editable": true
   },
   "outputs": [
    {
     "name": "stdout",
     "output_type": "stream",
     "text": [
      "['ATCC19688-1_1.fastq', 'ATCC19688-1_2.fastq', 'ATCC19688-2_1.fastq', 'ATCC19688-2_2.fastq']\n"
     ]
    }
   ],
   "source": [
    "temp_lst = []\n",
    "fastq_dir = \"/home/j1lim/sbl_nas/MAP/RNA-seq/sequencing_result/fastq/\"\n",
    "fastq_files = os.listdir(fastq_dir)\n",
    "fastq_files.sort()\n",
    "for x in fastq_files:\n",
    "    if \"ATCC\" not in x:\n",
    "        continue\n",
    "    temp_lst.append(x)\n",
    "fastq_files = temp_lst\n",
    "print fastq_files"
   ]
  },
  {
   "cell_type": "code",
   "execution_count": 6,
   "metadata": {
    "collapsed": true,
    "deletable": true,
    "editable": true
   },
   "outputs": [],
   "source": [
    "#reference file directories\n",
    "reference_file = \"/media/sf_j1/MAP/RNA-seq/analysis/reference/GCF_000007865.1_ASM786v1_genomic.fna\"\n",
    "gff_file = \"/media/sf_j1/MAP/RNA-seq/analysis/reference/GCF_000007865.1_ASM786v1_genomic.gff\"\n",
    "\n",
    "chromosome_size = \"6000000\" #bigger than larggest chromosome"
   ]
  },
  {
   "cell_type": "code",
   "execution_count": 7,
   "metadata": {
    "collapsed": false,
    "deletable": true,
    "editable": true,
    "scrolled": true
   },
   "outputs": [
    {
     "name": "stdout",
     "output_type": "stream",
     "text": [
      "bowtie-build -f /media/sf_j1/MAP/RNA-seq/analysis/reference/GCF_000007865.1_ASM786v1_genomic.fna /media/sf_j1/MAP/RNA-seq/analysis/reference/GCF_000007865.1_ASM786v1_genomic.fna\n",
      "\n",
      "* bowtie-built time consume =  0 hr 0 min 0.000128030776978 sec\n"
     ]
    }
   ],
   "source": [
    "#bowtie-build\n",
    "indexed_file = rna_seq_folder + \"/reference/\" + reference_file.split(\"/\")[-1]\n",
    "bowtie_build_command = \"bowtie-build -f %s %s\" % (reference_file, indexed_file)\n",
    "print bowtie_build_command\n",
    "\n",
    "start_time = time.time()\n",
    "#!$bowtie_build_command\n",
    "print \"\\n* bowtie-built time consume = \", time_consume(start_time)"
   ]
  },
  {
   "cell_type": "code",
   "execution_count": 8,
   "metadata": {
    "collapsed": false,
    "deletable": true,
    "editable": true,
    "scrolled": false
   },
   "outputs": [
    {
     "name": "stdout",
     "output_type": "stream",
     "text": [
      "/home/j1lim/sbl_nas/MAP/RNA-seq/sequencing_result/fastq/ATCC19688-1_1.fastq & /home/j1lim/sbl_nas/MAP/RNA-seq/sequencing_result/fastq/ATCC19688-1_2.fastq is now analyzing...\n",
      "\n",
      "bowtie -X 1000 -n 2 -p 4 -3 3 -S /media/sf_j1/MAP/RNA-seq/analysis/reference/GCF_000007865.1_ASM786v1_genomic.fna -1 /home/j1lim/sbl_nas/MAP/RNA-seq/sequencing_result/fastq/ATCC19688-1_1.fastq -2 /home/j1lim/sbl_nas/MAP/RNA-seq/sequencing_result/fastq/ATCC19688-1_2.fastq > /media/sf_j1/MAP/RNA-seq/analysis/alignment/ATCC19688-1.sam --un /media/sf_j1/MAP/RNA-seq/analysis/unaligned/unaligned_ATCC19688-1 \n",
      "\n",
      "# reads processed: 17851509\n",
      "# reads with at least one reported alignment: 16826555 (94.26%)\n",
      "# reads that failed to align: 1024954 (5.74%)\n",
      "Reported 16826555 paired-end alignments to 1 output stream(s)\n",
      "\n",
      "* bowtie time consume =  0 hr 32.0 min 48.1955008507 sec \n",
      "\n",
      "/home/j1lim/다운로드/samtools-1.9/samtools view -bS /media/sf_j1/MAP/RNA-seq/analysis/alignment/ATCC19688-1.sam -o /media/sf_j1/MAP/RNA-seq/analysis/alignment/ATCC19688-1.unsorted.bam \n",
      "\n",
      "\n",
      "* samtools time consume =  0 hr 9.0 min 39.926678896 sec \n",
      "\n",
      "/home/j1lim/다운로드/samtools-1.9/samtools sort /media/sf_j1/MAP/RNA-seq/analysis/alignment/ATCC19688-1.unsorted.bam -o /media/sf_j1/MAP/RNA-seq/analysis/alignment/ATCC19688-1.bam \n",
      "\n",
      "[bam_sort_core] merging from 12 files and 1 in-memory blocks...\n",
      "\n",
      "* samtools_sort time consume =  0 hr 7.0 min 1.73314499855 sec \n",
      "\n",
      "/home/j1lim/다운로드/cufflinks/cufflinks --library-type fr-firststrand -p 4 -G /media/sf_j1/MAP/RNA-seq/analysis/reference/GCF_000007865.1_ASM786v1_genomic.gff /media/sf_j1/MAP/RNA-seq/analysis/alignment/ATCC19688-1.bam -o /media/sf_j1/MAP/RNA-seq/analysis/cufflinks/cufflinks_ATCC19688-1  \n",
      "\n",
      "Warning: Could not connect to update server to verify current version. Please check at the Cufflinks website (http://cufflinks.cbcb.umd.edu).\n",
      "[15:34:26] Loading reference annotation.\n",
      "[15:34:26] Inspecting reads and determining fragment length distribution.\n",
      "> Processed 3555 loci.                         [*************************] 100%\n",
      "> Map Properties:\n",
      ">\tNormalized Map Mass: 9842180.00\n",
      ">\tRaw Map Mass: 9842180.00\n",
      ">\tFragment Length Distribution: Empirical (learned)\n",
      ">\t              Estimated Mean: 192.65\n",
      ">\t           Estimated Std Dev: 63.27\n",
      "[15:42:44] Estimating transcript abundances.\n",
      "> Processed 3555 loci.                         [*************************] 100%\n",
      "\n",
      "* cufflinks time consume =  0 hr 17.0 min 47.9542050362 sec \n",
      "\n",
      "python /home/j1lim/다운로드/makegff.py --separate_strand --log_scale --chromosome_size 6000000 /media/sf_j1/MAP/RNA-seq/analysis/alignment/ATCC19688-1.bam /media/sf_j1/MAP/RNA-seq/analysis/gff/ATCC19688-1 \n",
      "\n",
      "\n",
      "* make_gff time consume =  0 hr 4.0 min 44.5324850082 sec \n",
      "\n",
      "\n",
      "------------------------------------------------------------------------\n",
      "\n",
      "/home/j1lim/sbl_nas/MAP/RNA-seq/sequencing_result/fastq/ATCC19688-2_1.fastq & /home/j1lim/sbl_nas/MAP/RNA-seq/sequencing_result/fastq/ATCC19688-2_2.fastq is now analyzing...\n",
      "\n",
      "bowtie -X 1000 -n 2 -p 4 -3 3 -S /media/sf_j1/MAP/RNA-seq/analysis/reference/GCF_000007865.1_ASM786v1_genomic.fna -1 /home/j1lim/sbl_nas/MAP/RNA-seq/sequencing_result/fastq/ATCC19688-2_1.fastq -2 /home/j1lim/sbl_nas/MAP/RNA-seq/sequencing_result/fastq/ATCC19688-2_2.fastq > /media/sf_j1/MAP/RNA-seq/analysis/alignment/ATCC19688-2.sam --un /media/sf_j1/MAP/RNA-seq/analysis/unaligned/unaligned_ATCC19688-2 \n",
      "\n",
      "# reads processed: 14174874\n",
      "# reads with at least one reported alignment: 13297993 (93.81%)\n",
      "# reads that failed to align: 876881 (6.19%)\n",
      "Reported 13297993 paired-end alignments to 1 output stream(s)\n",
      "\n",
      "* bowtie time consume =  0 hr 27.0 min 0.00388503074646 sec \n",
      "\n",
      "/home/j1lim/다운로드/samtools-1.9/samtools view -bS /media/sf_j1/MAP/RNA-seq/analysis/alignment/ATCC19688-2.sam -o /media/sf_j1/MAP/RNA-seq/analysis/alignment/ATCC19688-2.unsorted.bam \n",
      "\n",
      "\n",
      "* samtools time consume =  0 hr 9.0 min 18.0058250427 sec \n",
      "\n",
      "/home/j1lim/다운로드/samtools-1.9/samtools sort /media/sf_j1/MAP/RNA-seq/analysis/alignment/ATCC19688-2.unsorted.bam -o /media/sf_j1/MAP/RNA-seq/analysis/alignment/ATCC19688-2.bam \n",
      "\n",
      "[bam_sort_core] merging from 9 files and 1 in-memory blocks...\n",
      "\n",
      "* samtools_sort time consume =  0 hr 5.0 min 49.5642330647 sec \n",
      "\n",
      "/home/j1lim/다운로드/cufflinks/cufflinks --library-type fr-firststrand -p 4 -G /media/sf_j1/MAP/RNA-seq/analysis/reference/GCF_000007865.1_ASM786v1_genomic.gff /media/sf_j1/MAP/RNA-seq/analysis/alignment/ATCC19688-2.bam -o /media/sf_j1/MAP/RNA-seq/analysis/cufflinks/cufflinks_ATCC19688-2  \n",
      "\n",
      "Warning: Could not connect to update server to verify current version. Please check at the Cufflinks website (http://cufflinks.cbcb.umd.edu).\n",
      "[16:39:06] Loading reference annotation.\n",
      "[16:39:07] Inspecting reads and determining fragment length distribution.\n",
      "> Processed 3555 loci.                         [*************************] 100%\n",
      "> Map Properties:\n",
      ">\tNormalized Map Mass: 9102889.50\n",
      ">\tRaw Map Mass: 9102889.50\n",
      ">\tFragment Length Distribution: Empirical (learned)\n",
      ">\t              Estimated Mean: 186.90\n",
      ">\t           Estimated Std Dev: 65.59\n",
      "[17:02:53] Estimating transcript abundances.\n",
      "> Processed 3555 loci.                         [*************************] 100%\n",
      "\n",
      "* cufflinks time consume =  0 hr 48.0 min 6.98306894302 sec \n",
      "\n",
      "python /home/j1lim/다운로드/makegff.py --separate_strand --log_scale --chromosome_size 6000000 /media/sf_j1/MAP/RNA-seq/analysis/alignment/ATCC19688-2.bam /media/sf_j1/MAP/RNA-seq/analysis/gff/ATCC19688-2 \n",
      "\n",
      "\n",
      "* make_gff time consume =  0 hr 4.0 min 4.8927359581 sec \n",
      "\n",
      "\n",
      "------------------------------------------------------------------------\n",
      "\n"
     ]
    }
   ],
   "source": [
    "for i in range(len(fastq_files)):\n",
    "    if i % 2 == 1:\n",
    "        continue\n",
    "    #clear_output()\n",
    "    fastq_left = fastq_dir + fastq_files[i]\n",
    "    fastq_right = fastq_dir + fastq_files[i+1]\n",
    "    print \"%s & %s is now analyzing...\\n\" % (fastq_left, fastq_right)\n",
    "    sample_name = fastq_files[i].split(\"_\")[0]\n",
    "    \n",
    "    #bowtie\n",
    "    sam_file = rna_seq_folder + \"/alignment/%s.sam\" % sample_name\n",
    "    unaligned = rna_seq_folder + \"/unaligned/unaligned_%s\" % sample_name\n",
    "    bowtie_command = \"bowtie -X 1000 -n 2 -p 4 -3 3 -S %s -1 %s -2 %s > %s --un %s\" % (\n",
    "                    indexed_file, fastq_left, fastq_right, sam_file, unaligned)\n",
    "    print bowtie_command, \"\\n\"\n",
    "    start_time = time.time()\n",
    "    !$bowtie_command\n",
    "    print \"\\n* bowtie time consume = \", time_consume(start_time), \"\\n\"\n",
    "\n",
    "    #samtools\n",
    "    unsorted_bam_file = sam_file.replace(\".sam\", \".unsorted.bam\")\n",
    "    samtools_command = \"%s view -bS %s -o %s\" % (samtools, sam_file, unsorted_bam_file)\n",
    "    print samtools_command, \"\\n\"\n",
    "    start_time = time.time()\n",
    "    !$samtools_command\n",
    "    print \"\\n* samtools time consume = \", time_consume(start_time), \"\\n\"\n",
    "    \n",
    "    #samtools_sort\n",
    "    sorted_bam_file = unsorted_bam_file.replace(\".unsorted\", \"\")\n",
    "    samtools_sort_command = \"%s sort %s -o %s\" % (samtools, unsorted_bam_file, sorted_bam_file)\n",
    "    print samtools_sort_command, \"\\n\"\n",
    "    start_time = time.time()\n",
    "    !$samtools_sort_command\n",
    "    os.remove(unsorted_bam_file)\n",
    "    print \"\\n* samtools_sort time consume = \", time_consume(start_time), \"\\n\"\n",
    "\n",
    "    \n",
    "    #cufflinks\n",
    "    cufflinks_out = rna_seq_folder + \"/cufflinks/cufflinks_%s\" % sample_name\n",
    "    cufflinks_command = \"%s --library-type fr-firststrand -p 4 -G %s %s -o %s \" % (\n",
    "                        cufflinks, gff_file, sorted_bam_file, cufflinks_out)\n",
    "    print cufflinks_command, \"\\n\"\n",
    "    start_time = time.time()\n",
    "    !$cufflinks_command\n",
    "    print \"\\n* cufflinks time consume = \", time_consume(start_time), \"\\n\"\n",
    "    \n",
    "    #make gff\n",
    "    gff_file_ = rna_seq_folder + \"/gff/%s\" % sample_name\n",
    "    makegff_command = \"python %s --separate_strand --log_scale --chromosome_size %s %s %s\" % (\n",
    "                             makegff, chromosome_size, sorted_bam_file, gff_file_)\n",
    "    print makegff_command, \"\\n\"\n",
    "    start_time = time.time()\n",
    "    !$makegff_command\n",
    "    print \"\\n* make_gff time consume = \", time_consume(start_time), \"\\n\"\n",
    "    \n",
    "    print \"\\n------------------------------------------------------------------------\\n\"\n",
    "    #break"
   ]
  },
  {
   "cell_type": "code",
   "execution_count": 9,
   "metadata": {
    "collapsed": false,
    "deletable": true,
    "editable": true,
    "scrolled": true
   },
   "outputs": [
    {
     "name": "stdout",
     "output_type": "stream",
     "text": [
      "*** ATCC19688-1.sam mapping results statistic analyzing...\n",
      "\n",
      "/home/j1lim/다운로드/samtools-1.9/samtools stats /media/sf_j1/MAP/RNA-seq/analysis/alignment/ATCC19688-1.sam > /media/sf_j1/MAP/RNA-seq/analysis/statistic/ATCC19688-1_stat.txt \n",
      "\n",
      "\n",
      "* mappint result statistic time consume =  0 hr 6.0 min 29.3889729977 sec \n",
      "\n",
      "------------------------------------------------------------------------\n",
      "*** ATCC19688-2.sam mapping results statistic analyzing...\n",
      "\n",
      "/home/j1lim/다운로드/samtools-1.9/samtools stats /media/sf_j1/MAP/RNA-seq/analysis/alignment/ATCC19688-2.sam > /media/sf_j1/MAP/RNA-seq/analysis/statistic/ATCC19688-2_stat.txt \n",
      "\n",
      "\n",
      "* mappint result statistic time consume =  0 hr 5.0 min 8.81126213074 sec \n",
      "\n",
      "------------------------------------------------------------------------\n"
     ]
    }
   ],
   "source": [
    "#mapping results statistic\n",
    "sam_files = os.listdir(rna_seq_folder + \"/alignment/\")\n",
    "sam_files.sort()\n",
    "\n",
    "for x in sam_files:\n",
    "    if \".sam\" not in x:\n",
    "        continue\n",
    "    if \"ATCC\" not in x:\n",
    "        continue\n",
    "    if \"_ori.\" in x:\n",
    "        continue\n",
    "    print \"*** %s mapping results statistic analyzing...\\n\" % x\n",
    "    sam_file_for_stats = rna_seq_folder + \"/alignment/%s\" % x\n",
    "    stats_file = \"/media/sf_j1/MAP/RNA-seq/analysis/statistic/%s\" % x.replace(\".sam\", \"_stat.txt\")\n",
    "    mapping_statistic_command = \"%s stats %s > %s\" % (samtools, sam_file_for_stats, stats_file)\n",
    "    print mapping_statistic_command, \"\\n\"\n",
    "    start_time = time.time()\n",
    "    !$mapping_statistic_command\n",
    "    print \"\\n* mappint result statistic time consume = \", time_consume(start_time), \"\\n\"\n",
    "    \n",
    "    print \"------------------------------------------------------------------------\""
   ]
  },
  {
   "cell_type": "code",
   "execution_count": 11,
   "metadata": {
    "collapsed": false,
    "deletable": true,
    "editable": true
   },
   "outputs": [
    {
     "name": "stdout",
     "output_type": "stream",
     "text": [
      "['ATCC19698-1.bam', 'ATCC19698-2.bam']\n"
     ]
    }
   ],
   "source": [
    "#bam file directories\n",
    "bam_dir = rna_seq_folder + \"/alignment/\"\n",
    "bam_files = os.listdir(bam_dir)\n",
    "bam_files.sort()\n",
    "for x in bam_files:\n",
    "    if \".bam\" not in x:\n",
    "        bam_files.remove(x)\n",
    "for x in bam_files:\n",
    "    if \".unsorted\" in x:\n",
    "        bam_files.remove(x)\n",
    "print bam_files"
   ]
  },
  {
   "cell_type": "code",
   "execution_count": 8,
   "metadata": {
    "collapsed": false,
    "deletable": true,
    "editable": true,
    "scrolled": true
   },
   "outputs": [
    {
     "name": "stdout",
     "output_type": "stream",
     "text": [
      "/home/j1lim/다운로드/cufflinks/cuffdiff --library-type fr-firststrand -p 4 /media/sf_j1/AM1/1.genome/am1/GCF_000022685.1_ASM2268v1/GCF_000022685.1_ASM2268v1_genomic.gff /home/j1lim/sbl_nas/rna-seq/alignment/am1_Formate.bam /home/j1lim/sbl_nas/rna-seq/alignment/am1_MeOH.bam -o /home/j1lim/sbl_nas/rna-seq/cuffdiff/cuffdiff_am1_Formate_am1_MeOH \n",
      "\n",
      "Warning: Could not connect to update server to verify current version. Please check at the Cufflinks website (http://cufflinks.cbcb.umd.edu).\n",
      "[10:18:17] Loading reference annotation.\n",
      "Warning: No conditions are replicated, switching to 'blind' dispersion method\n",
      "[10:18:18] Inspecting maps and determining fragment length distributions.\n",
      "[10:31:13] Modeling fragment count overdispersion.\n",
      "> Map Properties:\n",
      ">\tNormalized Map Mass: 6175199.20\n",
      ">\tRaw Map Mass: 4635659.00\n",
      ">\tFragment Length Distribution: Empirical (learned)\n",
      ">\t              Estimated Mean: 208.84\n",
      ">\t           Estimated Std Dev: 65.56\n",
      "> Map Properties:\n",
      ">\tNormalized Map Mass: 6175199.20\n",
      ">\tRaw Map Mass: 6807435.00\n",
      ">\tFragment Length Distribution: Empirical (learned)\n",
      ">\t              Estimated Mean: 211.80\n",
      ">\t           Estimated Std Dev: 66.50\n",
      "[10:32:39] Calculating preliminary abundance estimates\n",
      "[10:32:39] Testing for differential expression and regulation in locus.\n",
      "> Processed 5563 loci.                         [*************************] 100%\n",
      "Performed 5956 isoform-level transcription difference tests\n",
      "Performed 0 tss-level transcription difference tests\n",
      "Performed 5956 gene-level transcription difference tests\n",
      "Performed 0 CDS-level transcription difference tests\n",
      "Performed 0 splicing tests\n",
      "Performed 0 promoter preference tests\n",
      "Performing 0 relative CDS output tests\n",
      "Writing isoform-level FPKM tracking\n",
      "Writing TSS group-level FPKM tracking\n",
      "Writing gene-level FPKM tracking\n",
      "Writing CDS-level FPKM tracking\n",
      "Writing isoform-level count tracking\n",
      "Writing TSS group-level count tracking\n",
      "Writing gene-level count tracking\n",
      "Writing CDS-level count tracking\n",
      "Writing isoform-level read group tracking\n",
      "Writing TSS group-level read group tracking\n",
      "Writing gene-level read group tracking\n",
      "Writing CDS-level read group tracking\n",
      "Writing read group info\n",
      "Writing run info\n",
      "\n",
      "* cuffdiff time consume =  0 hr 19.0 min 22.1537179947 sec \n",
      "\n"
     ]
    }
   ],
   "source": [
    "#cuffdiff\n",
    "sample1 = bam_dir + bam_files[0]\n",
    "sample2 = bam_dir + bam_files[1]\n",
    "cuffdiff_out = rna_seq_folder + \"/cuffdiff/cuffdiff_%s_%s\" % (\n",
    "                                bam_files[0].replace(\".bam\", \"\"), bam_files[1].replace(\".bam\", \"\"))\n",
    "cuffdiff_command = \"%s --library-type fr-firststrand -p 4 %s %s %s -o %s\" % (\n",
    "                    cuffdiff, gff_file, sample1, sample2, cuffdiff_out)\n",
    "print cuffdiff_command, \"\\n\"\n",
    "start_time = time.time()\n",
    "!$cuffdiff_command\n",
    "print \"\\n* cuffdiff time consume = \", time_consume(start_time), \"\\n\""
   ]
  },
  {
   "cell_type": "code",
   "execution_count": null,
   "metadata": {
    "collapsed": true,
    "deletable": true,
    "editable": true
   },
   "outputs": [],
   "source": []
  }
 ],
 "metadata": {
  "kernelspec": {
   "display_name": "Python 2",
   "language": "python",
   "name": "python2"
  },
  "language_info": {
   "codemirror_mode": {
    "name": "ipython",
    "version": 2
   },
   "file_extension": ".py",
   "mimetype": "text/x-python",
   "name": "python",
   "nbconvert_exporter": "python",
   "pygments_lexer": "ipython2",
   "version": "2.7.12"
  }
 },
 "nbformat": 4,
 "nbformat_minor": 2
}
