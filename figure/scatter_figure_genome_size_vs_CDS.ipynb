{
 "cells": [
  {
   "cell_type": "code",
   "execution_count": 1,
   "metadata": {
    "collapsed": true,
    "deletable": true,
    "editable": true
   },
   "outputs": [],
   "source": [
    "import os\n",
    "dir_notebook = os.getenv( \"HOME\" )\n",
    "file_include = dir_notebook + \"/_include.ipynb\"\n",
    "%run $file_include"
   ]
  },
  {
   "cell_type": "code",
   "execution_count": 2,
   "metadata": {
    "collapsed": false,
    "deletable": true,
    "editable": true,
    "scrolled": true
   },
   "outputs": [
    {
     "name": "stdout",
     "output_type": "stream",
     "text": [
      "188\n",
      "Mycobacterium_avium\tGCF_000007865.1\t4829781\t0\t0.692986079493\t1\t4,562\t4,510\t46\t1, 1, 1 (5S, 16S, 23S)\t3\r\n",
      "\n"
     ]
    }
   ],
   "source": [
    "f = file(\"/media/sf_j1/MAP/analyzed_data/avium_genome_features.tsv\")\n",
    "r = f.readlines()\n",
    "print len(r)\n",
    "print r[0]"
   ]
  },
  {
   "cell_type": "code",
   "execution_count": 3,
   "metadata": {
    "collapsed": false,
    "deletable": true,
    "editable": true
   },
   "outputs": [
    {
     "name": "stdout",
     "output_type": "stream",
     "text": [
      "gcf 188\n",
      "size 188\n",
      "cds 188\n",
      "Need_cal_num 0\n"
     ]
    }
   ],
   "source": [
    "gcf = []\n",
    "size = []\n",
    "cds = []\n",
    "\n",
    "need_cal_num = 0\n",
    "for x in r:\n",
    "    spl = x.split(\"\\t\")\n",
    "    if \"Need_calculate_manualy\" in spl[-1]:\n",
    "        need_cal_num += 1\n",
    "        continue\n",
    "    gcf.append(spl[1])\n",
    "    size.append( int(spl[2]) )\n",
    "    cds.append( int( \"\".join( spl[7].split(\",\") ) ) )\n",
    "    \n",
    "print \"gcf\", len(gcf)\n",
    "#print gcf\n",
    "print \"size\", len(size)\n",
    "#print size\n",
    "print \"cds\", len(cds)\n",
    "#print cds\n",
    "print \"Need_cal_num\", need_cal_num"
   ]
  },
  {
   "cell_type": "code",
   "execution_count": 4,
   "metadata": {
    "collapsed": false,
    "deletable": true,
    "editable": true
   },
   "outputs": [
    {
     "data": {
      "image/png": "[encoded data removed]",
      "text/plain": [
       "<matplotlib.figure.Figure at 0x7f429316c150>"
      ]
     },
     "metadata": {},
     "output_type": "display_data"
    }
   ],
   "source": [
    "name_figure = \"avium_size_cds_scatter\"\n",
    "\n",
    "plt.figure()\n",
    "plt.scatter(size, cds)\n",
    "plt.xlim( ( min(size) / 100000 - 1) * 100000, ( max(size) / 100000 + 1 ) * 100000 )\n",
    "plt.ylim( ( min(cds) / 100 - 1) * 100, (max(cds) / 100 + 1) * 100 )\n",
    "\n",
    "plt.savefig( name_figure + \".pdf\" )\n",
    "plt.savefig( name_figure + \".png\" )\n",
    "plt.savefig( name_figure + \".svg\" )\n",
    "plt.show()"
   ]
  },
  {
   "cell_type": "code",
   "execution_count": null,
   "metadata": {
    "collapsed": true
   },
   "outputs": [],
   "source": []
  }
 ],
 "metadata": {
  "kernelspec": {
   "display_name": "Python 2",
   "language": "python",
   "name": "python2"
  },
  "language_info": {
   "codemirror_mode": {
    "name": "ipython",
    "version": 2
   },
   "file_extension": ".py",
   "mimetype": "text/x-python",
   "name": "python",
   "nbconvert_exporter": "python",
   "pygments_lexer": "ipython2",
   "version": "2.7.12"
  }
 },
 "nbformat": 4,
 "nbformat_minor": 2
}
