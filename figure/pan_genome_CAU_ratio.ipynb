{
 "cells": [
  {
   "cell_type": "code",
   "execution_count": 2,
   "metadata": {
    "collapsed": true,
    "deletable": true,
    "editable": true
   },
   "outputs": [],
   "source": [
    "import os\n",
    "import collections\n",
    "from Bio import SeqIO\n",
    "dir_notebook = os.getenv( \"HOME\" )\n",
    "file_include = dir_notebook + \"/_include.ipynb\"\n",
    "%run $file_include"
   ]
  },
  {
   "cell_type": "code",
   "execution_count": 3,
   "metadata": {
    "collapsed": false,
    "deletable": true,
    "editable": true
   },
   "outputs": [
    {
     "name": "stdout",
     "output_type": "stream",
     "text": [
      "['REPSEQ_ACCESSORY.txt', 'REPSEQ_CORE.txt', 'REPSEQ_UNIQUE.txt']\n"
     ]
    }
   ],
   "source": [
    "dir_folder = \"/media/sf_j1/MAP/analyzed_data/avium_190/BPGA/Sequences/\"\n",
    "lst_files = os.listdir(dir_folder)\n",
    "lst_files.sort()\n",
    "\n",
    "temp_lst = []\n",
    "for x in lst_files:\n",
    "    if \"REPSEQ\" in x:\n",
    "        temp_lst.append(x)\n",
    "lst_files = temp_lst\n",
    "print lst_files"
   ]
  },
  {
   "cell_type": "code",
   "execution_count": 4,
   "metadata": {
    "collapsed": false,
    "deletable": true,
    "editable": true
   },
   "outputs": [
    {
     "name": "stdout",
     "output_type": "stream",
     "text": [
      "667 7622 3410\n"
     ]
    }
   ],
   "source": [
    "f = file(dir_folder + lst_files[1])\n",
    "core_ = len(f.readlines()) / 2\n",
    "f.close()\n",
    "\n",
    "f = file(dir_folder + lst_files[0])\n",
    "acce_ = len(f.readlines()) / 2\n",
    "f.close()\n",
    "\n",
    "f = file(dir_folder + lst_files[2])\n",
    "uniq_ = len(f.readlines()) / 2\n",
    "f.close()\n",
    "\n",
    "print core_, acce_, uniq_"
   ]
  },
  {
   "cell_type": "code",
   "execution_count": 5,
   "metadata": {
    "collapsed": false,
    "deletable": true,
    "editable": true,
    "scrolled": false
   },
   "outputs": [
    {
     "data": {
      "image/png": "[encoded data removed]",
      "text/plain": [
       "<matplotlib.figure.Figure at 0x7f8895c76650>"
      ]
     },
     "metadata": {},
     "output_type": "display_data"
    }
   ],
   "source": [
    "name_pie = \"avium_Core&Acce&Uniq_ratio\"\n",
    "\n",
    "dic_CAU_number = { \"Core\": core_, \"Accessory\": acce_, \"Unique\": uniq_ }\n",
    "lst_CAU_category = [ \"Core\", \"Accessory\", \"Unique\" ]\n",
    "lst_CAU_category_show = [ \"Core\", \"Accessory\", \"Unique\" ]\n",
    "lst_CAU_color = [ \"#D3865F\", \"#D1A961\",\"#CCCC66\" ]\n",
    "dic_CAU_color = { lst_CAU_category[ a ]: lst_CAU_color[ a ] for a in range( len( lst_CAU_category ) ) }\n",
    "\n",
    "fig = plt.figure( figsize = ( 10, 10 ) )\n",
    "\n",
    "lst_count = [ dic_CAU_number[ n ] for n in lst_CAU_category_show ]\n",
    "lst_color = [ dic_CAU_color[ m ] for m in lst_CAU_category_show ]\n",
    "\n",
    "plt.rcParams[ \"patch.linewidth\" ] = 0\n",
    "#plt.pie( lst_count, labels = lst_label, colors = lst_color, autopct = \"%1.0f%%\", startangle = 65, counterclock = False, explode = [ 0.01, 0.02, 0.02 ] )\n",
    "plt.pie( lst_count, labels = lst_CAU_category, colors = lst_color, autopct = \"%1.1f%%\", counterclock = False, startangle = 90, pctdistance = 1.2 )\n",
    "#plt.pie( lst_count, colors = lst_color, autopct = \"%1.2f%%\", counterclock = False, startangle = 90, pctdistance = 1.1 )\n",
    "\n",
    "plt.draw()\n",
    "plt.savefig( name_pie + \".pdf\" )\n",
    "plt.savefig( name_pie + \".png\" )\n",
    "plt.savefig( name_pie + \".svg\" )\n",
    "plt.show()"
   ]
  },
  {
   "cell_type": "code",
   "execution_count": null,
   "metadata": {
    "collapsed": true,
    "deletable": true,
    "editable": true
   },
   "outputs": [],
   "source": []
  }
 ],
 "metadata": {
  "kernelspec": {
   "display_name": "Python 2",
   "language": "python",
   "name": "python2"
  },
  "language_info": {
   "codemirror_mode": {
    "name": "ipython",
    "version": 2
   },
   "file_extension": ".py",
   "mimetype": "text/x-python",
   "name": "python",
   "nbconvert_exporter": "python",
   "pygments_lexer": "ipython2",
   "version": "2.7.12"
  }
 },
 "nbformat": 4,
 "nbformat_minor": 2
}
